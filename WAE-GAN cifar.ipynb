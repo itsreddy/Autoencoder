{
 "cells": [
  {
   "cell_type": "code",
   "execution_count": 5,
   "metadata": {
    "colab": {
     "base_uri": "https://localhost:8080/"
    },
    "executionInfo": {
     "elapsed": 646,
     "status": "ok",
     "timestamp": 1602091033969,
     "user": {
      "displayName": "Prashanth Reddy Duggirala",
      "photoUrl": "",
      "userId": "15292119504454868818"
     },
     "user_tz": 420
    },
    "id": "beReNERQxrn4",
    "outputId": "2d2ccc5b-d310-4117-e8c5-a1fd423ae3e4"
   },
   "outputs": [
    {
     "name": "stdout",
     "output_type": "stream",
     "text": [
      "Tue Mar  2 08:16:25 2021       \n",
      "+-----------------------------------------------------------------------------+\n",
      "| NVIDIA-SMI 450.102.04   Driver Version: 450.102.04   CUDA Version: 11.0     |\n",
      "|-------------------------------+----------------------+----------------------+\n",
      "| GPU  Name        Persistence-M| Bus-Id        Disp.A | Volatile Uncorr. ECC |\n",
      "| Fan  Temp  Perf  Pwr:Usage/Cap|         Memory-Usage | GPU-Util  Compute M. |\n",
      "|                               |                      |               MIG M. |\n",
      "|===============================+======================+======================|\n",
      "|   0  TITAN V             On   | 00000000:17:00.0 Off |                  N/A |\n",
      "| 28%   41C    P8    26W / 250W |      0MiB / 12066MiB |      0%      Default |\n"
     ]
    }
   ],
   "source": [
    "gpu_info = !nvidia-smi\n",
    "gpu_info = gpu_info[:10]\n",
    "gpu_info = '\\n'.join(gpu_info)\n",
    "print(gpu_info)"
   ]
  },
  {
   "cell_type": "code",
   "execution_count": 2,
   "metadata": {
    "colab": {
     "base_uri": "https://localhost:8080/"
    },
    "executionInfo": {
     "elapsed": 30783,
     "status": "ok",
     "timestamp": 1602091065961,
     "user": {
      "displayName": "Prashanth Reddy Duggirala",
      "photoUrl": "",
      "userId": "15292119504454868818"
     },
     "user_tz": 420
    },
    "id": "cNg4LfToibNh",
    "outputId": "5298c966-e415-4b4b-fe99-0cd9a038ada6"
   },
   "outputs": [
    {
     "name": "stdout",
     "output_type": "stream",
     "text": [
      "Mounted at /content/drive\n"
     ]
    }
   ],
   "source": [
    "from google.colab import drive\n",
    "drive.mount('/content/drive')"
   ]
  },
  {
   "cell_type": "code",
   "execution_count": 20,
   "metadata": {
    "executionInfo": {
     "elapsed": 15780,
     "status": "ok",
     "timestamp": 1602091069652,
     "user": {
      "displayName": "Prashanth Reddy Duggirala",
      "photoUrl": "",
      "userId": "15292119504454868818"
     },
     "user_tz": 420
    },
    "id": "QTYq7z4zAVqi"
   },
   "outputs": [],
   "source": [
    "import sys\n",
    "import torch\n",
    "import os\n",
    "import numpy as np\n",
    "import torch.nn as nn\n",
    "import torch.optim as optim\n",
    "\n",
    "from tqdm.notebook import tqdm_notebook as tq\n",
    "\n",
    "from torch.autograd import Variable\n",
    "from torchvision.transforms import transforms\n",
    "from torchvision.utils import save_image\n",
    "from torch.optim.lr_scheduler import StepLR\n",
    "from pytorch_model_summary import summary\n",
    "from tensorboardX import SummaryWriter"
   ]
  },
  {
   "cell_type": "code",
   "execution_count": 9,
   "metadata": {
    "executionInfo": {
     "elapsed": 15497,
     "status": "ok",
     "timestamp": 1602091069654,
     "user": {
      "displayName": "Prashanth Reddy Duggirala",
      "photoUrl": "",
      "userId": "15292119504454868818"
     },
     "user_tz": 420
    },
    "id": "0UsMvoDUMsYY"
   },
   "outputs": [],
   "source": [
    "from src.dataset.utils import SavePath\n",
    "from src.dataset.dataset import Cifar\n",
    "from src.config import TrainConfig\n",
    "from src.pytorch_msssim import MSSSIM, ssim"
   ]
  },
  {
   "cell_type": "code",
   "execution_count": 11,
   "metadata": {},
   "outputs": [],
   "source": [
    "base_path = !pwd\n",
    "base_path = base_path[0] + '/'"
   ]
  },
  {
   "cell_type": "code",
   "execution_count": 12,
   "metadata": {
    "executionInfo": {
     "elapsed": 15745,
     "status": "ok",
     "timestamp": 1602091073268,
     "user": {
      "displayName": "Prashanth Reddy Duggirala",
      "photoUrl": "",
      "userId": "15292119504454868818"
     },
     "user_tz": 420
    },
    "id": "7xVFNQemH1Ut"
   },
   "outputs": [],
   "source": [
    "args = TrainConfig( base_path,              # project directory path\n",
    "                    n_epochs = 200,         # number of epochs to train (default: 100)\n",
    "                    batch_size = 128,       # input batch size for training (default: 128)\n",
    "                    lr = 3e-4,            # learning rate (default: 0.0001)\n",
    "                    dim_h = 128,            # hidden dimension (default: 128)')\n",
    "                    n_z = 128,                # hidden dimension of z (default: 8)\n",
    "                    LAMBDA = 10,            # regularization coef term (default: 10)\n",
    "                    sigma = 1,              # variance of hidden dimension (default: 1)\n",
    "                    n_channel = 3,          # input channels (default: 1)\n",
    "                    img_size = 32 )         # image size"
   ]
  },
  {
   "cell_type": "code",
   "execution_count": 13,
   "metadata": {
    "executionInfo": {
     "elapsed": 724,
     "status": "ok",
     "timestamp": 1602091083791,
     "user": {
      "displayName": "Prashanth Reddy Duggirala",
      "photoUrl": "",
      "userId": "15292119504454868818"
     },
     "user_tz": 420
    },
    "id": "qQTUtK6rO7FH"
   },
   "outputs": [],
   "source": [
    "def unfreeze_params(module: nn.Module):\n",
    "    for p in module.parameters():\n",
    "        p.requires_grad = True\n",
    "\n",
    "def freeze_params(module: nn.Module):\n",
    "    for p in module.parameters():\n",
    "        p.requires_grad = False"
   ]
  },
  {
   "cell_type": "code",
   "execution_count": 14,
   "metadata": {
    "executionInfo": {
     "elapsed": 448,
     "status": "ok",
     "timestamp": 1602091083791,
     "user": {
      "displayName": "Prashanth Reddy Duggirala",
      "photoUrl": "",
      "userId": "15292119504454868818"
     },
     "user_tz": 420
    },
    "id": "aPuQFVPg5DHG"
   },
   "outputs": [],
   "source": [
    "def save_models(model_path, epoch_no, models):\n",
    "    print(\"Saving models\")\n",
    "    for model_name, model in models.items():\n",
    "        torch.save(model.state_dict(), model_path + model_name + \"_\" + \"%d.pth\" % epoch_no)\n",
    "\n",
    "def save_values_to_tensorboard(writer, epoch_no, values_dict: dict):\n",
    "    for name, val in values_dict.items():\n",
    "        if type(val) == dict:\n",
    "            writer.add_scalars(name, val, epoch_no)\n",
    "        else:\n",
    "            writer.add_scalar(name, val, epoch_no)\n",
    "\n",
    "def save_images_to_tensorboard(writer, epoch_no, image, imname='im'):\n",
    "    writer.add_image(imname +'_{}'.format(epoch_no), image, epoch_no)"
   ]
  },
  {
   "cell_type": "code",
   "execution_count": 15,
   "metadata": {
    "colab": {
     "base_uri": "https://localhost:8080/"
    },
    "executionInfo": {
     "elapsed": 454,
     "status": "ok",
     "timestamp": 1602091080986,
     "user": {
      "displayName": "Prashanth Reddy Duggirala",
      "photoUrl": "",
      "userId": "15292119504454868818"
     },
     "user_tz": 420
    },
    "id": "s-v5bfBhNBUb",
    "outputId": "aafd7b1b-c96a-4c4b-b733-76855e513f44"
   },
   "outputs": [
    {
     "name": "stdout",
     "output_type": "stream",
     "text": [
      "/home/pr/synth.data/Autoencoder/outs/Tue-Mar--2-08-21-21-2021/\n"
     ]
    }
   ],
   "source": [
    "sp = SavePath(args)"
   ]
  },
  {
   "cell_type": "code",
   "execution_count": 16,
   "metadata": {
    "colab": {
     "base_uri": "https://localhost:8080/"
    },
    "executionInfo": {
     "elapsed": 9406,
     "status": "ok",
     "timestamp": 1602091093007,
     "user": {
      "displayName": "Prashanth Reddy Duggirala",
      "photoUrl": "",
      "userId": "15292119504454868818"
     },
     "user_tz": 420
    },
    "id": "jxk-lNakOG53",
    "outputId": "d2354a1b-6a31-4801-d724-35342693c58f"
   },
   "outputs": [
    {
     "name": "stdout",
     "output_type": "stream",
     "text": [
      "Files already downloaded and verified\n",
      "Files already downloaded and verified\n"
     ]
    }
   ],
   "source": [
    "transform = None # dont normalize\n",
    "\n",
    "cdl = Cifar(args)\n",
    "train_loader = cdl.get_data_loader(True, transform, [0,1,2,3,4])\n",
    "test_loader = cdl.get_data_loader(False, transform, [0,1,2,3,4])"
   ]
  },
  {
   "cell_type": "code",
   "execution_count": 23,
   "metadata": {
    "executionInfo": {
     "elapsed": 7245,
     "status": "ok",
     "timestamp": 1602091093012,
     "user": {
      "displayName": "Prashanth Reddy Duggirala",
      "photoUrl": "",
      "userId": "15292119504454868818"
     },
     "user_tz": 420
    },
    "id": "ZGmUnjHmE29k"
   },
   "outputs": [],
   "source": [
    "from src.models.model_cifar import Encoder as ConvEncoder\n",
    "from src.models.model_cifar import Decoder as ConvDecoder\n",
    "from src.models.model_cifar import GanDiscriminator"
   ]
  },
  {
   "cell_type": "code",
   "execution_count": 44,
   "metadata": {
    "executionInfo": {
     "elapsed": 704,
     "status": "ok",
     "timestamp": 1602091093016,
     "user": {
      "displayName": "Prashanth Reddy Duggirala",
      "photoUrl": "",
      "userId": "15292119504454868818"
     },
     "user_tz": 420
    },
    "id": "eGAgniOw77yl"
   },
   "outputs": [],
   "source": [
    "class ZDiscriminator(nn.Module):\n",
    "    def __init__(self, args):\n",
    "        super(ZDiscriminator, self).__init__()\n",
    "\n",
    "        self.n_channel = args.n_channel\n",
    "        self.dim_h = args.dim_h\n",
    "        self.n_z = args.n_z\n",
    "\n",
    "        self.main = nn.Sequential(\n",
    "            nn.Linear(self.n_z, self.dim_h * 4),\n",
    "            nn.ReLU(True),\n",
    "            nn.Linear(self.dim_h * 4, self.dim_h * 4),\n",
    "            nn.ReLU(True),\n",
    "            nn.Linear(self.dim_h * 4, self.dim_h * 2),\n",
    "            nn.ReLU(True),\n",
    "            nn.Linear(self.dim_h * 2, self.dim_h // 2),\n",
    "            nn.ReLU(True),\n",
    "            nn.Linear(self.dim_h // 2, self.dim_h // 4),\n",
    "            nn.ReLU(True),\n",
    "            nn.Linear(self.dim_h // 4, 1),\n",
    "            nn.Sigmoid()\n",
    "        )\n",
    "\n",
    "    def forward(self, x):\n",
    "        x = self.main(x)\n",
    "        x = x.squeeze()\n",
    "        return x"
   ]
  },
  {
   "cell_type": "code",
   "execution_count": 45,
   "metadata": {
    "executionInfo": {
     "elapsed": 770,
     "status": "ok",
     "timestamp": 1602091093354,
     "user": {
      "displayName": "Prashanth Reddy Duggirala",
      "photoUrl": "",
      "userId": "15292119504454868818"
     },
     "user_tz": 420
    },
    "id": "nv3WFjukSGSh"
   },
   "outputs": [],
   "source": [
    "conv_encoder, conv_decoder = ConvEncoder(args).cuda(), ConvDecoder(args).cuda()\n",
    "gan_discriminator = GanDiscriminator(args).cuda()\n",
    "z_discriminator = ZDiscriminator(args).cuda()\n",
    "\n",
    "mse_loss_fn = nn.MSELoss().cuda()\n",
    "adversarial_loss_fn = nn.BCELoss().cuda()\n",
    "\n",
    "opt_encoder = optim.Adam(conv_encoder.parameters(), lr = args.lr)\n",
    "opt_decoder = optim.Adam(conv_decoder.parameters(), lr = args.lr)\n",
    "opt_discriminator = optim.Adam(gan_discriminator.parameters(), lr = args.lr)\n",
    "opt_zdiscriminator = optim.Adam(z_discriminator.parameters(), lr = args.lr)"
   ]
  },
  {
   "cell_type": "code",
   "execution_count": 46,
   "metadata": {},
   "outputs": [
    {
     "name": "stdout",
     "output_type": "stream",
     "text": [
      "-----------------------------------------------------------------------\n",
      "      Layer (type)         Input Shape         Param #     Tr. Param #\n",
      "=======================================================================\n",
      "          Linear-1         [1, 1, 128]          66,048          66,048\n",
      "            ReLU-2         [1, 1, 512]               0               0\n",
      "          Linear-3         [1, 1, 512]         262,656         262,656\n",
      "            ReLU-4         [1, 1, 512]               0               0\n",
      "          Linear-5         [1, 1, 512]         131,328         131,328\n",
      "            ReLU-6         [1, 1, 256]               0               0\n",
      "          Linear-7         [1, 1, 256]          16,448          16,448\n",
      "            ReLU-8          [1, 1, 64]               0               0\n",
      "          Linear-9          [1, 1, 64]           2,080           2,080\n",
      "           ReLU-10          [1, 1, 32]               0               0\n",
      "         Linear-11          [1, 1, 32]              33              33\n",
      "        Sigmoid-12           [1, 1, 1]               0               0\n",
      "=======================================================================\n",
      "Total params: 478,593\n",
      "Trainable params: 478,593\n",
      "Non-trainable params: 0\n",
      "-----------------------------------------------------------------------\n"
     ]
    }
   ],
   "source": [
    "print(summary(z_discriminator, torch.zeros((1, 1, 128)).cuda(), show_input=True, show_hierarchical=False))"
   ]
  },
  {
   "cell_type": "code",
   "execution_count": null,
   "metadata": {},
   "outputs": [],
   "source": [
    "def load_models(checkpoint_path, checkpoint):\n",
    "    lp = SavePath(args, checkpoint_path)\n",
    "    _, _, model_load_path = lp.get_save_paths()\n",
    "    conv_encoder.load_state_dict(torch.load(model_load_path + \"/conv_encoder_{}.pth\".format(checkpoint)))\n",
    "    conv_decoder.load_state_dict(torch.load(model_load_path + \"/conv_decoder_{}.pth\".format(checkpoint)))\n",
    "    gan_discriminator.load_state_dict(torch.load(model_load_path + \"/gan_discriminator_{}.pth\".format(checkpoint)))"
   ]
  },
  {
   "cell_type": "code",
   "execution_count": 19,
   "metadata": {
    "executionInfo": {
     "elapsed": 8728,
     "status": "ok",
     "timestamp": 1602091105400,
     "user": {
      "displayName": "Prashanth Reddy Duggirala",
      "photoUrl": "",
      "userId": "15292119504454868818"
     },
     "user_tz": 420
    },
    "id": "HR58ORJ862nP"
   },
   "outputs": [],
   "source": [
    "checkpoint = 0\n",
    "if checkpoint:\n",
    "    load_models('/home/pr/synth.data/Autoencoder/outs/Mon-Mar--1-12-35-57-2021/', checkpoint)\n",
    "\n",
    "reconstr_loss, disc_loss = [], []\n",
    "norms = []\n",
    "writer = SummaryWriter(log_dir = sp.results_path + \"logs\")"
   ]
  },
  {
   "cell_type": "code",
   "execution_count": null,
   "metadata": {},
   "outputs": [],
   "source": [
    "image_path, list_path, model_path = sp.get_save_paths()"
   ]
  },
  {
   "cell_type": "code",
   "execution_count": 18,
   "metadata": {
    "executionInfo": {
     "elapsed": 9151,
     "status": "ok",
     "timestamp": 1602091105056,
     "user": {
      "displayName": "Prashanth Reddy Duggirala",
      "photoUrl": "",
      "userId": "15292119504454868818"
     },
     "user_tz": 420
    },
    "id": "pSu3OG5wSdH3"
   },
   "outputs": [],
   "source": [
    "one = torch.tensor(1)\n",
    "mone = one * -1\n",
    "if torch.cuda.is_available():\n",
    "    one, mone = one.cuda(), mone.cuda()"
   ]
  },
  {
   "cell_type": "code",
   "execution_count": 20,
   "metadata": {
    "colab": {
     "base_uri": "https://localhost:8080/",
     "height": 613,
     "referenced_widgets": [
      "61b878a5233e4eaaa08a3c64e8ff90e1",
      "d4c1e5b9086a430094cb7734089737d8",
      "718003196463456db24b5f1cbf832df4",
      "0450d96456f842329c0091e5941b3fa6",
      "6ae7823b32204ba48b0be864669b2602",
      "252b759dde604586894e7ba4d61d356f",
      "089112d214f647e481e7bbae0b2e5675",
      "e8566e1586cb497497ab56154542db0e",
      "4ec77aec490e48a48902213af8f6e944",
      "efea0894a5e2478c8c4f190f23b54c91",
      "2847726baebe4b18ab4b8b2909467d66",
      "7e94ec81104142e8a5e302eddde54788",
      "381ea262e5364d88ac66837e026aefc6",
      "fc8c7fbae412487eb58edc72159a6d74",
      "6571a4d361cc4965b6d8e9ced9c5db29",
      "8fcdb7c7924e49df8b02ac4b6d6380dc",
      "dca652bc00ae4b019d67d43118b6f794",
      "31dd4a1810214b24bcb04e5a1e6844f4",
      "8c08a48825b34e2199668c5e6404cea6",
      "b3230a75d4ca49c481d26175dcef1478",
      "c4691b0a0dea4a69bff38f7eaf6e48e3",
      "4f6867b8f73e4378afe0570329caa640",
      "dfea5246e2fb4563b4029423a070222e",
      "29d935d15578476da1762a6e6743a1b3",
      "69c48b1112a548768e8dc2573cffb565",
      "288a1a04590c413388e87c05d5d86dee",
      "ce15eb5d46c143858a309b47bee96105",
      "b05a31a4a17a4a339bd5641d61cacc3c",
      "d331b4cfba19467f85ed3f46281f8ef4",
      "9d43bc4702774ac9ba757d0cbf12bc81",
      "be9ebe4893b84c3392212a9154e1e981",
      "707df31d91154630b3316a21b0a21f06"
     ]
    },
    "executionInfo": {
     "elapsed": 64910,
     "status": "error",
     "timestamp": 1602091167482,
     "user": {
      "displayName": "Prashanth Reddy Duggirala",
      "photoUrl": "",
      "userId": "15292119504454868818"
     },
     "user_tz": 420
    },
    "id": "-Bz9tkOsSdE1",
    "outputId": "3f5dde5f-6104-4a9e-f3e6-70fe11bb0867"
   },
   "outputs": [
    {
     "data": {
      "application/vnd.jupyter.widget-view+json": {
       "model_id": "61b878a5233e4eaaa08a3c64e8ff90e1",
       "version_major": 2,
       "version_minor": 0
      },
      "text/plain": [
       "HBox(children=(FloatProgress(value=1.0, bar_style='info', max=1.0), HTML(value='')))"
      ]
     },
     "metadata": {
      "tags": []
     },
     "output_type": "display_data"
    },
    {
     "name": "stdout",
     "output_type": "stream",
     "text": [
      "\n",
      "Epoch: [1/100], Recon Loss: [0.0702], Reg loss: [0.1205], D_fake: [0.0828], D_real: [0.1036], D_loss: [0.9791]\n"
     ]
    },
    {
     "data": {
      "application/vnd.jupyter.widget-view+json": {
       "model_id": "4ec77aec490e48a48902213af8f6e944",
       "version_major": 2,
       "version_minor": 0
      },
      "text/plain": [
       "HBox(children=(FloatProgress(value=1.0, bar_style='info', max=1.0), HTML(value='')))"
      ]
     },
     "metadata": {
      "tags": []
     },
     "output_type": "display_data"
    },
    {
     "name": "stdout",
     "output_type": "stream",
     "text": [
      "\n",
      "Epoch: [2/100], Recon Loss: [0.0470], Reg loss: [0.0000], D_fake: [0.0000], D_real: [0.0000], D_loss: [1.0000]\n"
     ]
    },
    {
     "data": {
      "application/vnd.jupyter.widget-view+json": {
       "model_id": "dca652bc00ae4b019d67d43118b6f794",
       "version_major": 2,
       "version_minor": 0
      },
      "text/plain": [
       "HBox(children=(FloatProgress(value=1.0, bar_style='info', max=1.0), HTML(value='')))"
      ]
     },
     "metadata": {
      "tags": []
     },
     "output_type": "display_data"
    },
    {
     "name": "stdout",
     "output_type": "stream",
     "text": [
      "\n",
      "Epoch: [3/100], Recon Loss: [0.0372], Reg loss: [0.0000], D_fake: [0.0000], D_real: [0.0000], D_loss: [1.0000]\n"
     ]
    },
    {
     "data": {
      "application/vnd.jupyter.widget-view+json": {
       "model_id": "69c48b1112a548768e8dc2573cffb565",
       "version_major": 2,
       "version_minor": 0
      },
      "text/plain": [
       "HBox(children=(FloatProgress(value=1.0, bar_style='info', max=1.0), HTML(value='')))"
      ]
     },
     "metadata": {
      "tags": []
     },
     "output_type": "display_data"
    },
    {
     "ename": "KeyboardInterrupt",
     "evalue": "ignored",
     "output_type": "error",
     "traceback": [
      "\u001b[0;31m---------------------------------------------------------------------------\u001b[0m",
      "\u001b[0;31mKeyboardInterrupt\u001b[0m                         Traceback (most recent call last)",
      "\u001b[0;32m<ipython-input-20-725de0761b89>\u001b[0m in \u001b[0;36m<module>\u001b[0;34m()\u001b[0m\n\u001b[1;32m      1\u001b[0m \u001b[0;32mfor\u001b[0m \u001b[0mepoch\u001b[0m \u001b[0;32min\u001b[0m \u001b[0mrange\u001b[0m\u001b[0;34m(\u001b[0m\u001b[0mcheckpoint\u001b[0m\u001b[0;34m,\u001b[0m \u001b[0mcheckpoint\u001b[0m\u001b[0;34m+\u001b[0m\u001b[0margs\u001b[0m\u001b[0;34m.\u001b[0m\u001b[0mn_epochs\u001b[0m\u001b[0;34m)\u001b[0m\u001b[0;34m:\u001b[0m\u001b[0;34m\u001b[0m\u001b[0;34m\u001b[0m\u001b[0m\n\u001b[0;32m----> 2\u001b[0;31m     \u001b[0;32mfor\u001b[0m \u001b[0mstep\u001b[0m\u001b[0;34m,\u001b[0m \u001b[0;34m(\u001b[0m\u001b[0mimages\u001b[0m\u001b[0;34m,\u001b[0m \u001b[0m_\u001b[0m\u001b[0;34m)\u001b[0m \u001b[0;32min\u001b[0m \u001b[0mtq\u001b[0m\u001b[0;34m(\u001b[0m\u001b[0menumerate\u001b[0m\u001b[0;34m(\u001b[0m\u001b[0mtrain_loader\u001b[0m\u001b[0;34m)\u001b[0m\u001b[0;34m)\u001b[0m\u001b[0;34m:\u001b[0m\u001b[0;34m\u001b[0m\u001b[0;34m\u001b[0m\u001b[0m\n\u001b[0m\u001b[1;32m      3\u001b[0m \u001b[0;34m\u001b[0m\u001b[0m\n\u001b[1;32m      4\u001b[0m         \u001b[0;32mif\u001b[0m \u001b[0mtorch\u001b[0m\u001b[0;34m.\u001b[0m\u001b[0mcuda\u001b[0m\u001b[0;34m.\u001b[0m\u001b[0mis_available\u001b[0m\u001b[0;34m(\u001b[0m\u001b[0;34m)\u001b[0m\u001b[0;34m:\u001b[0m\u001b[0;34m\u001b[0m\u001b[0;34m\u001b[0m\u001b[0m\n\u001b[1;32m      5\u001b[0m             \u001b[0mimages\u001b[0m \u001b[0;34m=\u001b[0m \u001b[0mimages\u001b[0m\u001b[0;34m.\u001b[0m\u001b[0mcuda\u001b[0m\u001b[0;34m(\u001b[0m\u001b[0;34m)\u001b[0m\u001b[0;34m\u001b[0m\u001b[0;34m\u001b[0m\u001b[0m\n",
      "\u001b[0;32m/usr/local/lib/python3.6/dist-packages/tqdm/notebook.py\u001b[0m in \u001b[0;36m__iter__\u001b[0;34m(self, *args, **kwargs)\u001b[0m\n\u001b[1;32m    213\u001b[0m     \u001b[0;32mdef\u001b[0m \u001b[0m__iter__\u001b[0m\u001b[0;34m(\u001b[0m\u001b[0mself\u001b[0m\u001b[0;34m,\u001b[0m \u001b[0;34m*\u001b[0m\u001b[0margs\u001b[0m\u001b[0;34m,\u001b[0m \u001b[0;34m**\u001b[0m\u001b[0mkwargs\u001b[0m\u001b[0;34m)\u001b[0m\u001b[0;34m:\u001b[0m\u001b[0;34m\u001b[0m\u001b[0;34m\u001b[0m\u001b[0m\n\u001b[1;32m    214\u001b[0m         \u001b[0;32mtry\u001b[0m\u001b[0;34m:\u001b[0m\u001b[0;34m\u001b[0m\u001b[0;34m\u001b[0m\u001b[0m\n\u001b[0;32m--> 215\u001b[0;31m             \u001b[0;32mfor\u001b[0m \u001b[0mobj\u001b[0m \u001b[0;32min\u001b[0m \u001b[0msuper\u001b[0m\u001b[0;34m(\u001b[0m\u001b[0mtqdm_notebook\u001b[0m\u001b[0;34m,\u001b[0m \u001b[0mself\u001b[0m\u001b[0;34m)\u001b[0m\u001b[0;34m.\u001b[0m\u001b[0m__iter__\u001b[0m\u001b[0;34m(\u001b[0m\u001b[0;34m*\u001b[0m\u001b[0margs\u001b[0m\u001b[0;34m,\u001b[0m \u001b[0;34m**\u001b[0m\u001b[0mkwargs\u001b[0m\u001b[0;34m)\u001b[0m\u001b[0;34m:\u001b[0m\u001b[0;34m\u001b[0m\u001b[0;34m\u001b[0m\u001b[0m\n\u001b[0m\u001b[1;32m    216\u001b[0m                 \u001b[0;31m# return super(tqdm...) will not catch exception\u001b[0m\u001b[0;34m\u001b[0m\u001b[0;34m\u001b[0m\u001b[0;34m\u001b[0m\u001b[0m\n\u001b[1;32m    217\u001b[0m                 \u001b[0;32myield\u001b[0m \u001b[0mobj\u001b[0m\u001b[0;34m\u001b[0m\u001b[0;34m\u001b[0m\u001b[0m\n",
      "\u001b[0;32m/usr/local/lib/python3.6/dist-packages/tqdm/std.py\u001b[0m in \u001b[0;36m__iter__\u001b[0;34m(self)\u001b[0m\n\u001b[1;32m   1102\u001b[0m                 fp_write=getattr(self.fp, 'write', sys.stderr.write))\n\u001b[1;32m   1103\u001b[0m \u001b[0;34m\u001b[0m\u001b[0m\n\u001b[0;32m-> 1104\u001b[0;31m         \u001b[0;32mfor\u001b[0m \u001b[0mobj\u001b[0m \u001b[0;32min\u001b[0m \u001b[0miterable\u001b[0m\u001b[0;34m:\u001b[0m\u001b[0;34m\u001b[0m\u001b[0;34m\u001b[0m\u001b[0m\n\u001b[0m\u001b[1;32m   1105\u001b[0m             \u001b[0;32myield\u001b[0m \u001b[0mobj\u001b[0m\u001b[0;34m\u001b[0m\u001b[0;34m\u001b[0m\u001b[0m\n\u001b[1;32m   1106\u001b[0m             \u001b[0;31m# Update and possibly print the progressbar.\u001b[0m\u001b[0;34m\u001b[0m\u001b[0;34m\u001b[0m\u001b[0;34m\u001b[0m\u001b[0m\n",
      "\u001b[0;32m/usr/local/lib/python3.6/dist-packages/torch/utils/data/dataloader.py\u001b[0m in \u001b[0;36m__next__\u001b[0;34m(self)\u001b[0m\n\u001b[1;32m    361\u001b[0m \u001b[0;34m\u001b[0m\u001b[0m\n\u001b[1;32m    362\u001b[0m     \u001b[0;32mdef\u001b[0m \u001b[0m__next__\u001b[0m\u001b[0;34m(\u001b[0m\u001b[0mself\u001b[0m\u001b[0;34m)\u001b[0m\u001b[0;34m:\u001b[0m\u001b[0;34m\u001b[0m\u001b[0;34m\u001b[0m\u001b[0m\n\u001b[0;32m--> 363\u001b[0;31m         \u001b[0mdata\u001b[0m \u001b[0;34m=\u001b[0m \u001b[0mself\u001b[0m\u001b[0;34m.\u001b[0m\u001b[0m_next_data\u001b[0m\u001b[0;34m(\u001b[0m\u001b[0;34m)\u001b[0m\u001b[0;34m\u001b[0m\u001b[0;34m\u001b[0m\u001b[0m\n\u001b[0m\u001b[1;32m    364\u001b[0m         \u001b[0mself\u001b[0m\u001b[0;34m.\u001b[0m\u001b[0m_num_yielded\u001b[0m \u001b[0;34m+=\u001b[0m \u001b[0;36m1\u001b[0m\u001b[0;34m\u001b[0m\u001b[0;34m\u001b[0m\u001b[0m\n\u001b[1;32m    365\u001b[0m         \u001b[0;32mif\u001b[0m \u001b[0mself\u001b[0m\u001b[0;34m.\u001b[0m\u001b[0m_dataset_kind\u001b[0m \u001b[0;34m==\u001b[0m \u001b[0m_DatasetKind\u001b[0m\u001b[0;34m.\u001b[0m\u001b[0mIterable\u001b[0m \u001b[0;32mand\u001b[0m\u001b[0;31m \u001b[0m\u001b[0;31m\\\u001b[0m\u001b[0;34m\u001b[0m\u001b[0;34m\u001b[0m\u001b[0m\n",
      "\u001b[0;32m/usr/local/lib/python3.6/dist-packages/torch/utils/data/dataloader.py\u001b[0m in \u001b[0;36m_next_data\u001b[0;34m(self)\u001b[0m\n\u001b[1;32m    401\u001b[0m     \u001b[0;32mdef\u001b[0m \u001b[0m_next_data\u001b[0m\u001b[0;34m(\u001b[0m\u001b[0mself\u001b[0m\u001b[0;34m)\u001b[0m\u001b[0;34m:\u001b[0m\u001b[0;34m\u001b[0m\u001b[0;34m\u001b[0m\u001b[0m\n\u001b[1;32m    402\u001b[0m         \u001b[0mindex\u001b[0m \u001b[0;34m=\u001b[0m \u001b[0mself\u001b[0m\u001b[0;34m.\u001b[0m\u001b[0m_next_index\u001b[0m\u001b[0;34m(\u001b[0m\u001b[0;34m)\u001b[0m  \u001b[0;31m# may raise StopIteration\u001b[0m\u001b[0;34m\u001b[0m\u001b[0;34m\u001b[0m\u001b[0m\n\u001b[0;32m--> 403\u001b[0;31m         \u001b[0mdata\u001b[0m \u001b[0;34m=\u001b[0m \u001b[0mself\u001b[0m\u001b[0;34m.\u001b[0m\u001b[0m_dataset_fetcher\u001b[0m\u001b[0;34m.\u001b[0m\u001b[0mfetch\u001b[0m\u001b[0;34m(\u001b[0m\u001b[0mindex\u001b[0m\u001b[0;34m)\u001b[0m  \u001b[0;31m# may raise StopIteration\u001b[0m\u001b[0;34m\u001b[0m\u001b[0;34m\u001b[0m\u001b[0m\n\u001b[0m\u001b[1;32m    404\u001b[0m         \u001b[0;32mif\u001b[0m \u001b[0mself\u001b[0m\u001b[0;34m.\u001b[0m\u001b[0m_pin_memory\u001b[0m\u001b[0;34m:\u001b[0m\u001b[0;34m\u001b[0m\u001b[0;34m\u001b[0m\u001b[0m\n\u001b[1;32m    405\u001b[0m             \u001b[0mdata\u001b[0m \u001b[0;34m=\u001b[0m \u001b[0m_utils\u001b[0m\u001b[0;34m.\u001b[0m\u001b[0mpin_memory\u001b[0m\u001b[0;34m.\u001b[0m\u001b[0mpin_memory\u001b[0m\u001b[0;34m(\u001b[0m\u001b[0mdata\u001b[0m\u001b[0;34m)\u001b[0m\u001b[0;34m\u001b[0m\u001b[0;34m\u001b[0m\u001b[0m\n",
      "\u001b[0;32m/usr/local/lib/python3.6/dist-packages/torch/utils/data/_utils/fetch.py\u001b[0m in \u001b[0;36mfetch\u001b[0;34m(self, possibly_batched_index)\u001b[0m\n\u001b[1;32m     42\u001b[0m     \u001b[0;32mdef\u001b[0m \u001b[0mfetch\u001b[0m\u001b[0;34m(\u001b[0m\u001b[0mself\u001b[0m\u001b[0;34m,\u001b[0m \u001b[0mpossibly_batched_index\u001b[0m\u001b[0;34m)\u001b[0m\u001b[0;34m:\u001b[0m\u001b[0;34m\u001b[0m\u001b[0;34m\u001b[0m\u001b[0m\n\u001b[1;32m     43\u001b[0m         \u001b[0;32mif\u001b[0m \u001b[0mself\u001b[0m\u001b[0;34m.\u001b[0m\u001b[0mauto_collation\u001b[0m\u001b[0;34m:\u001b[0m\u001b[0;34m\u001b[0m\u001b[0;34m\u001b[0m\u001b[0m\n\u001b[0;32m---> 44\u001b[0;31m             \u001b[0mdata\u001b[0m \u001b[0;34m=\u001b[0m \u001b[0;34m[\u001b[0m\u001b[0mself\u001b[0m\u001b[0;34m.\u001b[0m\u001b[0mdataset\u001b[0m\u001b[0;34m[\u001b[0m\u001b[0midx\u001b[0m\u001b[0;34m]\u001b[0m \u001b[0;32mfor\u001b[0m \u001b[0midx\u001b[0m \u001b[0;32min\u001b[0m \u001b[0mpossibly_batched_index\u001b[0m\u001b[0;34m]\u001b[0m\u001b[0;34m\u001b[0m\u001b[0;34m\u001b[0m\u001b[0m\n\u001b[0m\u001b[1;32m     45\u001b[0m         \u001b[0;32melse\u001b[0m\u001b[0;34m:\u001b[0m\u001b[0;34m\u001b[0m\u001b[0;34m\u001b[0m\u001b[0m\n\u001b[1;32m     46\u001b[0m             \u001b[0mdata\u001b[0m \u001b[0;34m=\u001b[0m \u001b[0mself\u001b[0m\u001b[0;34m.\u001b[0m\u001b[0mdataset\u001b[0m\u001b[0;34m[\u001b[0m\u001b[0mpossibly_batched_index\u001b[0m\u001b[0;34m]\u001b[0m\u001b[0;34m\u001b[0m\u001b[0;34m\u001b[0m\u001b[0m\n",
      "\u001b[0;32m/usr/local/lib/python3.6/dist-packages/torch/utils/data/_utils/fetch.py\u001b[0m in \u001b[0;36m<listcomp>\u001b[0;34m(.0)\u001b[0m\n\u001b[1;32m     42\u001b[0m     \u001b[0;32mdef\u001b[0m \u001b[0mfetch\u001b[0m\u001b[0;34m(\u001b[0m\u001b[0mself\u001b[0m\u001b[0;34m,\u001b[0m \u001b[0mpossibly_batched_index\u001b[0m\u001b[0;34m)\u001b[0m\u001b[0;34m:\u001b[0m\u001b[0;34m\u001b[0m\u001b[0;34m\u001b[0m\u001b[0m\n\u001b[1;32m     43\u001b[0m         \u001b[0;32mif\u001b[0m \u001b[0mself\u001b[0m\u001b[0;34m.\u001b[0m\u001b[0mauto_collation\u001b[0m\u001b[0;34m:\u001b[0m\u001b[0;34m\u001b[0m\u001b[0;34m\u001b[0m\u001b[0m\n\u001b[0;32m---> 44\u001b[0;31m             \u001b[0mdata\u001b[0m \u001b[0;34m=\u001b[0m \u001b[0;34m[\u001b[0m\u001b[0mself\u001b[0m\u001b[0;34m.\u001b[0m\u001b[0mdataset\u001b[0m\u001b[0;34m[\u001b[0m\u001b[0midx\u001b[0m\u001b[0;34m]\u001b[0m \u001b[0;32mfor\u001b[0m \u001b[0midx\u001b[0m \u001b[0;32min\u001b[0m \u001b[0mpossibly_batched_index\u001b[0m\u001b[0;34m]\u001b[0m\u001b[0;34m\u001b[0m\u001b[0;34m\u001b[0m\u001b[0m\n\u001b[0m\u001b[1;32m     45\u001b[0m         \u001b[0;32melse\u001b[0m\u001b[0;34m:\u001b[0m\u001b[0;34m\u001b[0m\u001b[0;34m\u001b[0m\u001b[0m\n\u001b[1;32m     46\u001b[0m             \u001b[0mdata\u001b[0m \u001b[0;34m=\u001b[0m \u001b[0mself\u001b[0m\u001b[0;34m.\u001b[0m\u001b[0mdataset\u001b[0m\u001b[0;34m[\u001b[0m\u001b[0mpossibly_batched_index\u001b[0m\u001b[0;34m]\u001b[0m\u001b[0;34m\u001b[0m\u001b[0;34m\u001b[0m\u001b[0m\n",
      "\u001b[0;32m/usr/local/lib/python3.6/dist-packages/torchvision/datasets/cifar.py\u001b[0m in \u001b[0;36m__getitem__\u001b[0;34m(self, index)\u001b[0m\n\u001b[1;32m    111\u001b[0m \u001b[0;34m\u001b[0m\u001b[0m\n\u001b[1;32m    112\u001b[0m         \u001b[0;32mif\u001b[0m \u001b[0mself\u001b[0m\u001b[0;34m.\u001b[0m\u001b[0mtransform\u001b[0m \u001b[0;32mis\u001b[0m \u001b[0;32mnot\u001b[0m \u001b[0;32mNone\u001b[0m\u001b[0;34m:\u001b[0m\u001b[0;34m\u001b[0m\u001b[0;34m\u001b[0m\u001b[0m\n\u001b[0;32m--> 113\u001b[0;31m             \u001b[0mimg\u001b[0m \u001b[0;34m=\u001b[0m \u001b[0mself\u001b[0m\u001b[0;34m.\u001b[0m\u001b[0mtransform\u001b[0m\u001b[0;34m(\u001b[0m\u001b[0mimg\u001b[0m\u001b[0;34m)\u001b[0m\u001b[0;34m\u001b[0m\u001b[0;34m\u001b[0m\u001b[0m\n\u001b[0m\u001b[1;32m    114\u001b[0m \u001b[0;34m\u001b[0m\u001b[0m\n\u001b[1;32m    115\u001b[0m         \u001b[0;32mif\u001b[0m \u001b[0mself\u001b[0m\u001b[0;34m.\u001b[0m\u001b[0mtarget_transform\u001b[0m \u001b[0;32mis\u001b[0m \u001b[0;32mnot\u001b[0m \u001b[0;32mNone\u001b[0m\u001b[0;34m:\u001b[0m\u001b[0;34m\u001b[0m\u001b[0;34m\u001b[0m\u001b[0m\n",
      "\u001b[0;32m/usr/local/lib/python3.6/dist-packages/torchvision/transforms/transforms.py\u001b[0m in \u001b[0;36m__call__\u001b[0;34m(self, pic)\u001b[0m\n\u001b[1;32m     90\u001b[0m             \u001b[0mTensor\u001b[0m\u001b[0;34m:\u001b[0m \u001b[0mConverted\u001b[0m \u001b[0mimage\u001b[0m\u001b[0;34m.\u001b[0m\u001b[0;34m\u001b[0m\u001b[0;34m\u001b[0m\u001b[0m\n\u001b[1;32m     91\u001b[0m         \"\"\"\n\u001b[0;32m---> 92\u001b[0;31m         \u001b[0;32mreturn\u001b[0m \u001b[0mF\u001b[0m\u001b[0;34m.\u001b[0m\u001b[0mto_tensor\u001b[0m\u001b[0;34m(\u001b[0m\u001b[0mpic\u001b[0m\u001b[0;34m)\u001b[0m\u001b[0;34m\u001b[0m\u001b[0;34m\u001b[0m\u001b[0m\n\u001b[0m\u001b[1;32m     93\u001b[0m \u001b[0;34m\u001b[0m\u001b[0m\n\u001b[1;32m     94\u001b[0m     \u001b[0;32mdef\u001b[0m \u001b[0m__repr__\u001b[0m\u001b[0;34m(\u001b[0m\u001b[0mself\u001b[0m\u001b[0;34m)\u001b[0m\u001b[0;34m:\u001b[0m\u001b[0;34m\u001b[0m\u001b[0;34m\u001b[0m\u001b[0m\n",
      "\u001b[0;32m/usr/local/lib/python3.6/dist-packages/torchvision/transforms/functional.py\u001b[0m in \u001b[0;36mto_tensor\u001b[0;34m(pic)\u001b[0m\n\u001b[1;32m     76\u001b[0m         \u001b[0mimg\u001b[0m \u001b[0;34m=\u001b[0m \u001b[0;36m255\u001b[0m \u001b[0;34m*\u001b[0m \u001b[0mtorch\u001b[0m\u001b[0;34m.\u001b[0m\u001b[0mfrom_numpy\u001b[0m\u001b[0;34m(\u001b[0m\u001b[0mnp\u001b[0m\u001b[0;34m.\u001b[0m\u001b[0marray\u001b[0m\u001b[0;34m(\u001b[0m\u001b[0mpic\u001b[0m\u001b[0;34m,\u001b[0m \u001b[0mnp\u001b[0m\u001b[0;34m.\u001b[0m\u001b[0muint8\u001b[0m\u001b[0;34m,\u001b[0m \u001b[0mcopy\u001b[0m\u001b[0;34m=\u001b[0m\u001b[0;32mFalse\u001b[0m\u001b[0;34m)\u001b[0m\u001b[0;34m)\u001b[0m\u001b[0;34m\u001b[0m\u001b[0;34m\u001b[0m\u001b[0m\n\u001b[1;32m     77\u001b[0m     \u001b[0;32melse\u001b[0m\u001b[0;34m:\u001b[0m\u001b[0;34m\u001b[0m\u001b[0;34m\u001b[0m\u001b[0m\n\u001b[0;32m---> 78\u001b[0;31m         \u001b[0mimg\u001b[0m \u001b[0;34m=\u001b[0m \u001b[0mtorch\u001b[0m\u001b[0;34m.\u001b[0m\u001b[0mByteTensor\u001b[0m\u001b[0;34m(\u001b[0m\u001b[0mtorch\u001b[0m\u001b[0;34m.\u001b[0m\u001b[0mByteStorage\u001b[0m\u001b[0;34m.\u001b[0m\u001b[0mfrom_buffer\u001b[0m\u001b[0;34m(\u001b[0m\u001b[0mpic\u001b[0m\u001b[0;34m.\u001b[0m\u001b[0mtobytes\u001b[0m\u001b[0;34m(\u001b[0m\u001b[0;34m)\u001b[0m\u001b[0;34m)\u001b[0m\u001b[0;34m)\u001b[0m\u001b[0;34m\u001b[0m\u001b[0;34m\u001b[0m\u001b[0m\n\u001b[0m\u001b[1;32m     79\u001b[0m \u001b[0;34m\u001b[0m\u001b[0m\n\u001b[1;32m     80\u001b[0m     \u001b[0mimg\u001b[0m \u001b[0;34m=\u001b[0m \u001b[0mimg\u001b[0m\u001b[0;34m.\u001b[0m\u001b[0mview\u001b[0m\u001b[0;34m(\u001b[0m\u001b[0mpic\u001b[0m\u001b[0;34m.\u001b[0m\u001b[0msize\u001b[0m\u001b[0;34m[\u001b[0m\u001b[0;36m1\u001b[0m\u001b[0;34m]\u001b[0m\u001b[0;34m,\u001b[0m \u001b[0mpic\u001b[0m\u001b[0;34m.\u001b[0m\u001b[0msize\u001b[0m\u001b[0;34m[\u001b[0m\u001b[0;36m0\u001b[0m\u001b[0;34m]\u001b[0m\u001b[0;34m,\u001b[0m \u001b[0mlen\u001b[0m\u001b[0;34m(\u001b[0m\u001b[0mpic\u001b[0m\u001b[0;34m.\u001b[0m\u001b[0mgetbands\u001b[0m\u001b[0;34m(\u001b[0m\u001b[0;34m)\u001b[0m\u001b[0;34m)\u001b[0m\u001b[0;34m)\u001b[0m\u001b[0;34m\u001b[0m\u001b[0;34m\u001b[0m\u001b[0m\n",
      "\u001b[0;31mKeyboardInterrupt\u001b[0m: "
     ]
    }
   ],
   "source": [
    "# Adversarial ground truths\n",
    "ones = Variable(torch.cuda.FloatTensor(batch_size, 1).fill_(1.0), requires_grad=False) # real\n",
    "zeros = Variable(torch.cuda.FloatTensor(batch_size, 1).fill_(0.0), requires_grad=False) # fake\n",
    "\n",
    "for epoch in range(checkpoint, checkpoint+args.n_epochs):\n",
    "    for step, (images, _) in tq(enumerate(train_loader)):\n",
    "        \n",
    "        current_batch_size = images.size()[0]        \n",
    "        images = images.cuda()\n",
    "\n",
    "        encoder.zero_grad()\n",
    "        decoder.zero_grad()\n",
    "        z_discriminator.zero_grad()\n",
    "\n",
    "        # ======== Train Discriminator ======== #\n",
    "\n",
    "#         freeze_params(decoder)\n",
    "#         freeze_params(encoder)\n",
    "        unfreeze_params(z_discriminator)\n",
    "\n",
    "        z_prior = torch.randn(current_batch_size, args.n_z).cuda()\n",
    "        d_prior = z_discriminator(z_prior)\n",
    "        z_real = encoder(images)\n",
    "        d_real = z_discriminator(z_real.detach())\n",
    "\n",
    "        # negate for gradient ascent\n",
    "#         d_loss = -(torch.log(d_fake).mean() + torch.log(1 - d_real).mean())\n",
    "#         d_loss = d_prior.mean() + (1 - d_real).mean()\n",
    "        d_loss = adversarial_loss_fn(d_prior, ones) + adversarial_loss_fn(d_real, zeros)\n",
    "\n",
    "        disc_loss.append(d_loss.item())\n",
    "\n",
    "        d_loss.backward()\n",
    "\n",
    "        opt_discriminator.step()\n",
    "\n",
    "\n",
    "        # ======== Train Generator ======== #\n",
    "\n",
    "#         unfreeze_params(decoder)\n",
    "#         unfreeze_params(encoder)\n",
    "        freeze_params(discriminator)\n",
    "\n",
    "#         z_real = encoder(images)\n",
    "        x_recon = decoder(z_real)\n",
    "        d_real = discriminator(encoder(Variable(images.data)))\n",
    "\n",
    "        d_real_val.append(d_real.mean().item())\n",
    "        # recon_loss = criterion(x_recon, images) - (args.LAMBDA * (torch.log(d_real)).mean())\n",
    "\n",
    "        recon_loss = criterion(x_recon, images)\n",
    "        # d_loss = args.LAMBDA * (torch.log(d_real)).mean()\n",
    "        d_loss = args.LAMBDA * (d_real).mean()\n",
    "\n",
    "        reconstr_loss.append(recon_loss.data.item())\n",
    "\n",
    "        recon_loss.backward()\n",
    "        d_loss.backward()\n",
    "\n",
    "        enc_optim.step()\n",
    "        dec_optim.step()\n",
    "\n",
    "    if (epoch + 1) % 1 == 0:\n",
    "        temp = np.mean(disc_loss, axis=0)\n",
    "        print(\"Epoch: [%d/%d], Recon Loss: [%.4f], Reg loss: [%.4f], D_fake: [%.4f], D_real: [%.4f], D_loss: [%.4f]\" %\n",
    "                (epoch + 1, args.n_epochs, \n",
    "                 np.mean(reconstr_loss), np.mean(d_real_val), temp[0], temp[1], temp[2]))\n",
    "        disc_loss.clear()\n",
    "        d_real_val.clear()\n",
    "\n",
    "    if (epoch + 1) % 1 == 0:\n",
    "\n",
    "        reconstr_loss_epoch.append(np.mean(reconstr_loss))\n",
    "        reconstr_loss.clear()\n",
    "\n",
    "        batch_size = 128\n",
    "        test_iter = iter(test_loader)\n",
    "        test_data = next(test_iter)\n",
    "\n",
    "        z_real = encoder(Variable(test_data[0]).cuda())\n",
    "        reconst = decoder(z_real).cpu().view(batch_size, 3, 32, 32)\n",
    "        sample = decoder(torch.randn_like(z_real)).cpu().view(batch_size, 3, 32, 32)\n",
    "\n",
    "        image = torch.cat((test_data[0].view(batch_size, 3, 32, 32), \n",
    "                                reconst.data), axis=3)\n",
    "        \n",
    "        save_image(image, image_path +\n",
    "                                '/inputs_reconstr_{}.png'.format(epoch+1), normalize = True)\n",
    "        \n",
    "        save_image(sample, image_path + \n",
    "                                '/sample_{}.png'.format(epoch+1), normalize = True)\n",
    "\n",
    "    if (epoch + 1) % 25 == 0:\n",
    "        save_models(model_path, epoch+1, encoder, decoder, discriminator)\n",
    "        save_lists(list_path, epoch+1, reconstr_loss_epoch)"
   ]
  },
  {
   "cell_type": "code",
   "execution_count": 76,
   "metadata": {
    "colab": {
     "base_uri": "https://localhost:8080/"
    },
    "executionInfo": {
     "elapsed": 480,
     "status": "ok",
     "timestamp": 1602025108860,
     "user": {
      "displayName": "Prashanth Reddy Duggirala",
      "photoUrl": "",
      "userId": "15292119504454868818"
     },
     "user_tz": 420
    },
    "id": "O_LCiBCm62km",
    "outputId": "a0c029c9-be94-4c4e-807a-1795c08e35ad"
   },
   "outputs": [
    {
     "data": {
      "text/plain": [
       "[]"
      ]
     },
     "execution_count": 76,
     "metadata": {
      "tags": []
     },
     "output_type": "execute_result"
    }
   ],
   "source": [
    "reconstr_loss"
   ]
  },
  {
   "cell_type": "code",
   "execution_count": null,
   "metadata": {
    "colab": {
     "base_uri": "https://localhost:8080/",
     "height": 203
    },
    "executionInfo": {
     "elapsed": 413,
     "status": "error",
     "timestamp": 1600461305261,
     "user": {
      "displayName": "Prashanth Reddy Duggirala",
      "photoUrl": "",
      "userId": "15292119504454868818"
     },
     "user_tz": 420
    },
    "id": "kQcbfKoJ6Hth",
    "outputId": "ccf6afa0-08b3-411c-bb87-5eb8360453be"
   },
   "outputs": [
    {
     "ename": "RuntimeError",
     "evalue": "ignored",
     "output_type": "error",
     "traceback": [
      "\u001b[0;31m---------------------------------------------------------------------------\u001b[0m",
      "\u001b[0;31mRuntimeError\u001b[0m                              Traceback (most recent call last)",
      "\u001b[0;32m<ipython-input-47-615ca6efaca1>\u001b[0m in \u001b[0;36m<module>\u001b[0;34m()\u001b[0m\n\u001b[1;32m      1\u001b[0m \u001b[0mz_real\u001b[0m \u001b[0;34m=\u001b[0m \u001b[0mencoder\u001b[0m\u001b[0;34m(\u001b[0m\u001b[0mVariable\u001b[0m\u001b[0;34m(\u001b[0m\u001b[0mtest_data\u001b[0m\u001b[0;34m[\u001b[0m\u001b[0;36m0\u001b[0m\u001b[0;34m]\u001b[0m\u001b[0;34m)\u001b[0m\u001b[0;34m.\u001b[0m\u001b[0mcuda\u001b[0m\u001b[0;34m(\u001b[0m\u001b[0;34m)\u001b[0m\u001b[0;34m)\u001b[0m\u001b[0;34m\u001b[0m\u001b[0;34m\u001b[0m\u001b[0m\n\u001b[0;32m----> 2\u001b[0;31m \u001b[0mreconst\u001b[0m \u001b[0;34m=\u001b[0m \u001b[0mdecoder\u001b[0m\u001b[0;34m(\u001b[0m\u001b[0mz_real\u001b[0m\u001b[0;34m)\u001b[0m\u001b[0;34m.\u001b[0m\u001b[0mcpu\u001b[0m\u001b[0;34m(\u001b[0m\u001b[0;34m)\u001b[0m\u001b[0;34m.\u001b[0m\u001b[0mview\u001b[0m\u001b[0;34m(\u001b[0m\u001b[0;36m100\u001b[0m\u001b[0;34m,\u001b[0m \u001b[0;36m1\u001b[0m\u001b[0;34m,\u001b[0m \u001b[0;36m28\u001b[0m\u001b[0;34m,\u001b[0m \u001b[0;36m28\u001b[0m\u001b[0;34m)\u001b[0m\u001b[0;34m\u001b[0m\u001b[0;34m\u001b[0m\u001b[0m\n\u001b[0m\u001b[1;32m      3\u001b[0m \u001b[0msample\u001b[0m \u001b[0;34m=\u001b[0m \u001b[0mdecoder\u001b[0m\u001b[0;34m(\u001b[0m\u001b[0mtorch\u001b[0m\u001b[0;34m.\u001b[0m\u001b[0mrandn_like\u001b[0m\u001b[0;34m(\u001b[0m\u001b[0mz_real\u001b[0m\u001b[0;34m)\u001b[0m\u001b[0;34m)\u001b[0m\u001b[0;34m.\u001b[0m\u001b[0mcpu\u001b[0m\u001b[0;34m(\u001b[0m\u001b[0;34m)\u001b[0m\u001b[0;34m.\u001b[0m\u001b[0mview\u001b[0m\u001b[0;34m(\u001b[0m\u001b[0;36m100\u001b[0m\u001b[0;34m,\u001b[0m \u001b[0;36m1\u001b[0m\u001b[0;34m,\u001b[0m \u001b[0;36m28\u001b[0m\u001b[0;34m,\u001b[0m \u001b[0;36m28\u001b[0m\u001b[0;34m)\u001b[0m\u001b[0;34m\u001b[0m\u001b[0;34m\u001b[0m\u001b[0m\n",
      "\u001b[0;31mRuntimeError\u001b[0m: shape '[100, 1, 28, 28]' is invalid for input of size 100352"
     ]
    }
   ],
   "source": [
    "z_real = encoder(Variable(test_data[0]).cuda())        \n",
    "reconst = decoder(z_real).cpu().view(batch_size, 1, 28, 28)\n",
    "sample = decoder(torch.randn_like(z_real)).cpu().view(batch_size, 1, 28, 28)"
   ]
  },
  {
   "cell_type": "code",
   "execution_count": null,
   "metadata": {
    "id": "sQkEWvZlVXPp"
   },
   "outputs": [],
   "source": [
    "image = torch.cat((test_data[0].view(batch_size, 1, 28, 28), \n",
    "                                reconst.data), axis=3)"
   ]
  },
  {
   "cell_type": "code",
   "execution_count": null,
   "metadata": {
    "colab": {
     "base_uri": "https://localhost:8080/",
     "height": 35
    },
    "executionInfo": {
     "elapsed": 507,
     "status": "ok",
     "timestamp": 1600461030004,
     "user": {
      "displayName": "Prashanth Reddy Duggirala",
      "photoUrl": "",
      "userId": "15292119504454868818"
     },
     "user_tz": 420
    },
    "id": "HqC8292mahTG",
    "outputId": "2b0ba44f-bf7a-4f85-9420-fac7853a2b5f"
   },
   "outputs": [
    {
     "data": {
      "text/plain": [
       "torch.Size([128, 1, 28, 56])"
      ]
     },
     "execution_count": 41,
     "metadata": {
      "tags": []
     },
     "output_type": "execute_result"
    }
   ],
   "source": [
    "image.shape"
   ]
  },
  {
   "cell_type": "code",
   "execution_count": null,
   "metadata": {
    "id": "-ngmQOf0VXSk"
   },
   "outputs": [],
   "source": [
    "np.mean(disc_loss, axis=0)"
   ]
  },
  {
   "cell_type": "code",
   "execution_count": null,
   "metadata": {
    "colab": {
     "base_uri": "https://localhost:8080/",
     "height": 1000,
     "output_embedded_package_id": "1Ab-JSC68IAWVNhfFYOQ-uMkC_t_yaR4H"
    },
    "executionInfo": {
     "elapsed": 8207,
     "status": "ok",
     "timestamp": 1601492958910,
     "user": {
      "displayName": "Prashanth Reddy Duggirala",
      "photoUrl": "",
      "userId": "15292119504454868818"
     },
     "user_tz": 420
    },
    "id": "PTKhwox_s4IH",
    "outputId": "ac3eb467-afd5-469c-c3fc-5ebbdf8bc86b"
   },
   "outputs": [
    {
     "data": {
      "text/plain": [
       "Output hidden; open in https://colab.research.google.com to view."
      ]
     },
     "metadata": {},
     "output_type": "display_data"
    }
   ],
   "source": [
    "disc_loss[0]"
   ]
  },
  {
   "cell_type": "code",
   "execution_count": 3,
   "metadata": {
    "id": "qWQpH6NsydRl"
   },
   "outputs": [],
   "source": [
    "# encoder block (used in encoder and discriminator)\n",
    "class EncoderBlock(nn.Module):\n",
    "    def __init__(self, channel_in, channel_out):\n",
    "        super(EncoderBlock, self).__init__()\n",
    "        # convolution to halve the dimensions\n",
    "        self.conv = nn.Conv2d(in_channels=channel_in, out_channels=channel_out, kernel_size=5, padding=2, stride=2,\n",
    "                              bias=False)\n",
    "        self.bn = nn.BatchNorm2d(num_features=channel_out, momentum=0.9)\n",
    "\n",
    "    def forward(self, ten, out=False,t = False):\n",
    "        # here we want to be able to take an intermediate output for reconstruction error\n",
    "        if out:\n",
    "            ten = self.conv(ten)\n",
    "            ten_out = ten\n",
    "            ten = self.bn(ten)\n",
    "            ten = F.relu(ten, False)\n",
    "            return ten, ten_out\n",
    "        else:\n",
    "            ten = self.conv(ten)\n",
    "            ten = self.bn(ten)\n",
    "            ten = F.relu(ten, True)\n",
    "            return ten\n",
    "\n",
    "\n",
    "# decoder block (used in the decoder)\n",
    "class DecoderBlock(nn.Module):\n",
    "    def __init__(self, channel_in, channel_out):\n",
    "        super(DecoderBlock, self).__init__()\n",
    "        # transpose convolution to double the dimensions\n",
    "        self.conv = nn.ConvTranspose2d(channel_in, channel_out, kernel_size=5, padding=2, stride=2, output_padding=1,\n",
    "                                       bias=False)\n",
    "        self.bn = nn.BatchNorm2d(channel_out, momentum=0.9)\n",
    "\n",
    "    def forward(self, ten):\n",
    "        ten = self.conv(ten)\n",
    "        ten = self.bn(ten)\n",
    "        ten = F.relu(ten, True)\n",
    "        return ten\n",
    "\n",
    "\n",
    "class Encoder(nn.Module):\n",
    "    def __init__(self, channel_in=3, z_size=128):\n",
    "        super(Encoder, self).__init__()\n",
    "        self.size = channel_in\n",
    "        layers_list = []\n",
    "        # the first time 3->64, for every other double the channel size\n",
    "        for i in range(3):\n",
    "            if i == 0:\n",
    "                layers_list.append(EncoderBlock(channel_in=self.size, channel_out=64))\n",
    "                self.size = 64\n",
    "            else:\n",
    "                layers_list.append(EncoderBlock(channel_in=self.size, channel_out=self.size * 2))\n",
    "                self.size *= 2\n",
    "\n",
    "        # final shape Bx256x8x8\n",
    "        self.conv = nn.Sequential(*layers_list)\n",
    "        self.fc = nn.Sequential(nn.Linear(in_features=8 * 8 * self.size, out_features=1024, bias=False),\n",
    "                                nn.BatchNorm1d(num_features=1024,momentum=0.9),\n",
    "                                nn.ReLU(True))\n",
    "        # two linear to get the mu vector and the diagonal of the log_variance\n",
    "        self.l_mu = nn.Linear(in_features=1024, out_features=z_size)\n",
    "        self.l_var = nn.Linear(in_features=1024, out_features=z_size)\n",
    "\n",
    "    def forward(self, ten):\n",
    "        ten = self.conv(ten)\n",
    "        ten = ten.view(len(ten), -1)\n",
    "        ten = self.fc(ten)\n",
    "        mu = self.l_mu(ten)\n",
    "        logvar = self.l_var(ten)\n",
    "        return mu, logvar\n",
    "\n",
    "    def __call__(self, *args, **kwargs):\n",
    "        return super(Encoder, self).__call__(*args, **kwargs)\n",
    "\n",
    "\n",
    "class Decoder(nn.Module):\n",
    "    def __init__(self, z_size, size):\n",
    "        super(Decoder, self).__init__()\n",
    "        # start from B*z_size\n",
    "        self.fc = nn.Sequential(nn.Linear(in_features=z_size, out_features=8 * 8 * size, bias=False),\n",
    "                                nn.BatchNorm1d(num_features=8 * 8 * size,momentum=0.9),\n",
    "                                nn.ReLU(True))\n",
    "        self.size = size\n",
    "        layers_list = []\n",
    "        layers_list.append(DecoderBlock(channel_in=self.size, channel_out=self.size))\n",
    "        layers_list.append(DecoderBlock(channel_in=self.size, channel_out=self.size//2))\n",
    "        self.size = self.size//2\n",
    "        layers_list.append(DecoderBlock(channel_in=self.size, channel_out=self.size//4))\n",
    "        self.size = self.size//4\n",
    "        # final conv to get 3 channels and tanh layer\n",
    "        layers_list.append(nn.Sequential(\n",
    "            nn.Conv2d(in_channels=self.size, out_channels=3, kernel_size=5, stride=1, padding=2),\n",
    "            nn.Tanh()\n",
    "        ))\n",
    "\n",
    "        self.conv = nn.Sequential(*layers_list)\n",
    "\n",
    "    def forward(self, ten):\n",
    "\n",
    "        ten = self.fc(ten)\n",
    "        ten = ten.view(len(ten), -1, 8, 8)\n",
    "        ten = self.conv(ten)\n",
    "        return ten\n",
    "\n",
    "    def __call__(self, *args, **kwargs):\n",
    "        return super(Decoder, self).__call__(*args, **kwargs)\n",
    "\n",
    "\n",
    "class Discriminator(nn.Module):\n",
    "    def __init__(self, channel_in=3,recon_level=3):\n",
    "        super(Discriminator, self).__init__()\n",
    "        self.size = channel_in\n",
    "        self.recon_levl = recon_level\n",
    "        # module list because we need need to extract an intermediate output\n",
    "        self.conv = nn.ModuleList()\n",
    "        self.conv.append(nn.Sequential(\n",
    "            nn.Conv2d(in_channels=3, out_channels=32, kernel_size=5, stride=1, padding=2),\n",
    "            nn.ReLU(inplace=True)))\n",
    "        self.size = 32\n",
    "        self.conv.append(EncoderBlock(channel_in=self.size, channel_out=128))\n",
    "        self.size = 128\n",
    "        self.conv.append(EncoderBlock(channel_in=self.size, channel_out=256))\n",
    "        self.size = 256\n",
    "        self.conv.append(EncoderBlock(channel_in=self.size, channel_out=256))\n",
    "        # final fc to get the score (real or fake)\n",
    "        self.fc = nn.Sequential(\n",
    "            nn.Linear(in_features=8 * 8 * self.size, out_features=512, bias=False),\n",
    "            nn.BatchNorm1d(num_features=512,momentum=0.9),\n",
    "            nn.ReLU(inplace=True),\n",
    "            nn.Linear(in_features=512, out_features=1),\n",
    "        )\n",
    "\n",
    "    def forward(self, ten_orig, ten_predicted, ten_sampled, mode='REC'):\n",
    "        if mode == \"REC\":\n",
    "            ten = torch.cat((ten_orig, ten_predicted, ten_sampled), 0)\n",
    "            for i, lay in enumerate(self.conv):\n",
    "                # we take the 9th layer as one of the outputs\n",
    "                if i == self.recon_levl:\n",
    "                    ten, layer_ten = lay(ten, True)\n",
    "                    # we need the layer representations just for the original and reconstructed,\n",
    "                    # flatten, because it's a convolutional shape\n",
    "                    layer_ten = layer_ten.view(len(layer_ten), -1)\n",
    "                    return layer_ten\n",
    "                else:\n",
    "                    ten = lay(ten)\n",
    "        else:\n",
    "            ten = torch.cat((ten_orig, ten_predicted, ten_sampled), 0)\n",
    "            for i, lay in enumerate(self.conv):\n",
    "                    ten = lay(ten)\n",
    "\n",
    "            ten = ten.view(len(ten), -1)\n",
    "            ten = self.fc(ten)\n",
    "            return F.sigmoid(ten)\n",
    "\n",
    "\n",
    "    def __call__(self, *args, **kwargs):\n",
    "        return super(Discriminator, self).__call__(*args, **kwargs)"
   ]
  },
  {
   "cell_type": "code",
   "execution_count": 4,
   "metadata": {},
   "outputs": [],
   "source": [
    "disc = Discriminator()"
   ]
  },
  {
   "cell_type": "code",
   "execution_count": null,
   "metadata": {},
   "outputs": [],
   "source": [
    "# print(summary(conv_encoder, torch.zeros((1, 3, 32, 32)).cuda(), show_input=False, show_hierarchical=False))\n",
    "# print(summary(conv_decoder, torch.zeros((1, 1, 100)).cuda(), show_input=False, show_hierarchical=False))\n",
    "print(summary(disc, torch.zeros((1, 1, 32, 32)).cuda(), show_input=False, show_hierarchical=False))"
   ]
  }
 ],
 "metadata": {
  "accelerator": "GPU",
  "colab": {
   "collapsed_sections": [],
   "name": "Copy of WAE-GAN.ipynb",
   "provenance": []
  },
  "kernelspec": {
   "display_name": "Python 3",
   "language": "python",
   "name": "python3"
  },
  "language_info": {
   "codemirror_mode": {
    "name": "ipython",
    "version": 3
   },
   "file_extension": ".py",
   "mimetype": "text/x-python",
   "name": "python",
   "nbconvert_exporter": "python",
   "pygments_lexer": "ipython3",
   "version": "3.7.9"
  },
  "widgets": {
   "application/vnd.jupyter.widget-state+json": {
    "0450d96456f842329c0091e5941b3fa6": {
     "model_module": "@jupyter-widgets/controls",
     "model_name": "HTMLModel",
     "state": {
      "_dom_classes": [],
      "_model_module": "@jupyter-widgets/controls",
      "_model_module_version": "1.5.0",
      "_model_name": "HTMLModel",
      "_view_count": null,
      "_view_module": "@jupyter-widgets/controls",
      "_view_module_version": "1.5.0",
      "_view_name": "HTMLView",
      "description": "",
      "description_tooltip": null,
      "layout": "IPY_MODEL_e8566e1586cb497497ab56154542db0e",
      "placeholder": "​",
      "style": "IPY_MODEL_089112d214f647e481e7bbae0b2e5675",
      "value": " 391/? [00:18&lt;00:00, 20.59it/s]"
     }
    },
    "089112d214f647e481e7bbae0b2e5675": {
     "model_module": "@jupyter-widgets/controls",
     "model_name": "DescriptionStyleModel",
     "state": {
      "_model_module": "@jupyter-widgets/controls",
      "_model_module_version": "1.5.0",
      "_model_name": "DescriptionStyleModel",
      "_view_count": null,
      "_view_module": "@jupyter-widgets/base",
      "_view_module_version": "1.2.0",
      "_view_name": "StyleView",
      "description_width": ""
     }
    },
    "252b759dde604586894e7ba4d61d356f": {
     "model_module": "@jupyter-widgets/base",
     "model_name": "LayoutModel",
     "state": {
      "_model_module": "@jupyter-widgets/base",
      "_model_module_version": "1.2.0",
      "_model_name": "LayoutModel",
      "_view_count": null,
      "_view_module": "@jupyter-widgets/base",
      "_view_module_version": "1.2.0",
      "_view_name": "LayoutView",
      "align_content": null,
      "align_items": null,
      "align_self": null,
      "border": null,
      "bottom": null,
      "display": null,
      "flex": null,
      "flex_flow": null,
      "grid_area": null,
      "grid_auto_columns": null,
      "grid_auto_flow": null,
      "grid_auto_rows": null,
      "grid_column": null,
      "grid_gap": null,
      "grid_row": null,
      "grid_template_areas": null,
      "grid_template_columns": null,
      "grid_template_rows": null,
      "height": null,
      "justify_content": null,
      "justify_items": null,
      "left": null,
      "margin": null,
      "max_height": null,
      "max_width": null,
      "min_height": null,
      "min_width": null,
      "object_fit": null,
      "object_position": null,
      "order": null,
      "overflow": null,
      "overflow_x": null,
      "overflow_y": null,
      "padding": null,
      "right": null,
      "top": null,
      "visibility": null,
      "width": null
     }
    },
    "2847726baebe4b18ab4b8b2909467d66": {
     "model_module": "@jupyter-widgets/controls",
     "model_name": "FloatProgressModel",
     "state": {
      "_dom_classes": [],
      "_model_module": "@jupyter-widgets/controls",
      "_model_module_version": "1.5.0",
      "_model_name": "FloatProgressModel",
      "_view_count": null,
      "_view_module": "@jupyter-widgets/controls",
      "_view_module_version": "1.5.0",
      "_view_name": "ProgressView",
      "bar_style": "success",
      "description": "",
      "description_tooltip": null,
      "layout": "IPY_MODEL_fc8c7fbae412487eb58edc72159a6d74",
      "max": 1,
      "min": 0,
      "orientation": "horizontal",
      "style": "IPY_MODEL_381ea262e5364d88ac66837e026aefc6",
      "value": 1
     }
    },
    "288a1a04590c413388e87c05d5d86dee": {
     "model_module": "@jupyter-widgets/base",
     "model_name": "LayoutModel",
     "state": {
      "_model_module": "@jupyter-widgets/base",
      "_model_module_version": "1.2.0",
      "_model_name": "LayoutModel",
      "_view_count": null,
      "_view_module": "@jupyter-widgets/base",
      "_view_module_version": "1.2.0",
      "_view_name": "LayoutView",
      "align_content": null,
      "align_items": null,
      "align_self": null,
      "border": null,
      "bottom": null,
      "display": null,
      "flex": null,
      "flex_flow": null,
      "grid_area": null,
      "grid_auto_columns": null,
      "grid_auto_flow": null,
      "grid_auto_rows": null,
      "grid_column": null,
      "grid_gap": null,
      "grid_row": null,
      "grid_template_areas": null,
      "grid_template_columns": null,
      "grid_template_rows": null,
      "height": null,
      "justify_content": null,
      "justify_items": null,
      "left": null,
      "margin": null,
      "max_height": null,
      "max_width": null,
      "min_height": null,
      "min_width": null,
      "object_fit": null,
      "object_position": null,
      "order": null,
      "overflow": null,
      "overflow_x": null,
      "overflow_y": null,
      "padding": null,
      "right": null,
      "top": null,
      "visibility": null,
      "width": null
     }
    },
    "29d935d15578476da1762a6e6743a1b3": {
     "model_module": "@jupyter-widgets/base",
     "model_name": "LayoutModel",
     "state": {
      "_model_module": "@jupyter-widgets/base",
      "_model_module_version": "1.2.0",
      "_model_name": "LayoutModel",
      "_view_count": null,
      "_view_module": "@jupyter-widgets/base",
      "_view_module_version": "1.2.0",
      "_view_name": "LayoutView",
      "align_content": null,
      "align_items": null,
      "align_self": null,
      "border": null,
      "bottom": null,
      "display": null,
      "flex": null,
      "flex_flow": null,
      "grid_area": null,
      "grid_auto_columns": null,
      "grid_auto_flow": null,
      "grid_auto_rows": null,
      "grid_column": null,
      "grid_gap": null,
      "grid_row": null,
      "grid_template_areas": null,
      "grid_template_columns": null,
      "grid_template_rows": null,
      "height": null,
      "justify_content": null,
      "justify_items": null,
      "left": null,
      "margin": null,
      "max_height": null,
      "max_width": null,
      "min_height": null,
      "min_width": null,
      "object_fit": null,
      "object_position": null,
      "order": null,
      "overflow": null,
      "overflow_x": null,
      "overflow_y": null,
      "padding": null,
      "right": null,
      "top": null,
      "visibility": null,
      "width": null
     }
    },
    "31dd4a1810214b24bcb04e5a1e6844f4": {
     "model_module": "@jupyter-widgets/base",
     "model_name": "LayoutModel",
     "state": {
      "_model_module": "@jupyter-widgets/base",
      "_model_module_version": "1.2.0",
      "_model_name": "LayoutModel",
      "_view_count": null,
      "_view_module": "@jupyter-widgets/base",
      "_view_module_version": "1.2.0",
      "_view_name": "LayoutView",
      "align_content": null,
      "align_items": null,
      "align_self": null,
      "border": null,
      "bottom": null,
      "display": null,
      "flex": null,
      "flex_flow": null,
      "grid_area": null,
      "grid_auto_columns": null,
      "grid_auto_flow": null,
      "grid_auto_rows": null,
      "grid_column": null,
      "grid_gap": null,
      "grid_row": null,
      "grid_template_areas": null,
      "grid_template_columns": null,
      "grid_template_rows": null,
      "height": null,
      "justify_content": null,
      "justify_items": null,
      "left": null,
      "margin": null,
      "max_height": null,
      "max_width": null,
      "min_height": null,
      "min_width": null,
      "object_fit": null,
      "object_position": null,
      "order": null,
      "overflow": null,
      "overflow_x": null,
      "overflow_y": null,
      "padding": null,
      "right": null,
      "top": null,
      "visibility": null,
      "width": null
     }
    },
    "381ea262e5364d88ac66837e026aefc6": {
     "model_module": "@jupyter-widgets/controls",
     "model_name": "ProgressStyleModel",
     "state": {
      "_model_module": "@jupyter-widgets/controls",
      "_model_module_version": "1.5.0",
      "_model_name": "ProgressStyleModel",
      "_view_count": null,
      "_view_module": "@jupyter-widgets/base",
      "_view_module_version": "1.2.0",
      "_view_name": "StyleView",
      "bar_color": null,
      "description_width": "initial"
     }
    },
    "4ec77aec490e48a48902213af8f6e944": {
     "model_module": "@jupyter-widgets/controls",
     "model_name": "HBoxModel",
     "state": {
      "_dom_classes": [],
      "_model_module": "@jupyter-widgets/controls",
      "_model_module_version": "1.5.0",
      "_model_name": "HBoxModel",
      "_view_count": null,
      "_view_module": "@jupyter-widgets/controls",
      "_view_module_version": "1.5.0",
      "_view_name": "HBoxView",
      "box_style": "",
      "children": [
       "IPY_MODEL_2847726baebe4b18ab4b8b2909467d66",
       "IPY_MODEL_7e94ec81104142e8a5e302eddde54788"
      ],
      "layout": "IPY_MODEL_efea0894a5e2478c8c4f190f23b54c91"
     }
    },
    "4f6867b8f73e4378afe0570329caa640": {
     "model_module": "@jupyter-widgets/base",
     "model_name": "LayoutModel",
     "state": {
      "_model_module": "@jupyter-widgets/base",
      "_model_module_version": "1.2.0",
      "_model_name": "LayoutModel",
      "_view_count": null,
      "_view_module": "@jupyter-widgets/base",
      "_view_module_version": "1.2.0",
      "_view_name": "LayoutView",
      "align_content": null,
      "align_items": null,
      "align_self": null,
      "border": null,
      "bottom": null,
      "display": null,
      "flex": null,
      "flex_flow": null,
      "grid_area": null,
      "grid_auto_columns": null,
      "grid_auto_flow": null,
      "grid_auto_rows": null,
      "grid_column": null,
      "grid_gap": null,
      "grid_row": null,
      "grid_template_areas": null,
      "grid_template_columns": null,
      "grid_template_rows": null,
      "height": null,
      "justify_content": null,
      "justify_items": null,
      "left": null,
      "margin": null,
      "max_height": null,
      "max_width": null,
      "min_height": null,
      "min_width": null,
      "object_fit": null,
      "object_position": null,
      "order": null,
      "overflow": null,
      "overflow_x": null,
      "overflow_y": null,
      "padding": null,
      "right": null,
      "top": null,
      "visibility": null,
      "width": null
     }
    },
    "61b878a5233e4eaaa08a3c64e8ff90e1": {
     "model_module": "@jupyter-widgets/controls",
     "model_name": "HBoxModel",
     "state": {
      "_dom_classes": [],
      "_model_module": "@jupyter-widgets/controls",
      "_model_module_version": "1.5.0",
      "_model_name": "HBoxModel",
      "_view_count": null,
      "_view_module": "@jupyter-widgets/controls",
      "_view_module_version": "1.5.0",
      "_view_name": "HBoxView",
      "box_style": "",
      "children": [
       "IPY_MODEL_718003196463456db24b5f1cbf832df4",
       "IPY_MODEL_0450d96456f842329c0091e5941b3fa6"
      ],
      "layout": "IPY_MODEL_d4c1e5b9086a430094cb7734089737d8"
     }
    },
    "6571a4d361cc4965b6d8e9ced9c5db29": {
     "model_module": "@jupyter-widgets/controls",
     "model_name": "DescriptionStyleModel",
     "state": {
      "_model_module": "@jupyter-widgets/controls",
      "_model_module_version": "1.5.0",
      "_model_name": "DescriptionStyleModel",
      "_view_count": null,
      "_view_module": "@jupyter-widgets/base",
      "_view_module_version": "1.2.0",
      "_view_name": "StyleView",
      "description_width": ""
     }
    },
    "69c48b1112a548768e8dc2573cffb565": {
     "model_module": "@jupyter-widgets/controls",
     "model_name": "HBoxModel",
     "state": {
      "_dom_classes": [],
      "_model_module": "@jupyter-widgets/controls",
      "_model_module_version": "1.5.0",
      "_model_name": "HBoxModel",
      "_view_count": null,
      "_view_module": "@jupyter-widgets/controls",
      "_view_module_version": "1.5.0",
      "_view_name": "HBoxView",
      "box_style": "",
      "children": [
       "IPY_MODEL_ce15eb5d46c143858a309b47bee96105",
       "IPY_MODEL_b05a31a4a17a4a339bd5641d61cacc3c"
      ],
      "layout": "IPY_MODEL_288a1a04590c413388e87c05d5d86dee"
     }
    },
    "6ae7823b32204ba48b0be864669b2602": {
     "model_module": "@jupyter-widgets/controls",
     "model_name": "ProgressStyleModel",
     "state": {
      "_model_module": "@jupyter-widgets/controls",
      "_model_module_version": "1.5.0",
      "_model_name": "ProgressStyleModel",
      "_view_count": null,
      "_view_module": "@jupyter-widgets/base",
      "_view_module_version": "1.2.0",
      "_view_name": "StyleView",
      "bar_color": null,
      "description_width": "initial"
     }
    },
    "707df31d91154630b3316a21b0a21f06": {
     "model_module": "@jupyter-widgets/base",
     "model_name": "LayoutModel",
     "state": {
      "_model_module": "@jupyter-widgets/base",
      "_model_module_version": "1.2.0",
      "_model_name": "LayoutModel",
      "_view_count": null,
      "_view_module": "@jupyter-widgets/base",
      "_view_module_version": "1.2.0",
      "_view_name": "LayoutView",
      "align_content": null,
      "align_items": null,
      "align_self": null,
      "border": null,
      "bottom": null,
      "display": null,
      "flex": null,
      "flex_flow": null,
      "grid_area": null,
      "grid_auto_columns": null,
      "grid_auto_flow": null,
      "grid_auto_rows": null,
      "grid_column": null,
      "grid_gap": null,
      "grid_row": null,
      "grid_template_areas": null,
      "grid_template_columns": null,
      "grid_template_rows": null,
      "height": null,
      "justify_content": null,
      "justify_items": null,
      "left": null,
      "margin": null,
      "max_height": null,
      "max_width": null,
      "min_height": null,
      "min_width": null,
      "object_fit": null,
      "object_position": null,
      "order": null,
      "overflow": null,
      "overflow_x": null,
      "overflow_y": null,
      "padding": null,
      "right": null,
      "top": null,
      "visibility": null,
      "width": null
     }
    },
    "718003196463456db24b5f1cbf832df4": {
     "model_module": "@jupyter-widgets/controls",
     "model_name": "FloatProgressModel",
     "state": {
      "_dom_classes": [],
      "_model_module": "@jupyter-widgets/controls",
      "_model_module_version": "1.5.0",
      "_model_name": "FloatProgressModel",
      "_view_count": null,
      "_view_module": "@jupyter-widgets/controls",
      "_view_module_version": "1.5.0",
      "_view_name": "ProgressView",
      "bar_style": "success",
      "description": "",
      "description_tooltip": null,
      "layout": "IPY_MODEL_252b759dde604586894e7ba4d61d356f",
      "max": 1,
      "min": 0,
      "orientation": "horizontal",
      "style": "IPY_MODEL_6ae7823b32204ba48b0be864669b2602",
      "value": 1
     }
    },
    "7e94ec81104142e8a5e302eddde54788": {
     "model_module": "@jupyter-widgets/controls",
     "model_name": "HTMLModel",
     "state": {
      "_dom_classes": [],
      "_model_module": "@jupyter-widgets/controls",
      "_model_module_version": "1.5.0",
      "_model_name": "HTMLModel",
      "_view_count": null,
      "_view_module": "@jupyter-widgets/controls",
      "_view_module_version": "1.5.0",
      "_view_name": "HTMLView",
      "description": "",
      "description_tooltip": null,
      "layout": "IPY_MODEL_8fcdb7c7924e49df8b02ac4b6d6380dc",
      "placeholder": "​",
      "style": "IPY_MODEL_6571a4d361cc4965b6d8e9ced9c5db29",
      "value": " 391/? [00:19&lt;00:00, 20.51it/s]"
     }
    },
    "8c08a48825b34e2199668c5e6404cea6": {
     "model_module": "@jupyter-widgets/controls",
     "model_name": "FloatProgressModel",
     "state": {
      "_dom_classes": [],
      "_model_module": "@jupyter-widgets/controls",
      "_model_module_version": "1.5.0",
      "_model_name": "FloatProgressModel",
      "_view_count": null,
      "_view_module": "@jupyter-widgets/controls",
      "_view_module_version": "1.5.0",
      "_view_name": "ProgressView",
      "bar_style": "success",
      "description": "",
      "description_tooltip": null,
      "layout": "IPY_MODEL_4f6867b8f73e4378afe0570329caa640",
      "max": 1,
      "min": 0,
      "orientation": "horizontal",
      "style": "IPY_MODEL_c4691b0a0dea4a69bff38f7eaf6e48e3",
      "value": 1
     }
    },
    "8fcdb7c7924e49df8b02ac4b6d6380dc": {
     "model_module": "@jupyter-widgets/base",
     "model_name": "LayoutModel",
     "state": {
      "_model_module": "@jupyter-widgets/base",
      "_model_module_version": "1.2.0",
      "_model_name": "LayoutModel",
      "_view_count": null,
      "_view_module": "@jupyter-widgets/base",
      "_view_module_version": "1.2.0",
      "_view_name": "LayoutView",
      "align_content": null,
      "align_items": null,
      "align_self": null,
      "border": null,
      "bottom": null,
      "display": null,
      "flex": null,
      "flex_flow": null,
      "grid_area": null,
      "grid_auto_columns": null,
      "grid_auto_flow": null,
      "grid_auto_rows": null,
      "grid_column": null,
      "grid_gap": null,
      "grid_row": null,
      "grid_template_areas": null,
      "grid_template_columns": null,
      "grid_template_rows": null,
      "height": null,
      "justify_content": null,
      "justify_items": null,
      "left": null,
      "margin": null,
      "max_height": null,
      "max_width": null,
      "min_height": null,
      "min_width": null,
      "object_fit": null,
      "object_position": null,
      "order": null,
      "overflow": null,
      "overflow_x": null,
      "overflow_y": null,
      "padding": null,
      "right": null,
      "top": null,
      "visibility": null,
      "width": null
     }
    },
    "9d43bc4702774ac9ba757d0cbf12bc81": {
     "model_module": "@jupyter-widgets/base",
     "model_name": "LayoutModel",
     "state": {
      "_model_module": "@jupyter-widgets/base",
      "_model_module_version": "1.2.0",
      "_model_name": "LayoutModel",
      "_view_count": null,
      "_view_module": "@jupyter-widgets/base",
      "_view_module_version": "1.2.0",
      "_view_name": "LayoutView",
      "align_content": null,
      "align_items": null,
      "align_self": null,
      "border": null,
      "bottom": null,
      "display": null,
      "flex": null,
      "flex_flow": null,
      "grid_area": null,
      "grid_auto_columns": null,
      "grid_auto_flow": null,
      "grid_auto_rows": null,
      "grid_column": null,
      "grid_gap": null,
      "grid_row": null,
      "grid_template_areas": null,
      "grid_template_columns": null,
      "grid_template_rows": null,
      "height": null,
      "justify_content": null,
      "justify_items": null,
      "left": null,
      "margin": null,
      "max_height": null,
      "max_width": null,
      "min_height": null,
      "min_width": null,
      "object_fit": null,
      "object_position": null,
      "order": null,
      "overflow": null,
      "overflow_x": null,
      "overflow_y": null,
      "padding": null,
      "right": null,
      "top": null,
      "visibility": null,
      "width": null
     }
    },
    "b05a31a4a17a4a339bd5641d61cacc3c": {
     "model_module": "@jupyter-widgets/controls",
     "model_name": "HTMLModel",
     "state": {
      "_dom_classes": [],
      "_model_module": "@jupyter-widgets/controls",
      "_model_module_version": "1.5.0",
      "_model_name": "HTMLModel",
      "_view_count": null,
      "_view_module": "@jupyter-widgets/controls",
      "_view_module_version": "1.5.0",
      "_view_name": "HTMLView",
      "description": "",
      "description_tooltip": null,
      "layout": "IPY_MODEL_707df31d91154630b3316a21b0a21f06",
      "placeholder": "​",
      "style": "IPY_MODEL_be9ebe4893b84c3392212a9154e1e981",
      "value": " 50/? [00:20&lt;00:00, 20.57it/s]"
     }
    },
    "b3230a75d4ca49c481d26175dcef1478": {
     "model_module": "@jupyter-widgets/controls",
     "model_name": "HTMLModel",
     "state": {
      "_dom_classes": [],
      "_model_module": "@jupyter-widgets/controls",
      "_model_module_version": "1.5.0",
      "_model_name": "HTMLModel",
      "_view_count": null,
      "_view_module": "@jupyter-widgets/controls",
      "_view_module_version": "1.5.0",
      "_view_name": "HTMLView",
      "description": "",
      "description_tooltip": null,
      "layout": "IPY_MODEL_29d935d15578476da1762a6e6743a1b3",
      "placeholder": "​",
      "style": "IPY_MODEL_dfea5246e2fb4563b4029423a070222e",
      "value": " 391/? [00:18&lt;00:00, 20.61it/s]"
     }
    },
    "be9ebe4893b84c3392212a9154e1e981": {
     "model_module": "@jupyter-widgets/controls",
     "model_name": "DescriptionStyleModel",
     "state": {
      "_model_module": "@jupyter-widgets/controls",
      "_model_module_version": "1.5.0",
      "_model_name": "DescriptionStyleModel",
      "_view_count": null,
      "_view_module": "@jupyter-widgets/base",
      "_view_module_version": "1.2.0",
      "_view_name": "StyleView",
      "description_width": ""
     }
    },
    "c4691b0a0dea4a69bff38f7eaf6e48e3": {
     "model_module": "@jupyter-widgets/controls",
     "model_name": "ProgressStyleModel",
     "state": {
      "_model_module": "@jupyter-widgets/controls",
      "_model_module_version": "1.5.0",
      "_model_name": "ProgressStyleModel",
      "_view_count": null,
      "_view_module": "@jupyter-widgets/base",
      "_view_module_version": "1.2.0",
      "_view_name": "StyleView",
      "bar_color": null,
      "description_width": "initial"
     }
    },
    "ce15eb5d46c143858a309b47bee96105": {
     "model_module": "@jupyter-widgets/controls",
     "model_name": "FloatProgressModel",
     "state": {
      "_dom_classes": [],
      "_model_module": "@jupyter-widgets/controls",
      "_model_module_version": "1.5.0",
      "_model_name": "FloatProgressModel",
      "_view_count": null,
      "_view_module": "@jupyter-widgets/controls",
      "_view_module_version": "1.5.0",
      "_view_name": "ProgressView",
      "bar_style": "danger",
      "description": "",
      "description_tooltip": null,
      "layout": "IPY_MODEL_9d43bc4702774ac9ba757d0cbf12bc81",
      "max": 1,
      "min": 0,
      "orientation": "horizontal",
      "style": "IPY_MODEL_d331b4cfba19467f85ed3f46281f8ef4",
      "value": 1
     }
    },
    "d331b4cfba19467f85ed3f46281f8ef4": {
     "model_module": "@jupyter-widgets/controls",
     "model_name": "ProgressStyleModel",
     "state": {
      "_model_module": "@jupyter-widgets/controls",
      "_model_module_version": "1.5.0",
      "_model_name": "ProgressStyleModel",
      "_view_count": null,
      "_view_module": "@jupyter-widgets/base",
      "_view_module_version": "1.2.0",
      "_view_name": "StyleView",
      "bar_color": null,
      "description_width": "initial"
     }
    },
    "d4c1e5b9086a430094cb7734089737d8": {
     "model_module": "@jupyter-widgets/base",
     "model_name": "LayoutModel",
     "state": {
      "_model_module": "@jupyter-widgets/base",
      "_model_module_version": "1.2.0",
      "_model_name": "LayoutModel",
      "_view_count": null,
      "_view_module": "@jupyter-widgets/base",
      "_view_module_version": "1.2.0",
      "_view_name": "LayoutView",
      "align_content": null,
      "align_items": null,
      "align_self": null,
      "border": null,
      "bottom": null,
      "display": null,
      "flex": null,
      "flex_flow": null,
      "grid_area": null,
      "grid_auto_columns": null,
      "grid_auto_flow": null,
      "grid_auto_rows": null,
      "grid_column": null,
      "grid_gap": null,
      "grid_row": null,
      "grid_template_areas": null,
      "grid_template_columns": null,
      "grid_template_rows": null,
      "height": null,
      "justify_content": null,
      "justify_items": null,
      "left": null,
      "margin": null,
      "max_height": null,
      "max_width": null,
      "min_height": null,
      "min_width": null,
      "object_fit": null,
      "object_position": null,
      "order": null,
      "overflow": null,
      "overflow_x": null,
      "overflow_y": null,
      "padding": null,
      "right": null,
      "top": null,
      "visibility": null,
      "width": null
     }
    },
    "dca652bc00ae4b019d67d43118b6f794": {
     "model_module": "@jupyter-widgets/controls",
     "model_name": "HBoxModel",
     "state": {
      "_dom_classes": [],
      "_model_module": "@jupyter-widgets/controls",
      "_model_module_version": "1.5.0",
      "_model_name": "HBoxModel",
      "_view_count": null,
      "_view_module": "@jupyter-widgets/controls",
      "_view_module_version": "1.5.0",
      "_view_name": "HBoxView",
      "box_style": "",
      "children": [
       "IPY_MODEL_8c08a48825b34e2199668c5e6404cea6",
       "IPY_MODEL_b3230a75d4ca49c481d26175dcef1478"
      ],
      "layout": "IPY_MODEL_31dd4a1810214b24bcb04e5a1e6844f4"
     }
    },
    "dfea5246e2fb4563b4029423a070222e": {
     "model_module": "@jupyter-widgets/controls",
     "model_name": "DescriptionStyleModel",
     "state": {
      "_model_module": "@jupyter-widgets/controls",
      "_model_module_version": "1.5.0",
      "_model_name": "DescriptionStyleModel",
      "_view_count": null,
      "_view_module": "@jupyter-widgets/base",
      "_view_module_version": "1.2.0",
      "_view_name": "StyleView",
      "description_width": ""
     }
    },
    "e8566e1586cb497497ab56154542db0e": {
     "model_module": "@jupyter-widgets/base",
     "model_name": "LayoutModel",
     "state": {
      "_model_module": "@jupyter-widgets/base",
      "_model_module_version": "1.2.0",
      "_model_name": "LayoutModel",
      "_view_count": null,
      "_view_module": "@jupyter-widgets/base",
      "_view_module_version": "1.2.0",
      "_view_name": "LayoutView",
      "align_content": null,
      "align_items": null,
      "align_self": null,
      "border": null,
      "bottom": null,
      "display": null,
      "flex": null,
      "flex_flow": null,
      "grid_area": null,
      "grid_auto_columns": null,
      "grid_auto_flow": null,
      "grid_auto_rows": null,
      "grid_column": null,
      "grid_gap": null,
      "grid_row": null,
      "grid_template_areas": null,
      "grid_template_columns": null,
      "grid_template_rows": null,
      "height": null,
      "justify_content": null,
      "justify_items": null,
      "left": null,
      "margin": null,
      "max_height": null,
      "max_width": null,
      "min_height": null,
      "min_width": null,
      "object_fit": null,
      "object_position": null,
      "order": null,
      "overflow": null,
      "overflow_x": null,
      "overflow_y": null,
      "padding": null,
      "right": null,
      "top": null,
      "visibility": null,
      "width": null
     }
    },
    "efea0894a5e2478c8c4f190f23b54c91": {
     "model_module": "@jupyter-widgets/base",
     "model_name": "LayoutModel",
     "state": {
      "_model_module": "@jupyter-widgets/base",
      "_model_module_version": "1.2.0",
      "_model_name": "LayoutModel",
      "_view_count": null,
      "_view_module": "@jupyter-widgets/base",
      "_view_module_version": "1.2.0",
      "_view_name": "LayoutView",
      "align_content": null,
      "align_items": null,
      "align_self": null,
      "border": null,
      "bottom": null,
      "display": null,
      "flex": null,
      "flex_flow": null,
      "grid_area": null,
      "grid_auto_columns": null,
      "grid_auto_flow": null,
      "grid_auto_rows": null,
      "grid_column": null,
      "grid_gap": null,
      "grid_row": null,
      "grid_template_areas": null,
      "grid_template_columns": null,
      "grid_template_rows": null,
      "height": null,
      "justify_content": null,
      "justify_items": null,
      "left": null,
      "margin": null,
      "max_height": null,
      "max_width": null,
      "min_height": null,
      "min_width": null,
      "object_fit": null,
      "object_position": null,
      "order": null,
      "overflow": null,
      "overflow_x": null,
      "overflow_y": null,
      "padding": null,
      "right": null,
      "top": null,
      "visibility": null,
      "width": null
     }
    },
    "fc8c7fbae412487eb58edc72159a6d74": {
     "model_module": "@jupyter-widgets/base",
     "model_name": "LayoutModel",
     "state": {
      "_model_module": "@jupyter-widgets/base",
      "_model_module_version": "1.2.0",
      "_model_name": "LayoutModel",
      "_view_count": null,
      "_view_module": "@jupyter-widgets/base",
      "_view_module_version": "1.2.0",
      "_view_name": "LayoutView",
      "align_content": null,
      "align_items": null,
      "align_self": null,
      "border": null,
      "bottom": null,
      "display": null,
      "flex": null,
      "flex_flow": null,
      "grid_area": null,
      "grid_auto_columns": null,
      "grid_auto_flow": null,
      "grid_auto_rows": null,
      "grid_column": null,
      "grid_gap": null,
      "grid_row": null,
      "grid_template_areas": null,
      "grid_template_columns": null,
      "grid_template_rows": null,
      "height": null,
      "justify_content": null,
      "justify_items": null,
      "left": null,
      "margin": null,
      "max_height": null,
      "max_width": null,
      "min_height": null,
      "min_width": null,
      "object_fit": null,
      "object_position": null,
      "order": null,
      "overflow": null,
      "overflow_x": null,
      "overflow_y": null,
      "padding": null,
      "right": null,
      "top": null,
      "visibility": null,
      "width": null
     }
    }
   }
  }
 },
 "nbformat": 4,
 "nbformat_minor": 1
}
