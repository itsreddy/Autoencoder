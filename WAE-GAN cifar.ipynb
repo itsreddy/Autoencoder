{
 "cells": [
  {
   "cell_type": "code",
   "execution_count": 39,
   "metadata": {
    "colab": {
     "base_uri": "https://localhost:8080/"
    },
    "executionInfo": {
     "elapsed": 646,
     "status": "ok",
     "timestamp": 1602091033969,
     "user": {
      "displayName": "Prashanth Reddy Duggirala",
      "photoUrl": "",
      "userId": "15292119504454868818"
     },
     "user_tz": 420
    },
    "id": "beReNERQxrn4",
    "outputId": "2d2ccc5b-d310-4117-e8c5-a1fd423ae3e4"
   },
   "outputs": [
    {
     "name": "stdout",
     "output_type": "stream",
     "text": [
      "Mon Mar  8 19:03:05 2021       \n",
      "+-----------------------------------------------------------------------------+\n",
      "| NVIDIA-SMI 450.102.04   Driver Version: 450.102.04   CUDA Version: 11.0     |\n",
      "|-------------------------------+----------------------+----------------------+\n",
      "| GPU  Name        Persistence-M| Bus-Id        Disp.A | Volatile Uncorr. ECC |\n",
      "| Fan  Temp  Perf  Pwr:Usage/Cap|         Memory-Usage | GPU-Util  Compute M. |\n",
      "|                               |                      |               MIG M. |\n",
      "|===============================+======================+======================|\n",
      "|   0  TITAN V             On   | 00000000:17:00.0 Off |                  N/A |\n",
      "| 29%   42C    P8    26W / 250W |   5069MiB / 12066MiB |      0%      Default |\n"
     ]
    }
   ],
   "source": [
    "gpu_info = !nvidia-smi\n",
    "gpu_info = gpu_info[:10]\n",
    "gpu_info = '\\n'.join(gpu_info)\n",
    "print(gpu_info)"
   ]
  },
  {
   "cell_type": "code",
   "execution_count": 40,
   "metadata": {
    "colab": {
     "base_uri": "https://localhost:8080/"
    },
    "executionInfo": {
     "elapsed": 30783,
     "status": "ok",
     "timestamp": 1602091065961,
     "user": {
      "displayName": "Prashanth Reddy Duggirala",
      "photoUrl": "",
      "userId": "15292119504454868818"
     },
     "user_tz": 420
    },
    "id": "cNg4LfToibNh",
    "outputId": "5298c966-e415-4b4b-fe99-0cd9a038ada6"
   },
   "outputs": [],
   "source": [
    "# from google.colab import drive\n",
    "# drive.mount('/content/drive')"
   ]
  },
  {
   "cell_type": "code",
   "execution_count": 41,
   "metadata": {
    "executionInfo": {
     "elapsed": 15780,
     "status": "ok",
     "timestamp": 1602091069652,
     "user": {
      "displayName": "Prashanth Reddy Duggirala",
      "photoUrl": "",
      "userId": "15292119504454868818"
     },
     "user_tz": 420
    },
    "id": "QTYq7z4zAVqi"
   },
   "outputs": [],
   "source": [
    "from varname import nameof\n",
    "\n",
    "import sys\n",
    "import torch\n",
    "import os\n",
    "import numpy as np\n",
    "import torch.nn as nn\n",
    "import torch.optim as optim\n",
    "\n",
    "from tqdm.notebook import tqdm_notebook as tq\n",
    "\n",
    "from torch.autograd import Variable\n",
    "from torchvision.transforms import transforms\n",
    "from torchvision.utils import save_image, make_grid\n",
    "from torch.optim.lr_scheduler import StepLR, ExponentialLR\n",
    "from pytorch_model_summary import summary\n",
    "from tensorboardX import SummaryWriter"
   ]
  },
  {
   "cell_type": "code",
   "execution_count": 42,
   "metadata": {
    "executionInfo": {
     "elapsed": 15497,
     "status": "ok",
     "timestamp": 1602091069654,
     "user": {
      "displayName": "Prashanth Reddy Duggirala",
      "photoUrl": "",
      "userId": "15292119504454868818"
     },
     "user_tz": 420
    },
    "id": "0UsMvoDUMsYY"
   },
   "outputs": [],
   "source": [
    "from src.dataset.utils import SavePath\n",
    "from src.dataset.dataset import Cifar\n",
    "from src.config import TrainConfig\n",
    "from src.pytorch_msssim import MSSSIM, ssim"
   ]
  },
  {
   "cell_type": "code",
   "execution_count": 43,
   "metadata": {},
   "outputs": [],
   "source": [
    "base_path = !pwd\n",
    "base_path = base_path[0] + '/'"
   ]
  },
  {
   "cell_type": "code",
   "execution_count": 44,
   "metadata": {
    "executionInfo": {
     "elapsed": 15745,
     "status": "ok",
     "timestamp": 1602091073268,
     "user": {
      "displayName": "Prashanth Reddy Duggirala",
      "photoUrl": "",
      "userId": "15292119504454868818"
     },
     "user_tz": 420
    },
    "id": "7xVFNQemH1Ut"
   },
   "outputs": [],
   "source": [
    "args = TrainConfig( base_path,              # project directory path\n",
    "                    n_epochs = 200,         # number of epochs to train (default: 100)\n",
    "                    batch_size = 128,       # input batch size for training (default: 128)\n",
    "                    lr = 1e-3,            # learning rate (default: 0.0001)\n",
    "                    dim_h = 128,            # hidden dimension (default: 128)')\n",
    "                    n_z = 128,                # hidden dimension of z (default: 8)\n",
    "                    LAMBDA = 10,            # regularization coef term (default: 10)\n",
    "                    sigma = 1,              # variance of hidden dimension (default: 1)\n",
    "                    n_channel = 3,          # input channels (default: 1)\n",
    "                    img_size = 32 )         # image size"
   ]
  },
  {
   "cell_type": "code",
   "execution_count": 45,
   "metadata": {
    "executionInfo": {
     "elapsed": 724,
     "status": "ok",
     "timestamp": 1602091083791,
     "user": {
      "displayName": "Prashanth Reddy Duggirala",
      "photoUrl": "",
      "userId": "15292119504454868818"
     },
     "user_tz": 420
    },
    "id": "qQTUtK6rO7FH"
   },
   "outputs": [],
   "source": [
    "def unfreeze_params(module: nn.Module):\n",
    "    for p in module.parameters():\n",
    "        p.requires_grad = True\n",
    "\n",
    "def freeze_params(module: nn.Module):\n",
    "    for p in module.parameters():\n",
    "        p.requires_grad = False"
   ]
  },
  {
   "cell_type": "code",
   "execution_count": 46,
   "metadata": {
    "executionInfo": {
     "elapsed": 448,
     "status": "ok",
     "timestamp": 1602091083791,
     "user": {
      "displayName": "Prashanth Reddy Duggirala",
      "photoUrl": "",
      "userId": "15292119504454868818"
     },
     "user_tz": 420
    },
    "id": "aPuQFVPg5DHG"
   },
   "outputs": [],
   "source": [
    "def save_models(model_path, epoch_no, models):\n",
    "    print(\"Saving models\")\n",
    "    for model_name, model in models.items():\n",
    "        torch.save(model.state_dict(), model_path + model_name + \"_\" + \"%d.pth\" % epoch_no)\n",
    "\n",
    "def save_values_to_tensorboard(writer, epoch_no, values_dict: dict):\n",
    "    for name, val in values_dict.items():\n",
    "        if type(val) == dict:\n",
    "            writer.add_scalars(name, val, epoch_no)\n",
    "        else:\n",
    "            writer.add_scalar(name, val, epoch_no)\n",
    "\n",
    "def save_images_to_tensorboard(writer, epoch_no, image, imname='im'):\n",
    "    writer.add_image(imname +'_{}'.format(epoch_no), image, epoch_no)"
   ]
  },
  {
   "cell_type": "code",
   "execution_count": 47,
   "metadata": {
    "colab": {
     "base_uri": "https://localhost:8080/"
    },
    "executionInfo": {
     "elapsed": 454,
     "status": "ok",
     "timestamp": 1602091080986,
     "user": {
      "displayName": "Prashanth Reddy Duggirala",
      "photoUrl": "",
      "userId": "15292119504454868818"
     },
     "user_tz": 420
    },
    "id": "s-v5bfBhNBUb",
    "outputId": "aafd7b1b-c96a-4c4b-b733-76855e513f44"
   },
   "outputs": [
    {
     "name": "stdout",
     "output_type": "stream",
     "text": [
      "/home/pr/synth.data/Autoencoder/outs/Mon-Mar--8-19-03-07-2021/\n"
     ]
    }
   ],
   "source": [
    "sp = SavePath(args)"
   ]
  },
  {
   "cell_type": "code",
   "execution_count": 48,
   "metadata": {
    "colab": {
     "base_uri": "https://localhost:8080/"
    },
    "executionInfo": {
     "elapsed": 9406,
     "status": "ok",
     "timestamp": 1602091093007,
     "user": {
      "displayName": "Prashanth Reddy Duggirala",
      "photoUrl": "",
      "userId": "15292119504454868818"
     },
     "user_tz": 420
    },
    "id": "jxk-lNakOG53",
    "outputId": "d2354a1b-6a31-4801-d724-35342693c58f"
   },
   "outputs": [
    {
     "name": "stdout",
     "output_type": "stream",
     "text": [
      "Files already downloaded and verified\n",
      "Files already downloaded and verified\n"
     ]
    }
   ],
   "source": [
    "transform = None # dont normalize\n",
    "\n",
    "cdl = Cifar(args)\n",
    "train_loader = cdl.get_data_loader(True, transform, [0,1,2,3,4])\n",
    "test_loader = cdl.get_data_loader(False, transform, [0,1,2,3,4])"
   ]
  },
  {
   "cell_type": "code",
   "execution_count": 49,
   "metadata": {
    "executionInfo": {
     "elapsed": 7245,
     "status": "ok",
     "timestamp": 1602091093012,
     "user": {
      "displayName": "Prashanth Reddy Duggirala",
      "photoUrl": "",
      "userId": "15292119504454868818"
     },
     "user_tz": 420
    },
    "id": "ZGmUnjHmE29k"
   },
   "outputs": [],
   "source": [
    "from src.models.model_cifar import Encoder as ConvEncoder\n",
    "from src.models.model_cifar import Decoder as ConvDecoder\n",
    "from src.models.model_cifar import GanDiscriminator"
   ]
  },
  {
   "cell_type": "code",
   "execution_count": 50,
   "metadata": {
    "executionInfo": {
     "elapsed": 704,
     "status": "ok",
     "timestamp": 1602091093016,
     "user": {
      "displayName": "Prashanth Reddy Duggirala",
      "photoUrl": "",
      "userId": "15292119504454868818"
     },
     "user_tz": 420
    },
    "id": "eGAgniOw77yl"
   },
   "outputs": [],
   "source": [
    "class ZDiscriminator(nn.Module):\n",
    "    def __init__(self, args):\n",
    "        super(ZDiscriminator, self).__init__()\n",
    "\n",
    "        self.n_channel = args.n_channel\n",
    "        self.dim_h = args.dim_h\n",
    "        self.n_z = args.n_z\n",
    "\n",
    "        self.main = nn.Sequential(\n",
    "            nn.Linear(self.n_z, self.dim_h * 4),\n",
    "            nn.ReLU(True),\n",
    "            nn.Linear(self.dim_h * 4, self.dim_h * 4),\n",
    "            nn.ReLU(True),\n",
    "            nn.Linear(self.dim_h * 4, self.dim_h * 2),\n",
    "            nn.ReLU(True),\n",
    "            nn.Linear(self.dim_h * 2, self.dim_h // 2),\n",
    "            nn.ReLU(True),\n",
    "            nn.Linear(self.dim_h // 2, self.dim_h // 4),\n",
    "            nn.ReLU(True),\n",
    "            nn.Linear(self.dim_h // 4, 1),\n",
    "            nn.Sigmoid()\n",
    "        )\n",
    "\n",
    "    def forward(self, x):\n",
    "        x = self.main(x)\n",
    "        x = x.squeeze()\n",
    "        return x"
   ]
  },
  {
   "cell_type": "code",
   "execution_count": 51,
   "metadata": {
    "executionInfo": {
     "elapsed": 770,
     "status": "ok",
     "timestamp": 1602091093354,
     "user": {
      "displayName": "Prashanth Reddy Duggirala",
      "photoUrl": "",
      "userId": "15292119504454868818"
     },
     "user_tz": 420
    },
    "id": "nv3WFjukSGSh"
   },
   "outputs": [],
   "source": [
    "conv_encoder, conv_decoder = ConvEncoder(args).cuda(), ConvDecoder(args).cuda()\n",
    "gan_discriminator = GanDiscriminator(args).cuda()\n",
    "z_discriminator = ZDiscriminator(args).cuda()\n",
    "\n",
    "mse_loss_fn = nn.MSELoss().cuda()\n",
    "adversarial_loss_fn = nn.BCELoss().cuda()\n",
    "\n",
    "opt_encoder = optim.Adam(conv_encoder.parameters(), lr = args.lr)\n",
    "opt_decoder = optim.Adam(conv_decoder.parameters(), lr = args.lr)\n",
    "opt_discriminator = optim.Adam(gan_discriminator.parameters(), lr = args.lr)\n",
    "opt_zdiscriminator = optim.Adam(z_discriminator.parameters(), lr = args.lr)\n",
    "scheduler_opt_encoder = ExponentialLR(opt_encoder, gamma=0.1)\n",
    "scheduler_opt_decoder = ExponentialLR(opt_decoder, gamma=0.1)\n",
    "scheduler_opt_discriminator = ExponentialLR(opt_discriminator, gamma=0.1)\n",
    "scheduler_opt_zdiscriminator = ExponentialLR(opt_zdiscriminator, gamma=0.1)"
   ]
  },
  {
   "cell_type": "code",
   "execution_count": 52,
   "metadata": {},
   "outputs": [],
   "source": [
    "# print(summary(conv_encoder, torch.zeros((1, 3, 32, 32)).cuda(), show_input=True, show_hierarchical=False))"
   ]
  },
  {
   "cell_type": "code",
   "execution_count": 53,
   "metadata": {},
   "outputs": [],
   "source": [
    "def load_models(checkpoint_path, checkpoint):\n",
    "    lp = SavePath(args, checkpoint_path)\n",
    "    _, _, model_load_path = lp.get_save_paths()\n",
    "    conv_encoder.load_state_dict(torch.load(model_load_path + \"/conv_encoder_{}.pth\".format(checkpoint)))\n",
    "    conv_decoder.load_state_dict(torch.load(model_load_path + \"/conv_decoder_{}.pth\".format(checkpoint)))\n",
    "    gan_discriminator.load_state_dict(torch.load(model_load_path + \"/gan_discriminator_{}.pth\".format(checkpoint)))"
   ]
  },
  {
   "cell_type": "code",
   "execution_count": 54,
   "metadata": {
    "executionInfo": {
     "elapsed": 8728,
     "status": "ok",
     "timestamp": 1602091105400,
     "user": {
      "displayName": "Prashanth Reddy Duggirala",
      "photoUrl": "",
      "userId": "15292119504454868818"
     },
     "user_tz": 420
    },
    "id": "HR58ORJ862nP"
   },
   "outputs": [],
   "source": [
    "checkpoint = 0\n",
    "if checkpoint:\n",
    "    load_models('/home/pr/synth.data/Autoencoder/outs/Mon-Mar--1-12-35-57-2021/', checkpoint)\n",
    "\n",
    "reconstr_loss, disc_loss = [], []\n",
    "norms = []\n",
    "writer = SummaryWriter(log_dir = sp.results_path + \"logs\")"
   ]
  },
  {
   "cell_type": "code",
   "execution_count": 55,
   "metadata": {},
   "outputs": [],
   "source": [
    "image_path, list_path, model_path = sp.get_save_paths()"
   ]
  },
  {
   "cell_type": "code",
   "execution_count": 56,
   "metadata": {
    "executionInfo": {
     "elapsed": 9151,
     "status": "ok",
     "timestamp": 1602091105056,
     "user": {
      "displayName": "Prashanth Reddy Duggirala",
      "photoUrl": "",
      "userId": "15292119504454868818"
     },
     "user_tz": 420
    },
    "id": "pSu3OG5wSdH3"
   },
   "outputs": [],
   "source": [
    "# one = torch.tensor(1)\n",
    "# mone = one * -1\n",
    "# if torch.cuda.is_available():\n",
    "#     one, mone = one.cuda(), mone.cuda()"
   ]
  },
  {
   "cell_type": "code",
   "execution_count": 57,
   "metadata": {
    "colab": {
     "base_uri": "https://localhost:8080/",
     "height": 613,
     "referenced_widgets": [
      "61b878a5233e4eaaa08a3c64e8ff90e1",
      "d4c1e5b9086a430094cb7734089737d8",
      "718003196463456db24b5f1cbf832df4",
      "0450d96456f842329c0091e5941b3fa6",
      "6ae7823b32204ba48b0be864669b2602",
      "252b759dde604586894e7ba4d61d356f",
      "089112d214f647e481e7bbae0b2e5675",
      "e8566e1586cb497497ab56154542db0e",
      "4ec77aec490e48a48902213af8f6e944",
      "efea0894a5e2478c8c4f190f23b54c91",
      "2847726baebe4b18ab4b8b2909467d66",
      "7e94ec81104142e8a5e302eddde54788",
      "381ea262e5364d88ac66837e026aefc6",
      "fc8c7fbae412487eb58edc72159a6d74",
      "6571a4d361cc4965b6d8e9ced9c5db29",
      "8fcdb7c7924e49df8b02ac4b6d6380dc",
      "dca652bc00ae4b019d67d43118b6f794",
      "31dd4a1810214b24bcb04e5a1e6844f4",
      "8c08a48825b34e2199668c5e6404cea6",
      "b3230a75d4ca49c481d26175dcef1478",
      "c4691b0a0dea4a69bff38f7eaf6e48e3",
      "4f6867b8f73e4378afe0570329caa640",
      "dfea5246e2fb4563b4029423a070222e",
      "29d935d15578476da1762a6e6743a1b3",
      "69c48b1112a548768e8dc2573cffb565",
      "288a1a04590c413388e87c05d5d86dee",
      "ce15eb5d46c143858a309b47bee96105",
      "b05a31a4a17a4a339bd5641d61cacc3c",
      "d331b4cfba19467f85ed3f46281f8ef4",
      "9d43bc4702774ac9ba757d0cbf12bc81",
      "be9ebe4893b84c3392212a9154e1e981",
      "707df31d91154630b3316a21b0a21f06"
     ]
    },
    "executionInfo": {
     "elapsed": 64910,
     "status": "error",
     "timestamp": 1602091167482,
     "user": {
      "displayName": "Prashanth Reddy Duggirala",
      "photoUrl": "",
      "userId": "15292119504454868818"
     },
     "user_tz": 420
    },
    "id": "-Bz9tkOsSdE1",
    "outputId": "3f5dde5f-6104-4a9e-f3e6-70fe11bb0867"
   },
   "outputs": [
    {
     "data": {
      "application/vnd.jupyter.widget-view+json": {
       "model_id": "06f16501530b4fd98121acd05daf79e7",
       "version_major": 2,
       "version_minor": 0
      },
      "text/plain": [
       "0it [00:00, ?it/s]"
      ]
     },
     "metadata": {},
     "output_type": "display_data"
    },
    {
     "name": "stdout",
     "output_type": "stream",
     "text": [
      "Epoch: [1/200], Recon Loss: [0.650], Reg loss: [0.048], disc_loss: [0.309], \n"
     ]
    },
    {
     "data": {
      "application/vnd.jupyter.widget-view+json": {
       "model_id": "f398d82e87cd446fb5ca773cf3ffc9ed",
       "version_major": 2,
       "version_minor": 0
      },
      "text/plain": [
       "0it [00:00, ?it/s]"
      ]
     },
     "metadata": {},
     "output_type": "display_data"
    },
    {
     "name": "stdout",
     "output_type": "stream",
     "text": [
      "Epoch: [2/200], Recon Loss: [0.623], Reg loss: [0.055], disc_loss: [0.067], \n"
     ]
    },
    {
     "data": {
      "application/vnd.jupyter.widget-view+json": {
       "model_id": "d8ac3971b02f46d48fbe3747f98e4ad6",
       "version_major": 2,
       "version_minor": 0
      },
      "text/plain": [
       "0it [00:00, ?it/s]"
      ]
     },
     "metadata": {},
     "output_type": "display_data"
    },
    {
     "name": "stdout",
     "output_type": "stream",
     "text": [
      "Epoch: [3/200], Recon Loss: [0.619], Reg loss: [0.072], disc_loss: [0.054], \n"
     ]
    },
    {
     "data": {
      "application/vnd.jupyter.widget-view+json": {
       "model_id": "6defcf7bcd544165bd73a6bed1014fda",
       "version_major": 2,
       "version_minor": 0
      },
      "text/plain": [
       "0it [00:00, ?it/s]"
      ]
     },
     "metadata": {},
     "output_type": "display_data"
    },
    {
     "name": "stdout",
     "output_type": "stream",
     "text": [
      "Epoch: [4/200], Recon Loss: [0.620], Reg loss: [0.068], disc_loss: [0.049], \n"
     ]
    },
    {
     "data": {
      "application/vnd.jupyter.widget-view+json": {
       "model_id": "6450dfb022614f13bbf8c96db5f0069f",
       "version_major": 2,
       "version_minor": 0
      },
      "text/plain": [
       "0it [00:00, ?it/s]"
      ]
     },
     "metadata": {},
     "output_type": "display_data"
    },
    {
     "name": "stdout",
     "output_type": "stream",
     "text": [
      "Epoch: [5/200], Recon Loss: [0.619], Reg loss: [0.061], disc_loss: [0.082], \n"
     ]
    },
    {
     "data": {
      "application/vnd.jupyter.widget-view+json": {
       "model_id": "24f99a8e89274adf8a12620ba01aea23",
       "version_major": 2,
       "version_minor": 0
      },
      "text/plain": [
       "0it [00:00, ?it/s]"
      ]
     },
     "metadata": {},
     "output_type": "display_data"
    },
    {
     "name": "stdout",
     "output_type": "stream",
     "text": [
      "Epoch: [6/200], Recon Loss: [0.616], Reg loss: [0.049], disc_loss: [0.058], \n"
     ]
    },
    {
     "data": {
      "application/vnd.jupyter.widget-view+json": {
       "model_id": "a3805fc3292f449d9d215adef90143c2",
       "version_major": 2,
       "version_minor": 0
      },
      "text/plain": [
       "0it [00:00, ?it/s]"
      ]
     },
     "metadata": {},
     "output_type": "display_data"
    },
    {
     "name": "stdout",
     "output_type": "stream",
     "text": [
      "Epoch: [7/200], Recon Loss: [0.613], Reg loss: [0.066], disc_loss: [0.087], \n"
     ]
    },
    {
     "data": {
      "application/vnd.jupyter.widget-view+json": {
       "model_id": "b637b295270b49ff89148a4040206664",
       "version_major": 2,
       "version_minor": 0
      },
      "text/plain": [
       "0it [00:00, ?it/s]"
      ]
     },
     "metadata": {},
     "output_type": "display_data"
    },
    {
     "name": "stdout",
     "output_type": "stream",
     "text": [
      "Epoch: [8/200], Recon Loss: [0.613], Reg loss: [0.062], disc_loss: [0.052], \n"
     ]
    },
    {
     "data": {
      "application/vnd.jupyter.widget-view+json": {
       "model_id": "ef74f1a44ddd45f6ae642f5385c7ad51",
       "version_major": 2,
       "version_minor": 0
      },
      "text/plain": [
       "0it [00:00, ?it/s]"
      ]
     },
     "metadata": {},
     "output_type": "display_data"
    },
    {
     "name": "stdout",
     "output_type": "stream",
     "text": [
      "Epoch: [9/200], Recon Loss: [0.612], Reg loss: [0.075], disc_loss: [0.135], \n"
     ]
    },
    {
     "data": {
      "application/vnd.jupyter.widget-view+json": {
       "model_id": "b0138008dd654d2e860334e3ed369b9d",
       "version_major": 2,
       "version_minor": 0
      },
      "text/plain": [
       "0it [00:00, ?it/s]"
      ]
     },
     "metadata": {},
     "output_type": "display_data"
    },
    {
     "name": "stdout",
     "output_type": "stream",
     "text": [
      "Epoch: [10/200], Recon Loss: [0.608], Reg loss: [0.050], disc_loss: [0.111], \n"
     ]
    },
    {
     "data": {
      "application/vnd.jupyter.widget-view+json": {
       "model_id": "38c7e015db6a41b2aadea872a16de179",
       "version_major": 2,
       "version_minor": 0
      },
      "text/plain": [
       "0it [00:00, ?it/s]"
      ]
     },
     "metadata": {},
     "output_type": "display_data"
    },
    {
     "name": "stdout",
     "output_type": "stream",
     "text": [
      "Epoch: [11/200], Recon Loss: [0.609], Reg loss: [0.066], disc_loss: [0.125], \n"
     ]
    },
    {
     "data": {
      "application/vnd.jupyter.widget-view+json": {
       "model_id": "69df09c4cf6e4fff9c36c7c5b07995e0",
       "version_major": 2,
       "version_minor": 0
      },
      "text/plain": [
       "0it [00:00, ?it/s]"
      ]
     },
     "metadata": {},
     "output_type": "display_data"
    },
    {
     "name": "stdout",
     "output_type": "stream",
     "text": [
      "Epoch: [12/200], Recon Loss: [0.609], Reg loss: [0.045], disc_loss: [0.107], \n"
     ]
    },
    {
     "data": {
      "application/vnd.jupyter.widget-view+json": {
       "model_id": "6f47d0749d2541b2a8cd4fa97280f340",
       "version_major": 2,
       "version_minor": 0
      },
      "text/plain": [
       "0it [00:00, ?it/s]"
      ]
     },
     "metadata": {},
     "output_type": "display_data"
    },
    {
     "name": "stdout",
     "output_type": "stream",
     "text": [
      "Epoch: [13/200], Recon Loss: [0.598], Reg loss: [0.071], disc_loss: [0.134], \n"
     ]
    },
    {
     "data": {
      "application/vnd.jupyter.widget-view+json": {
       "model_id": "a20fcec10fb94e64b3d9e542bf82b7c4",
       "version_major": 2,
       "version_minor": 0
      },
      "text/plain": [
       "0it [00:00, ?it/s]"
      ]
     },
     "metadata": {},
     "output_type": "display_data"
    },
    {
     "name": "stdout",
     "output_type": "stream",
     "text": [
      "Epoch: [14/200], Recon Loss: [0.609], Reg loss: [0.047], disc_loss: [0.163], \n"
     ]
    },
    {
     "data": {
      "application/vnd.jupyter.widget-view+json": {
       "model_id": "fb8889447ec44bfc83d2f857b9b7ac20",
       "version_major": 2,
       "version_minor": 0
      },
      "text/plain": [
       "0it [00:00, ?it/s]"
      ]
     },
     "metadata": {},
     "output_type": "display_data"
    },
    {
     "name": "stdout",
     "output_type": "stream",
     "text": [
      "Epoch: [15/200], Recon Loss: [0.586], Reg loss: [0.067], disc_loss: [0.101], \n"
     ]
    },
    {
     "data": {
      "application/vnd.jupyter.widget-view+json": {
       "model_id": "6a4d57e34b294391ad5983b3b2b85e65",
       "version_major": 2,
       "version_minor": 0
      },
      "text/plain": [
       "0it [00:00, ?it/s]"
      ]
     },
     "metadata": {},
     "output_type": "display_data"
    },
    {
     "name": "stdout",
     "output_type": "stream",
     "text": [
      "Epoch: [16/200], Recon Loss: [0.570], Reg loss: [0.045], disc_loss: [0.142], \n"
     ]
    },
    {
     "data": {
      "application/vnd.jupyter.widget-view+json": {
       "model_id": "e1b7de7648264a02aa9e4936960bb859",
       "version_major": 2,
       "version_minor": 0
      },
      "text/plain": [
       "0it [00:00, ?it/s]"
      ]
     },
     "metadata": {},
     "output_type": "display_data"
    },
    {
     "name": "stdout",
     "output_type": "stream",
     "text": [
      "Epoch: [17/200], Recon Loss: [0.534], Reg loss: [0.050], disc_loss: [0.113], \n"
     ]
    },
    {
     "data": {
      "application/vnd.jupyter.widget-view+json": {
       "model_id": "c5e0bcd8d513479b8c177b61d0d75d18",
       "version_major": 2,
       "version_minor": 0
      },
      "text/plain": [
       "0it [00:00, ?it/s]"
      ]
     },
     "metadata": {},
     "output_type": "display_data"
    },
    {
     "name": "stdout",
     "output_type": "stream",
     "text": [
      "Epoch: [18/200], Recon Loss: [0.512], Reg loss: [0.044], disc_loss: [0.108], \n"
     ]
    },
    {
     "data": {
      "application/vnd.jupyter.widget-view+json": {
       "model_id": "51dd9947018c45509d2f68e06c0ad126",
       "version_major": 2,
       "version_minor": 0
      },
      "text/plain": [
       "0it [00:00, ?it/s]"
      ]
     },
     "metadata": {},
     "output_type": "display_data"
    },
    {
     "name": "stdout",
     "output_type": "stream",
     "text": [
      "Epoch: [19/200], Recon Loss: [0.492], Reg loss: [0.046], disc_loss: [0.087], \n"
     ]
    },
    {
     "data": {
      "application/vnd.jupyter.widget-view+json": {
       "model_id": "503c5ed871f344cba965880203c30b44",
       "version_major": 2,
       "version_minor": 0
      },
      "text/plain": [
       "0it [00:00, ?it/s]"
      ]
     },
     "metadata": {},
     "output_type": "display_data"
    },
    {
     "name": "stdout",
     "output_type": "stream",
     "text": [
      "Epoch: [20/200], Recon Loss: [0.475], Reg loss: [0.044], disc_loss: [0.066], \n"
     ]
    },
    {
     "data": {
      "application/vnd.jupyter.widget-view+json": {
       "model_id": "e30df6fc963447d58c332990343a028a",
       "version_major": 2,
       "version_minor": 0
      },
      "text/plain": [
       "0it [00:00, ?it/s]"
      ]
     },
     "metadata": {},
     "output_type": "display_data"
    },
    {
     "name": "stdout",
     "output_type": "stream",
     "text": [
      "Epoch: [21/200], Recon Loss: [0.458], Reg loss: [0.052], disc_loss: [0.055], \n"
     ]
    },
    {
     "data": {
      "application/vnd.jupyter.widget-view+json": {
       "model_id": "dde8ee27f4474e99a9b473c027bd8e6c",
       "version_major": 2,
       "version_minor": 0
      },
      "text/plain": [
       "0it [00:00, ?it/s]"
      ]
     },
     "metadata": {},
     "output_type": "display_data"
    },
    {
     "name": "stdout",
     "output_type": "stream",
     "text": [
      "Epoch: [22/200], Recon Loss: [0.444], Reg loss: [0.046], disc_loss: [0.092], \n"
     ]
    },
    {
     "data": {
      "application/vnd.jupyter.widget-view+json": {
       "model_id": "f926ba4663ee41e395dd88479bc3f223",
       "version_major": 2,
       "version_minor": 0
      },
      "text/plain": [
       "0it [00:00, ?it/s]"
      ]
     },
     "metadata": {},
     "output_type": "display_data"
    },
    {
     "name": "stdout",
     "output_type": "stream",
     "text": [
      "Epoch: [23/200], Recon Loss: [0.436], Reg loss: [0.049], disc_loss: [0.060], \n"
     ]
    },
    {
     "data": {
      "application/vnd.jupyter.widget-view+json": {
       "model_id": "76fd3dcd5a944bedb13d69f76223b34a",
       "version_major": 2,
       "version_minor": 0
      },
      "text/plain": [
       "0it [00:00, ?it/s]"
      ]
     },
     "metadata": {},
     "output_type": "display_data"
    },
    {
     "name": "stdout",
     "output_type": "stream",
     "text": [
      "Epoch: [24/200], Recon Loss: [0.417], Reg loss: [0.045], disc_loss: [0.052], \n"
     ]
    },
    {
     "data": {
      "application/vnd.jupyter.widget-view+json": {
       "model_id": "34e52083c6d7448a855e59c3ed245745",
       "version_major": 2,
       "version_minor": 0
      },
      "text/plain": [
       "0it [00:00, ?it/s]"
      ]
     },
     "metadata": {},
     "output_type": "display_data"
    },
    {
     "name": "stdout",
     "output_type": "stream",
     "text": [
      "Epoch: [25/200], Recon Loss: [0.403], Reg loss: [0.041], disc_loss: [0.049], \n",
      "Saving models\n"
     ]
    },
    {
     "data": {
      "application/vnd.jupyter.widget-view+json": {
       "model_id": "f908490570e84e079626eb28a155c626",
       "version_major": 2,
       "version_minor": 0
      },
      "text/plain": [
       "0it [00:00, ?it/s]"
      ]
     },
     "metadata": {},
     "output_type": "display_data"
    },
    {
     "name": "stdout",
     "output_type": "stream",
     "text": [
      "Epoch: [26/200], Recon Loss: [0.387], Reg loss: [0.045], disc_loss: [0.064], \n"
     ]
    },
    {
     "data": {
      "application/vnd.jupyter.widget-view+json": {
       "model_id": "135b50a1375a4c4592420635528d55ea",
       "version_major": 2,
       "version_minor": 0
      },
      "text/plain": [
       "0it [00:00, ?it/s]"
      ]
     },
     "metadata": {},
     "output_type": "display_data"
    },
    {
     "name": "stdout",
     "output_type": "stream",
     "text": [
      "Epoch: [27/200], Recon Loss: [0.385], Reg loss: [0.048], disc_loss: [0.062], \n"
     ]
    },
    {
     "data": {
      "application/vnd.jupyter.widget-view+json": {
       "model_id": "0ac03fbf7a774ed6b5cff97e4efc0456",
       "version_major": 2,
       "version_minor": 0
      },
      "text/plain": [
       "0it [00:00, ?it/s]"
      ]
     },
     "metadata": {},
     "output_type": "display_data"
    },
    {
     "name": "stdout",
     "output_type": "stream",
     "text": [
      "Epoch: [28/200], Recon Loss: [0.370], Reg loss: [0.038], disc_loss: [0.059], \n"
     ]
    },
    {
     "data": {
      "application/vnd.jupyter.widget-view+json": {
       "model_id": "727a8894ad094aa582da8e9734f4eae7",
       "version_major": 2,
       "version_minor": 0
      },
      "text/plain": [
       "0it [00:00, ?it/s]"
      ]
     },
     "metadata": {},
     "output_type": "display_data"
    },
    {
     "name": "stdout",
     "output_type": "stream",
     "text": [
      "Epoch: [29/200], Recon Loss: [0.361], Reg loss: [0.043], disc_loss: [0.078], \n"
     ]
    },
    {
     "data": {
      "application/vnd.jupyter.widget-view+json": {
       "model_id": "5ba1c5a2702f4b619b975615a5405277",
       "version_major": 2,
       "version_minor": 0
      },
      "text/plain": [
       "0it [00:00, ?it/s]"
      ]
     },
     "metadata": {},
     "output_type": "display_data"
    },
    {
     "name": "stdout",
     "output_type": "stream",
     "text": [
      "Epoch: [30/200], Recon Loss: [0.356], Reg loss: [0.043], disc_loss: [0.061], \n"
     ]
    },
    {
     "data": {
      "application/vnd.jupyter.widget-view+json": {
       "model_id": "ec92b51d069f4fb390b28aad8a844898",
       "version_major": 2,
       "version_minor": 0
      },
      "text/plain": [
       "0it [00:00, ?it/s]"
      ]
     },
     "metadata": {},
     "output_type": "display_data"
    },
    {
     "name": "stdout",
     "output_type": "stream",
     "text": [
      "Epoch: [31/200], Recon Loss: [0.344], Reg loss: [0.041], disc_loss: [0.069], \n"
     ]
    },
    {
     "data": {
      "application/vnd.jupyter.widget-view+json": {
       "model_id": "2c1db9a6872a4fd99184737127afe1d7",
       "version_major": 2,
       "version_minor": 0
      },
      "text/plain": [
       "0it [00:00, ?it/s]"
      ]
     },
     "metadata": {},
     "output_type": "display_data"
    },
    {
     "name": "stdout",
     "output_type": "stream",
     "text": [
      "Epoch: [32/200], Recon Loss: [0.343], Reg loss: [0.040], disc_loss: [0.066], \n"
     ]
    },
    {
     "data": {
      "application/vnd.jupyter.widget-view+json": {
       "model_id": "0c70f803441440fda36162e4beb41797",
       "version_major": 2,
       "version_minor": 0
      },
      "text/plain": [
       "0it [00:00, ?it/s]"
      ]
     },
     "metadata": {},
     "output_type": "display_data"
    },
    {
     "name": "stdout",
     "output_type": "stream",
     "text": [
      "Epoch: [33/200], Recon Loss: [0.339], Reg loss: [0.039], disc_loss: [0.071], \n"
     ]
    },
    {
     "data": {
      "application/vnd.jupyter.widget-view+json": {
       "model_id": "9027b1aa480047539747ca54fe7a7d5b",
       "version_major": 2,
       "version_minor": 0
      },
      "text/plain": [
       "0it [00:00, ?it/s]"
      ]
     },
     "metadata": {},
     "output_type": "display_data"
    },
    {
     "name": "stdout",
     "output_type": "stream",
     "text": [
      "Epoch: [34/200], Recon Loss: [0.334], Reg loss: [0.038], disc_loss: [0.074], \n"
     ]
    },
    {
     "data": {
      "application/vnd.jupyter.widget-view+json": {
       "model_id": "e6440dbae0c5423fbb8e9a6d4b043b23",
       "version_major": 2,
       "version_minor": 0
      },
      "text/plain": [
       "0it [00:00, ?it/s]"
      ]
     },
     "metadata": {},
     "output_type": "display_data"
    },
    {
     "name": "stdout",
     "output_type": "stream",
     "text": [
      "Epoch: [35/200], Recon Loss: [0.335], Reg loss: [0.035], disc_loss: [0.063], \n"
     ]
    },
    {
     "data": {
      "application/vnd.jupyter.widget-view+json": {
       "model_id": "6456f5aa4fb94d308ec7f86fa1d319b4",
       "version_major": 2,
       "version_minor": 0
      },
      "text/plain": [
       "0it [00:00, ?it/s]"
      ]
     },
     "metadata": {},
     "output_type": "display_data"
    },
    {
     "name": "stdout",
     "output_type": "stream",
     "text": [
      "Epoch: [36/200], Recon Loss: [0.338], Reg loss: [0.035], disc_loss: [0.074], \n"
     ]
    },
    {
     "data": {
      "application/vnd.jupyter.widget-view+json": {
       "model_id": "f661fcda3abd432c9fc1b0f4064fb73c",
       "version_major": 2,
       "version_minor": 0
      },
      "text/plain": [
       "0it [00:00, ?it/s]"
      ]
     },
     "metadata": {},
     "output_type": "display_data"
    },
    {
     "name": "stdout",
     "output_type": "stream",
     "text": [
      "Epoch: [37/200], Recon Loss: [0.328], Reg loss: [0.035], disc_loss: [0.070], \n"
     ]
    },
    {
     "data": {
      "application/vnd.jupyter.widget-view+json": {
       "model_id": "b93d67dfdb7b47e3a15a0043b49939c3",
       "version_major": 2,
       "version_minor": 0
      },
      "text/plain": [
       "0it [00:00, ?it/s]"
      ]
     },
     "metadata": {},
     "output_type": "display_data"
    },
    {
     "name": "stdout",
     "output_type": "stream",
     "text": [
      "Epoch: [38/200], Recon Loss: [0.322], Reg loss: [0.033], disc_loss: [0.077], \n"
     ]
    },
    {
     "data": {
      "application/vnd.jupyter.widget-view+json": {
       "model_id": "53cba9e9f7cf4ebeaf8e1657a83ef75f",
       "version_major": 2,
       "version_minor": 0
      },
      "text/plain": [
       "0it [00:00, ?it/s]"
      ]
     },
     "metadata": {},
     "output_type": "display_data"
    },
    {
     "name": "stdout",
     "output_type": "stream",
     "text": [
      "Epoch: [39/200], Recon Loss: [0.326], Reg loss: [0.035], disc_loss: [0.077], \n"
     ]
    },
    {
     "data": {
      "application/vnd.jupyter.widget-view+json": {
       "model_id": "63e5bc791f0745f0ab910df16f752dd0",
       "version_major": 2,
       "version_minor": 0
      },
      "text/plain": [
       "0it [00:00, ?it/s]"
      ]
     },
     "metadata": {},
     "output_type": "display_data"
    },
    {
     "name": "stdout",
     "output_type": "stream",
     "text": [
      "Epoch: [40/200], Recon Loss: [0.373], Reg loss: [0.042], disc_loss: [0.053], \n"
     ]
    },
    {
     "data": {
      "application/vnd.jupyter.widget-view+json": {
       "model_id": "3062316342a24b28931f34d1b4a88d0c",
       "version_major": 2,
       "version_minor": 0
      },
      "text/plain": [
       "0it [00:00, ?it/s]"
      ]
     },
     "metadata": {},
     "output_type": "display_data"
    },
    {
     "name": "stdout",
     "output_type": "stream",
     "text": [
      "Epoch: [41/200], Recon Loss: [0.343], Reg loss: [0.038], disc_loss: [0.049], \n"
     ]
    },
    {
     "data": {
      "application/vnd.jupyter.widget-view+json": {
       "model_id": "2fb0b2ac3c4e4f529df5646f98a6c789",
       "version_major": 2,
       "version_minor": 0
      },
      "text/plain": [
       "0it [00:00, ?it/s]"
      ]
     },
     "metadata": {},
     "output_type": "display_data"
    },
    {
     "name": "stdout",
     "output_type": "stream",
     "text": [
      "Epoch: [42/200], Recon Loss: [0.318], Reg loss: [0.033], disc_loss: [0.060], \n"
     ]
    },
    {
     "data": {
      "application/vnd.jupyter.widget-view+json": {
       "model_id": "978d921f9d814bcdbc86d5058cc5be43",
       "version_major": 2,
       "version_minor": 0
      },
      "text/plain": [
       "0it [00:00, ?it/s]"
      ]
     },
     "metadata": {},
     "output_type": "display_data"
    },
    {
     "name": "stdout",
     "output_type": "stream",
     "text": [
      "Epoch: [43/200], Recon Loss: [0.316], Reg loss: [0.034], disc_loss: [0.071], \n"
     ]
    },
    {
     "data": {
      "application/vnd.jupyter.widget-view+json": {
       "model_id": "92f8167dde97486c8b3f80f940046eac",
       "version_major": 2,
       "version_minor": 0
      },
      "text/plain": [
       "0it [00:00, ?it/s]"
      ]
     },
     "metadata": {},
     "output_type": "display_data"
    },
    {
     "name": "stdout",
     "output_type": "stream",
     "text": [
      "Epoch: [44/200], Recon Loss: [0.319], Reg loss: [0.033], disc_loss: [0.084], \n"
     ]
    },
    {
     "data": {
      "application/vnd.jupyter.widget-view+json": {
       "model_id": "1b5d98451b5d4a6faf5138ff3b5d3ae1",
       "version_major": 2,
       "version_minor": 0
      },
      "text/plain": [
       "0it [00:00, ?it/s]"
      ]
     },
     "metadata": {},
     "output_type": "display_data"
    },
    {
     "name": "stdout",
     "output_type": "stream",
     "text": [
      "Epoch: [45/200], Recon Loss: [0.317], Reg loss: [0.032], disc_loss: [0.091], \n"
     ]
    },
    {
     "data": {
      "application/vnd.jupyter.widget-view+json": {
       "model_id": "615a87374e124fa3a01f35fc708d605d",
       "version_major": 2,
       "version_minor": 0
      },
      "text/plain": [
       "0it [00:00, ?it/s]"
      ]
     },
     "metadata": {},
     "output_type": "display_data"
    },
    {
     "name": "stdout",
     "output_type": "stream",
     "text": [
      "Epoch: [46/200], Recon Loss: [0.315], Reg loss: [0.033], disc_loss: [0.076], \n"
     ]
    },
    {
     "data": {
      "application/vnd.jupyter.widget-view+json": {
       "model_id": "55067d6ad8b240bd891d442355f23f89",
       "version_major": 2,
       "version_minor": 0
      },
      "text/plain": [
       "0it [00:00, ?it/s]"
      ]
     },
     "metadata": {},
     "output_type": "display_data"
    },
    {
     "name": "stdout",
     "output_type": "stream",
     "text": [
      "Epoch: [47/200], Recon Loss: [0.310], Reg loss: [0.032], disc_loss: [0.091], \n"
     ]
    },
    {
     "data": {
      "application/vnd.jupyter.widget-view+json": {
       "model_id": "14122e2aee5943cc8c29e489862b9e4a",
       "version_major": 2,
       "version_minor": 0
      },
      "text/plain": [
       "0it [00:00, ?it/s]"
      ]
     },
     "metadata": {},
     "output_type": "display_data"
    },
    {
     "name": "stdout",
     "output_type": "stream",
     "text": [
      "Epoch: [48/200], Recon Loss: [0.311], Reg loss: [0.031], disc_loss: [0.087], \n"
     ]
    },
    {
     "data": {
      "application/vnd.jupyter.widget-view+json": {
       "model_id": "8c8cc620589a43148c74c9ce522db692",
       "version_major": 2,
       "version_minor": 0
      },
      "text/plain": [
       "0it [00:00, ?it/s]"
      ]
     },
     "metadata": {},
     "output_type": "display_data"
    },
    {
     "name": "stdout",
     "output_type": "stream",
     "text": [
      "Epoch: [49/200], Recon Loss: [0.307], Reg loss: [0.030], disc_loss: [0.086], \n"
     ]
    },
    {
     "data": {
      "application/vnd.jupyter.widget-view+json": {
       "model_id": "dcfdc33a94994f56b340ea4d21677a78",
       "version_major": 2,
       "version_minor": 0
      },
      "text/plain": [
       "0it [00:00, ?it/s]"
      ]
     },
     "metadata": {},
     "output_type": "display_data"
    },
    {
     "name": "stdout",
     "output_type": "stream",
     "text": [
      "Epoch: [50/200], Recon Loss: [0.308], Reg loss: [0.032], disc_loss: [0.101], \n",
      "Saving models\n"
     ]
    },
    {
     "data": {
      "application/vnd.jupyter.widget-view+json": {
       "model_id": "f9978ae36c774e9f83844cef92fb4b9f",
       "version_major": 2,
       "version_minor": 0
      },
      "text/plain": [
       "0it [00:00, ?it/s]"
      ]
     },
     "metadata": {},
     "output_type": "display_data"
    },
    {
     "name": "stdout",
     "output_type": "stream",
     "text": [
      "Epoch: [51/200], Recon Loss: [0.308], Reg loss: [0.031], disc_loss: [0.097], \n"
     ]
    },
    {
     "data": {
      "application/vnd.jupyter.widget-view+json": {
       "model_id": "8df9f03965d4459187c26cfccfe9ec95",
       "version_major": 2,
       "version_minor": 0
      },
      "text/plain": [
       "0it [00:00, ?it/s]"
      ]
     },
     "metadata": {},
     "output_type": "display_data"
    },
    {
     "name": "stdout",
     "output_type": "stream",
     "text": [
      "Epoch: [52/200], Recon Loss: [0.300], Reg loss: [0.031], disc_loss: [0.091], \n"
     ]
    },
    {
     "data": {
      "application/vnd.jupyter.widget-view+json": {
       "model_id": "40b2e543eff645fdb1bc4fffed066a4c",
       "version_major": 2,
       "version_minor": 0
      },
      "text/plain": [
       "0it [00:00, ?it/s]"
      ]
     },
     "metadata": {},
     "output_type": "display_data"
    },
    {
     "name": "stdout",
     "output_type": "stream",
     "text": [
      "Epoch: [53/200], Recon Loss: [0.307], Reg loss: [0.032], disc_loss: [0.085], \n"
     ]
    },
    {
     "data": {
      "application/vnd.jupyter.widget-view+json": {
       "model_id": "44caadb0a0ea4f96b11d7ca421fb5756",
       "version_major": 2,
       "version_minor": 0
      },
      "text/plain": [
       "0it [00:00, ?it/s]"
      ]
     },
     "metadata": {},
     "output_type": "display_data"
    },
    {
     "name": "stdout",
     "output_type": "stream",
     "text": [
      "Epoch: [54/200], Recon Loss: [0.294], Reg loss: [0.029], disc_loss: [0.095], \n"
     ]
    },
    {
     "data": {
      "application/vnd.jupyter.widget-view+json": {
       "model_id": "d0cfd0ffff4e4664bf13a9a8b5fe7478",
       "version_major": 2,
       "version_minor": 0
      },
      "text/plain": [
       "0it [00:00, ?it/s]"
      ]
     },
     "metadata": {},
     "output_type": "display_data"
    },
    {
     "name": "stdout",
     "output_type": "stream",
     "text": [
      "Epoch: [55/200], Recon Loss: [0.308], Reg loss: [0.032], disc_loss: [0.098], \n"
     ]
    },
    {
     "data": {
      "application/vnd.jupyter.widget-view+json": {
       "model_id": "a6a1fef22b2547a8821e823672125e8f",
       "version_major": 2,
       "version_minor": 0
      },
      "text/plain": [
       "0it [00:00, ?it/s]"
      ]
     },
     "metadata": {},
     "output_type": "display_data"
    },
    {
     "name": "stdout",
     "output_type": "stream",
     "text": [
      "Epoch: [56/200], Recon Loss: [0.301], Reg loss: [0.032], disc_loss: [0.110], \n"
     ]
    },
    {
     "data": {
      "application/vnd.jupyter.widget-view+json": {
       "model_id": "68f3a7f34fe8438281acfc9d97f3d640",
       "version_major": 2,
       "version_minor": 0
      },
      "text/plain": [
       "0it [00:00, ?it/s]"
      ]
     },
     "metadata": {},
     "output_type": "display_data"
    },
    {
     "name": "stdout",
     "output_type": "stream",
     "text": [
      "Epoch: [57/200], Recon Loss: [0.304], Reg loss: [0.030], disc_loss: [0.096], \n"
     ]
    },
    {
     "data": {
      "application/vnd.jupyter.widget-view+json": {
       "model_id": "f9d2db2fb4c94620a038f4eb25b38151",
       "version_major": 2,
       "version_minor": 0
      },
      "text/plain": [
       "0it [00:00, ?it/s]"
      ]
     },
     "metadata": {},
     "output_type": "display_data"
    },
    {
     "name": "stdout",
     "output_type": "stream",
     "text": [
      "Epoch: [58/200], Recon Loss: [0.300], Reg loss: [0.030], disc_loss: [0.103], \n"
     ]
    },
    {
     "data": {
      "application/vnd.jupyter.widget-view+json": {
       "model_id": "4f5810cbb8df40b28d9aab3bedcd3025",
       "version_major": 2,
       "version_minor": 0
      },
      "text/plain": [
       "0it [00:00, ?it/s]"
      ]
     },
     "metadata": {},
     "output_type": "display_data"
    },
    {
     "name": "stdout",
     "output_type": "stream",
     "text": [
      "Epoch: [59/200], Recon Loss: [0.383], Reg loss: [0.036], disc_loss: [0.090], \n"
     ]
    },
    {
     "data": {
      "application/vnd.jupyter.widget-view+json": {
       "model_id": "42988d28012c451fb7ab3866365b3460",
       "version_major": 2,
       "version_minor": 0
      },
      "text/plain": [
       "0it [00:00, ?it/s]"
      ]
     },
     "metadata": {},
     "output_type": "display_data"
    },
    {
     "name": "stdout",
     "output_type": "stream",
     "text": [
      "Epoch: [60/200], Recon Loss: [0.313], Reg loss: [0.035], disc_loss: [0.082], \n"
     ]
    },
    {
     "data": {
      "application/vnd.jupyter.widget-view+json": {
       "model_id": "57828e59ec46420aa507abbf37361ae4",
       "version_major": 2,
       "version_minor": 0
      },
      "text/plain": [
       "0it [00:00, ?it/s]"
      ]
     },
     "metadata": {},
     "output_type": "display_data"
    },
    {
     "name": "stdout",
     "output_type": "stream",
     "text": [
      "Epoch: [61/200], Recon Loss: [0.303], Reg loss: [0.031], disc_loss: [0.113], \n"
     ]
    },
    {
     "data": {
      "application/vnd.jupyter.widget-view+json": {
       "model_id": "e6dcb2e8fe80471ba0aaf36f1fc770dc",
       "version_major": 2,
       "version_minor": 0
      },
      "text/plain": [
       "0it [00:00, ?it/s]"
      ]
     },
     "metadata": {},
     "output_type": "display_data"
    },
    {
     "name": "stdout",
     "output_type": "stream",
     "text": [
      "Epoch: [62/200], Recon Loss: [0.303], Reg loss: [0.029], disc_loss: [0.114], \n"
     ]
    },
    {
     "data": {
      "application/vnd.jupyter.widget-view+json": {
       "model_id": "d93e4c1b724b490099e4eeeaed3d5741",
       "version_major": 2,
       "version_minor": 0
      },
      "text/plain": [
       "0it [00:00, ?it/s]"
      ]
     },
     "metadata": {},
     "output_type": "display_data"
    },
    {
     "name": "stdout",
     "output_type": "stream",
     "text": [
      "Epoch: [63/200], Recon Loss: [0.297], Reg loss: [0.030], disc_loss: [0.119], \n"
     ]
    },
    {
     "data": {
      "application/vnd.jupyter.widget-view+json": {
       "model_id": "1e53946cde504a7f99262c18a760417b",
       "version_major": 2,
       "version_minor": 0
      },
      "text/plain": [
       "0it [00:00, ?it/s]"
      ]
     },
     "metadata": {},
     "output_type": "display_data"
    },
    {
     "name": "stdout",
     "output_type": "stream",
     "text": [
      "Epoch: [64/200], Recon Loss: [0.309], Reg loss: [0.028], disc_loss: [0.143], \n"
     ]
    },
    {
     "data": {
      "application/vnd.jupyter.widget-view+json": {
       "model_id": "43b138c624df461c8ac004cb0a809361",
       "version_major": 2,
       "version_minor": 0
      },
      "text/plain": [
       "0it [00:00, ?it/s]"
      ]
     },
     "metadata": {},
     "output_type": "display_data"
    },
    {
     "name": "stdout",
     "output_type": "stream",
     "text": [
      "Epoch: [65/200], Recon Loss: [0.287], Reg loss: [0.029], disc_loss: [0.138], \n"
     ]
    },
    {
     "data": {
      "application/vnd.jupyter.widget-view+json": {
       "model_id": "4a6e7249e4b044ed8d6c070ef23e611a",
       "version_major": 2,
       "version_minor": 0
      },
      "text/plain": [
       "0it [00:00, ?it/s]"
      ]
     },
     "metadata": {},
     "output_type": "display_data"
    },
    {
     "name": "stdout",
     "output_type": "stream",
     "text": [
      "Epoch: [66/200], Recon Loss: [0.308], Reg loss: [0.028], disc_loss: [0.134], \n"
     ]
    },
    {
     "data": {
      "application/vnd.jupyter.widget-view+json": {
       "model_id": "e175c924ff744b84b00597f2ac0a6525",
       "version_major": 2,
       "version_minor": 0
      },
      "text/plain": [
       "0it [00:00, ?it/s]"
      ]
     },
     "metadata": {},
     "output_type": "display_data"
    },
    {
     "name": "stdout",
     "output_type": "stream",
     "text": [
      "Epoch: [67/200], Recon Loss: [0.305], Reg loss: [0.028], disc_loss: [0.134], \n"
     ]
    },
    {
     "data": {
      "application/vnd.jupyter.widget-view+json": {
       "model_id": "d7f054851c6d40a2acd61d5faf5471ea",
       "version_major": 2,
       "version_minor": 0
      },
      "text/plain": [
       "0it [00:00, ?it/s]"
      ]
     },
     "metadata": {},
     "output_type": "display_data"
    },
    {
     "name": "stdout",
     "output_type": "stream",
     "text": [
      "Epoch: [68/200], Recon Loss: [0.292], Reg loss: [0.028], disc_loss: [0.126], \n"
     ]
    },
    {
     "data": {
      "application/vnd.jupyter.widget-view+json": {
       "model_id": "8c866174036a438dbb680a183206e8a6",
       "version_major": 2,
       "version_minor": 0
      },
      "text/plain": [
       "0it [00:00, ?it/s]"
      ]
     },
     "metadata": {},
     "output_type": "display_data"
    },
    {
     "name": "stdout",
     "output_type": "stream",
     "text": [
      "Epoch: [69/200], Recon Loss: [0.305], Reg loss: [0.027], disc_loss: [0.148], \n"
     ]
    },
    {
     "data": {
      "application/vnd.jupyter.widget-view+json": {
       "model_id": "bf1dc2314afc49018c70d15856854248",
       "version_major": 2,
       "version_minor": 0
      },
      "text/plain": [
       "0it [00:00, ?it/s]"
      ]
     },
     "metadata": {},
     "output_type": "display_data"
    },
    {
     "name": "stdout",
     "output_type": "stream",
     "text": [
      "Epoch: [70/200], Recon Loss: [0.290], Reg loss: [0.027], disc_loss: [0.132], \n"
     ]
    },
    {
     "data": {
      "application/vnd.jupyter.widget-view+json": {
       "model_id": "e40363961d23464aab567239c75eca03",
       "version_major": 2,
       "version_minor": 0
      },
      "text/plain": [
       "0it [00:00, ?it/s]"
      ]
     },
     "metadata": {},
     "output_type": "display_data"
    },
    {
     "name": "stdout",
     "output_type": "stream",
     "text": [
      "Epoch: [71/200], Recon Loss: [0.292], Reg loss: [0.027], disc_loss: [0.139], \n"
     ]
    },
    {
     "data": {
      "application/vnd.jupyter.widget-view+json": {
       "model_id": "82961f61ec394896a8917b7842fbdba0",
       "version_major": 2,
       "version_minor": 0
      },
      "text/plain": [
       "0it [00:00, ?it/s]"
      ]
     },
     "metadata": {},
     "output_type": "display_data"
    },
    {
     "name": "stdout",
     "output_type": "stream",
     "text": [
      "Epoch: [72/200], Recon Loss: [0.302], Reg loss: [0.026], disc_loss: [0.142], \n"
     ]
    },
    {
     "data": {
      "application/vnd.jupyter.widget-view+json": {
       "model_id": "0ee72233838841c0924db93c0b9353d1",
       "version_major": 2,
       "version_minor": 0
      },
      "text/plain": [
       "0it [00:00, ?it/s]"
      ]
     },
     "metadata": {},
     "output_type": "display_data"
    },
    {
     "name": "stdout",
     "output_type": "stream",
     "text": [
      "Epoch: [73/200], Recon Loss: [0.290], Reg loss: [0.027], disc_loss: [0.152], \n"
     ]
    },
    {
     "data": {
      "application/vnd.jupyter.widget-view+json": {
       "model_id": "c2270c6a715f4feaa84a7694007107df",
       "version_major": 2,
       "version_minor": 0
      },
      "text/plain": [
       "0it [00:00, ?it/s]"
      ]
     },
     "metadata": {},
     "output_type": "display_data"
    },
    {
     "name": "stdout",
     "output_type": "stream",
     "text": [
      "Epoch: [74/200], Recon Loss: [0.295], Reg loss: [0.027], disc_loss: [0.141], \n"
     ]
    },
    {
     "data": {
      "application/vnd.jupyter.widget-view+json": {
       "model_id": "1eabdb6024f9436b979a73afac3fd743",
       "version_major": 2,
       "version_minor": 0
      },
      "text/plain": [
       "0it [00:00, ?it/s]"
      ]
     },
     "metadata": {},
     "output_type": "display_data"
    },
    {
     "name": "stdout",
     "output_type": "stream",
     "text": [
      "Epoch: [75/200], Recon Loss: [0.299], Reg loss: [0.027], disc_loss: [0.143], \n",
      "Saving models\n"
     ]
    },
    {
     "data": {
      "application/vnd.jupyter.widget-view+json": {
       "model_id": "3971c9c094e8481391f189c96258050e",
       "version_major": 2,
       "version_minor": 0
      },
      "text/plain": [
       "0it [00:00, ?it/s]"
      ]
     },
     "metadata": {},
     "output_type": "display_data"
    },
    {
     "name": "stdout",
     "output_type": "stream",
     "text": [
      "Epoch: [76/200], Recon Loss: [0.278], Reg loss: [0.025], disc_loss: [0.154], \n"
     ]
    },
    {
     "data": {
      "application/vnd.jupyter.widget-view+json": {
       "model_id": "9a5b4f28272347c5abaa6a43d7f4a9b7",
       "version_major": 2,
       "version_minor": 0
      },
      "text/plain": [
       "0it [00:00, ?it/s]"
      ]
     },
     "metadata": {},
     "output_type": "display_data"
    },
    {
     "name": "stdout",
     "output_type": "stream",
     "text": [
      "Epoch: [77/200], Recon Loss: [0.298], Reg loss: [0.027], disc_loss: [0.147], \n"
     ]
    },
    {
     "data": {
      "application/vnd.jupyter.widget-view+json": {
       "model_id": "b29f92d9c2b443b881bc659b2dde4711",
       "version_major": 2,
       "version_minor": 0
      },
      "text/plain": [
       "0it [00:00, ?it/s]"
      ]
     },
     "metadata": {},
     "output_type": "display_data"
    },
    {
     "name": "stdout",
     "output_type": "stream",
     "text": [
      "Epoch: [78/200], Recon Loss: [0.293], Reg loss: [0.027], disc_loss: [0.147], \n"
     ]
    },
    {
     "data": {
      "application/vnd.jupyter.widget-view+json": {
       "model_id": "6e0622e47ae84f10b224ee0fad3c57a8",
       "version_major": 2,
       "version_minor": 0
      },
      "text/plain": [
       "0it [00:00, ?it/s]"
      ]
     },
     "metadata": {},
     "output_type": "display_data"
    },
    {
     "name": "stdout",
     "output_type": "stream",
     "text": [
      "Epoch: [79/200], Recon Loss: [0.281], Reg loss: [0.026], disc_loss: [0.163], \n"
     ]
    },
    {
     "data": {
      "application/vnd.jupyter.widget-view+json": {
       "model_id": "5aae7a51c2fd47478e698e299d30579c",
       "version_major": 2,
       "version_minor": 0
      },
      "text/plain": [
       "0it [00:00, ?it/s]"
      ]
     },
     "metadata": {},
     "output_type": "display_data"
    },
    {
     "name": "stdout",
     "output_type": "stream",
     "text": [
      "Epoch: [80/200], Recon Loss: [0.302], Reg loss: [0.026], disc_loss: [0.172], \n"
     ]
    },
    {
     "data": {
      "application/vnd.jupyter.widget-view+json": {
       "model_id": "54ae577e501c41a8807a4cb3f13b1cd5",
       "version_major": 2,
       "version_minor": 0
      },
      "text/plain": [
       "0it [00:00, ?it/s]"
      ]
     },
     "metadata": {},
     "output_type": "display_data"
    },
    {
     "name": "stdout",
     "output_type": "stream",
     "text": [
      "Epoch: [81/200], Recon Loss: [0.307], Reg loss: [0.026], disc_loss: [0.182], \n"
     ]
    },
    {
     "data": {
      "application/vnd.jupyter.widget-view+json": {
       "model_id": "518274a71a5b41d4b179f9e4906318c4",
       "version_major": 2,
       "version_minor": 0
      },
      "text/plain": [
       "0it [00:00, ?it/s]"
      ]
     },
     "metadata": {},
     "output_type": "display_data"
    },
    {
     "name": "stdout",
     "output_type": "stream",
     "text": [
      "Epoch: [82/200], Recon Loss: [0.412], Reg loss: [0.035], disc_loss: [0.105], \n"
     ]
    },
    {
     "data": {
      "application/vnd.jupyter.widget-view+json": {
       "model_id": "4d6fd13772ad43be9aada952caaa7a47",
       "version_major": 2,
       "version_minor": 0
      },
      "text/plain": [
       "0it [00:00, ?it/s]"
      ]
     },
     "metadata": {},
     "output_type": "display_data"
    },
    {
     "name": "stdout",
     "output_type": "stream",
     "text": [
      "Epoch: [83/200], Recon Loss: [0.314], Reg loss: [0.034], disc_loss: [0.072], \n"
     ]
    },
    {
     "data": {
      "application/vnd.jupyter.widget-view+json": {
       "model_id": "22d3437c2d97456fb2b77af8ff5dab87",
       "version_major": 2,
       "version_minor": 0
      },
      "text/plain": [
       "0it [00:00, ?it/s]"
      ]
     },
     "metadata": {},
     "output_type": "display_data"
    },
    {
     "name": "stdout",
     "output_type": "stream",
     "text": [
      "Epoch: [84/200], Recon Loss: [0.309], Reg loss: [0.031], disc_loss: [0.090], \n"
     ]
    },
    {
     "data": {
      "application/vnd.jupyter.widget-view+json": {
       "model_id": "5784d042d22942c492974f961edc6740",
       "version_major": 2,
       "version_minor": 0
      },
      "text/plain": [
       "0it [00:00, ?it/s]"
      ]
     },
     "metadata": {},
     "output_type": "display_data"
    },
    {
     "name": "stdout",
     "output_type": "stream",
     "text": [
      "Epoch: [85/200], Recon Loss: [0.281], Reg loss: [0.030], disc_loss: [0.103], \n"
     ]
    },
    {
     "data": {
      "application/vnd.jupyter.widget-view+json": {
       "model_id": "8b9ab8fc555c4797a679b44312f1b27e",
       "version_major": 2,
       "version_minor": 0
      },
      "text/plain": [
       "0it [00:00, ?it/s]"
      ]
     },
     "metadata": {},
     "output_type": "display_data"
    },
    {
     "name": "stdout",
     "output_type": "stream",
     "text": [
      "Epoch: [86/200], Recon Loss: [0.301], Reg loss: [0.028], disc_loss: [0.127], \n"
     ]
    },
    {
     "data": {
      "application/vnd.jupyter.widget-view+json": {
       "model_id": "473b886d8feb48d9a3c78887a0220f43",
       "version_major": 2,
       "version_minor": 0
      },
      "text/plain": [
       "0it [00:00, ?it/s]"
      ]
     },
     "metadata": {},
     "output_type": "display_data"
    },
    {
     "name": "stdout",
     "output_type": "stream",
     "text": [
      "Epoch: [87/200], Recon Loss: [0.302], Reg loss: [0.027], disc_loss: [0.125], \n"
     ]
    },
    {
     "data": {
      "application/vnd.jupyter.widget-view+json": {
       "model_id": "e3212fc97fe74c0ba8250a559beeb3df",
       "version_major": 2,
       "version_minor": 0
      },
      "text/plain": [
       "0it [00:00, ?it/s]"
      ]
     },
     "metadata": {},
     "output_type": "display_data"
    },
    {
     "name": "stdout",
     "output_type": "stream",
     "text": [
      "Epoch: [88/200], Recon Loss: [0.283], Reg loss: [0.027], disc_loss: [0.134], \n"
     ]
    },
    {
     "data": {
      "application/vnd.jupyter.widget-view+json": {
       "model_id": "1a549f64c23f4b3ebed2d655bc743da2",
       "version_major": 2,
       "version_minor": 0
      },
      "text/plain": [
       "0it [00:00, ?it/s]"
      ]
     },
     "metadata": {},
     "output_type": "display_data"
    },
    {
     "name": "stdout",
     "output_type": "stream",
     "text": [
      "Epoch: [89/200], Recon Loss: [0.290], Reg loss: [0.027], disc_loss: [0.126], \n"
     ]
    },
    {
     "data": {
      "application/vnd.jupyter.widget-view+json": {
       "model_id": "b78ea3d4e41c42b6a5944bf1bea9685f",
       "version_major": 2,
       "version_minor": 0
      },
      "text/plain": [
       "0it [00:00, ?it/s]"
      ]
     },
     "metadata": {},
     "output_type": "display_data"
    },
    {
     "name": "stdout",
     "output_type": "stream",
     "text": [
      "Epoch: [90/200], Recon Loss: [0.306], Reg loss: [0.027], disc_loss: [0.135], \n"
     ]
    },
    {
     "data": {
      "application/vnd.jupyter.widget-view+json": {
       "model_id": "6e8100c506144349a6d26a907bc6dddc",
       "version_major": 2,
       "version_minor": 0
      },
      "text/plain": [
       "0it [00:00, ?it/s]"
      ]
     },
     "metadata": {},
     "output_type": "display_data"
    },
    {
     "name": "stdout",
     "output_type": "stream",
     "text": [
      "Epoch: [91/200], Recon Loss: [0.281], Reg loss: [0.027], disc_loss: [0.131], \n"
     ]
    },
    {
     "data": {
      "application/vnd.jupyter.widget-view+json": {
       "model_id": "9293c8c4bc6b4b04aeccdc9ae7528d02",
       "version_major": 2,
       "version_minor": 0
      },
      "text/plain": [
       "0it [00:00, ?it/s]"
      ]
     },
     "metadata": {},
     "output_type": "display_data"
    },
    {
     "name": "stdout",
     "output_type": "stream",
     "text": [
      "Epoch: [92/200], Recon Loss: [0.279], Reg loss: [0.028], disc_loss: [0.140], \n"
     ]
    },
    {
     "data": {
      "application/vnd.jupyter.widget-view+json": {
       "model_id": "0535e8b2f6a94f5aa5f60de9744524c3",
       "version_major": 2,
       "version_minor": 0
      },
      "text/plain": [
       "0it [00:00, ?it/s]"
      ]
     },
     "metadata": {},
     "output_type": "display_data"
    },
    {
     "name": "stdout",
     "output_type": "stream",
     "text": [
      "Epoch: [93/200], Recon Loss: [0.301], Reg loss: [0.028], disc_loss: [0.141], \n"
     ]
    },
    {
     "data": {
      "application/vnd.jupyter.widget-view+json": {
       "model_id": "400a883dd4c544bf88da0834d8741fd9",
       "version_major": 2,
       "version_minor": 0
      },
      "text/plain": [
       "0it [00:00, ?it/s]"
      ]
     },
     "metadata": {},
     "output_type": "display_data"
    },
    {
     "name": "stdout",
     "output_type": "stream",
     "text": [
      "Epoch: [94/200], Recon Loss: [0.286], Reg loss: [0.027], disc_loss: [0.145], \n"
     ]
    },
    {
     "data": {
      "application/vnd.jupyter.widget-view+json": {
       "model_id": "7218c2e14d314876bab993b74215b778",
       "version_major": 2,
       "version_minor": 0
      },
      "text/plain": [
       "0it [00:00, ?it/s]"
      ]
     },
     "metadata": {},
     "output_type": "display_data"
    },
    {
     "name": "stdout",
     "output_type": "stream",
     "text": [
      "Epoch: [95/200], Recon Loss: [0.275], Reg loss: [0.028], disc_loss: [0.144], \n"
     ]
    },
    {
     "data": {
      "application/vnd.jupyter.widget-view+json": {
       "model_id": "83c75534f3b04024a08a63f987eac8f4",
       "version_major": 2,
       "version_minor": 0
      },
      "text/plain": [
       "0it [00:00, ?it/s]"
      ]
     },
     "metadata": {},
     "output_type": "display_data"
    },
    {
     "name": "stdout",
     "output_type": "stream",
     "text": [
      "Epoch: [96/200], Recon Loss: [0.291], Reg loss: [0.027], disc_loss: [0.150], \n"
     ]
    },
    {
     "data": {
      "application/vnd.jupyter.widget-view+json": {
       "model_id": "95982524233f40af81272a14842ea7cf",
       "version_major": 2,
       "version_minor": 0
      },
      "text/plain": [
       "0it [00:00, ?it/s]"
      ]
     },
     "metadata": {},
     "output_type": "display_data"
    },
    {
     "name": "stdout",
     "output_type": "stream",
     "text": [
      "Epoch: [97/200], Recon Loss: [0.295], Reg loss: [0.027], disc_loss: [0.134], \n"
     ]
    },
    {
     "data": {
      "application/vnd.jupyter.widget-view+json": {
       "model_id": "b8d8942108004e45bc41373e0f9005b8",
       "version_major": 2,
       "version_minor": 0
      },
      "text/plain": [
       "0it [00:00, ?it/s]"
      ]
     },
     "metadata": {},
     "output_type": "display_data"
    },
    {
     "name": "stdout",
     "output_type": "stream",
     "text": [
      "Epoch: [98/200], Recon Loss: [0.270], Reg loss: [0.026], disc_loss: [0.163], \n"
     ]
    },
    {
     "data": {
      "application/vnd.jupyter.widget-view+json": {
       "model_id": "385431075de74e399fc6ab7505a5d9eb",
       "version_major": 2,
       "version_minor": 0
      },
      "text/plain": [
       "0it [00:00, ?it/s]"
      ]
     },
     "metadata": {},
     "output_type": "display_data"
    },
    {
     "name": "stdout",
     "output_type": "stream",
     "text": [
      "Epoch: [99/200], Recon Loss: [0.286], Reg loss: [0.027], disc_loss: [0.185], \n"
     ]
    },
    {
     "data": {
      "application/vnd.jupyter.widget-view+json": {
       "model_id": "4490a1cfaaff4dc1aa37cb662e7d26b2",
       "version_major": 2,
       "version_minor": 0
      },
      "text/plain": [
       "0it [00:00, ?it/s]"
      ]
     },
     "metadata": {},
     "output_type": "display_data"
    },
    {
     "name": "stdout",
     "output_type": "stream",
     "text": [
      "Epoch: [100/200], Recon Loss: [0.295], Reg loss: [0.026], disc_loss: [0.178], \n",
      "Saving models\n"
     ]
    },
    {
     "data": {
      "application/vnd.jupyter.widget-view+json": {
       "model_id": "7c85eaf1b99a4c7da9873197bbb92f25",
       "version_major": 2,
       "version_minor": 0
      },
      "text/plain": [
       "0it [00:00, ?it/s]"
      ]
     },
     "metadata": {},
     "output_type": "display_data"
    },
    {
     "name": "stdout",
     "output_type": "stream",
     "text": [
      "Epoch: [101/200], Recon Loss: [0.294], Reg loss: [0.026], disc_loss: [0.136], \n"
     ]
    },
    {
     "data": {
      "application/vnd.jupyter.widget-view+json": {
       "model_id": "6bdfa166d8ae4b22bad3007735c52635",
       "version_major": 2,
       "version_minor": 0
      },
      "text/plain": [
       "0it [00:00, ?it/s]"
      ]
     },
     "metadata": {},
     "output_type": "display_data"
    },
    {
     "name": "stdout",
     "output_type": "stream",
     "text": [
      "Epoch: [102/200], Recon Loss: [0.423], Reg loss: [0.034], disc_loss: [0.108], \n"
     ]
    },
    {
     "data": {
      "application/vnd.jupyter.widget-view+json": {
       "model_id": "112dba729c9f41898c2a71690e136a87",
       "version_major": 2,
       "version_minor": 0
      },
      "text/plain": [
       "0it [00:00, ?it/s]"
      ]
     },
     "metadata": {},
     "output_type": "display_data"
    },
    {
     "name": "stdout",
     "output_type": "stream",
     "text": [
      "Epoch: [103/200], Recon Loss: [0.363], Reg loss: [0.044], disc_loss: [0.032], \n"
     ]
    },
    {
     "data": {
      "application/vnd.jupyter.widget-view+json": {
       "model_id": "c17b0b666e354c82a13bccf446fb7357",
       "version_major": 2,
       "version_minor": 0
      },
      "text/plain": [
       "0it [00:00, ?it/s]"
      ]
     },
     "metadata": {},
     "output_type": "display_data"
    },
    {
     "name": "stdout",
     "output_type": "stream",
     "text": [
      "Epoch: [104/200], Recon Loss: [0.299], Reg loss: [0.036], disc_loss: [0.068], \n"
     ]
    },
    {
     "data": {
      "application/vnd.jupyter.widget-view+json": {
       "model_id": "aee01114432644289f5e3739fb570647",
       "version_major": 2,
       "version_minor": 0
      },
      "text/plain": [
       "0it [00:00, ?it/s]"
      ]
     },
     "metadata": {},
     "output_type": "display_data"
    },
    {
     "name": "stdout",
     "output_type": "stream",
     "text": [
      "Epoch: [105/200], Recon Loss: [0.276], Reg loss: [0.039], disc_loss: [0.090], \n"
     ]
    },
    {
     "data": {
      "application/vnd.jupyter.widget-view+json": {
       "model_id": "7c42990a199c4705ad415afebba0c90c",
       "version_major": 2,
       "version_minor": 0
      },
      "text/plain": [
       "0it [00:00, ?it/s]"
      ]
     },
     "metadata": {},
     "output_type": "display_data"
    },
    {
     "name": "stdout",
     "output_type": "stream",
     "text": [
      "Epoch: [106/200], Recon Loss: [0.289], Reg loss: [0.034], disc_loss: [0.097], \n"
     ]
    },
    {
     "data": {
      "application/vnd.jupyter.widget-view+json": {
       "model_id": "ed36755de7bc443c8355256fc6bee183",
       "version_major": 2,
       "version_minor": 0
      },
      "text/plain": [
       "0it [00:00, ?it/s]"
      ]
     },
     "metadata": {},
     "output_type": "display_data"
    },
    {
     "name": "stdout",
     "output_type": "stream",
     "text": [
      "Epoch: [107/200], Recon Loss: [0.299], Reg loss: [0.034], disc_loss: [0.114], \n"
     ]
    },
    {
     "data": {
      "application/vnd.jupyter.widget-view+json": {
       "model_id": "fcf117fe9ee6421cbab4065897c09bf0",
       "version_major": 2,
       "version_minor": 0
      },
      "text/plain": [
       "0it [00:00, ?it/s]"
      ]
     },
     "metadata": {},
     "output_type": "display_data"
    },
    {
     "name": "stdout",
     "output_type": "stream",
     "text": [
      "Epoch: [108/200], Recon Loss: [0.284], Reg loss: [0.030], disc_loss: [0.147], \n"
     ]
    },
    {
     "data": {
      "application/vnd.jupyter.widget-view+json": {
       "model_id": "7557c49d74b748fe9374df41458ef5ab",
       "version_major": 2,
       "version_minor": 0
      },
      "text/plain": [
       "0it [00:00, ?it/s]"
      ]
     },
     "metadata": {},
     "output_type": "display_data"
    },
    {
     "name": "stdout",
     "output_type": "stream",
     "text": [
      "Epoch: [109/200], Recon Loss: [0.271], Reg loss: [0.028], disc_loss: [0.138], \n"
     ]
    },
    {
     "data": {
      "application/vnd.jupyter.widget-view+json": {
       "model_id": "8dc962482218479ab911c85ba3b67c2d",
       "version_major": 2,
       "version_minor": 0
      },
      "text/plain": [
       "0it [00:00, ?it/s]"
      ]
     },
     "metadata": {},
     "output_type": "display_data"
    },
    {
     "name": "stdout",
     "output_type": "stream",
     "text": [
      "Epoch: [110/200], Recon Loss: [0.299], Reg loss: [0.029], disc_loss: [0.134], \n"
     ]
    },
    {
     "data": {
      "application/vnd.jupyter.widget-view+json": {
       "model_id": "b96b109b091b42f88095a351783389e1",
       "version_major": 2,
       "version_minor": 0
      },
      "text/plain": [
       "0it [00:00, ?it/s]"
      ]
     },
     "metadata": {},
     "output_type": "display_data"
    },
    {
     "name": "stdout",
     "output_type": "stream",
     "text": [
      "Epoch: [111/200], Recon Loss: [0.292], Reg loss: [0.027], disc_loss: [0.150], \n"
     ]
    },
    {
     "data": {
      "application/vnd.jupyter.widget-view+json": {
       "model_id": "b6d2e54a1cd34975b5751ab586064951",
       "version_major": 2,
       "version_minor": 0
      },
      "text/plain": [
       "0it [00:00, ?it/s]"
      ]
     },
     "metadata": {},
     "output_type": "display_data"
    },
    {
     "name": "stdout",
     "output_type": "stream",
     "text": [
      "Epoch: [112/200], Recon Loss: [0.271], Reg loss: [0.027], disc_loss: [0.163], \n"
     ]
    },
    {
     "data": {
      "application/vnd.jupyter.widget-view+json": {
       "model_id": "016a7034f6644fafbbd038e03c57ac3c",
       "version_major": 2,
       "version_minor": 0
      },
      "text/plain": [
       "0it [00:00, ?it/s]"
      ]
     },
     "metadata": {},
     "output_type": "display_data"
    },
    {
     "name": "stdout",
     "output_type": "stream",
     "text": [
      "Epoch: [113/200], Recon Loss: [0.281], Reg loss: [0.027], disc_loss: [0.160], \n"
     ]
    },
    {
     "data": {
      "application/vnd.jupyter.widget-view+json": {
       "model_id": "57f758db1f32491db44631b9236ff80b",
       "version_major": 2,
       "version_minor": 0
      },
      "text/plain": [
       "0it [00:00, ?it/s]"
      ]
     },
     "metadata": {},
     "output_type": "display_data"
    },
    {
     "name": "stdout",
     "output_type": "stream",
     "text": [
      "Epoch: [114/200], Recon Loss: [0.297], Reg loss: [0.027], disc_loss: [0.152], \n"
     ]
    },
    {
     "data": {
      "application/vnd.jupyter.widget-view+json": {
       "model_id": "06e517f3a5344a06b10e3c42892c6140",
       "version_major": 2,
       "version_minor": 0
      },
      "text/plain": [
       "0it [00:00, ?it/s]"
      ]
     },
     "metadata": {},
     "output_type": "display_data"
    },
    {
     "name": "stdout",
     "output_type": "stream",
     "text": [
      "Epoch: [115/200], Recon Loss: [0.283], Reg loss: [0.025], disc_loss: [0.168], \n"
     ]
    },
    {
     "data": {
      "application/vnd.jupyter.widget-view+json": {
       "model_id": "5b5bec6440c346ff8bf92618d46fb215",
       "version_major": 2,
       "version_minor": 0
      },
      "text/plain": [
       "0it [00:00, ?it/s]"
      ]
     },
     "metadata": {},
     "output_type": "display_data"
    },
    {
     "name": "stdout",
     "output_type": "stream",
     "text": [
      "Epoch: [116/200], Recon Loss: [0.263], Reg loss: [0.024], disc_loss: [0.156], \n"
     ]
    },
    {
     "data": {
      "application/vnd.jupyter.widget-view+json": {
       "model_id": "97daedce564d4c73865c946dd570143a",
       "version_major": 2,
       "version_minor": 0
      },
      "text/plain": [
       "0it [00:00, ?it/s]"
      ]
     },
     "metadata": {},
     "output_type": "display_data"
    },
    {
     "name": "stdout",
     "output_type": "stream",
     "text": [
      "Epoch: [117/200], Recon Loss: [0.290], Reg loss: [0.026], disc_loss: [0.155], \n"
     ]
    },
    {
     "data": {
      "application/vnd.jupyter.widget-view+json": {
       "model_id": "6d29dd8d81974882851b7ab447004979",
       "version_major": 2,
       "version_minor": 0
      },
      "text/plain": [
       "0it [00:00, ?it/s]"
      ]
     },
     "metadata": {},
     "output_type": "display_data"
    },
    {
     "name": "stdout",
     "output_type": "stream",
     "text": [
      "Epoch: [118/200], Recon Loss: [0.295], Reg loss: [0.026], disc_loss: [0.165], \n"
     ]
    },
    {
     "data": {
      "application/vnd.jupyter.widget-view+json": {
       "model_id": "c10652c7823748fd99d4c5941ba6c142",
       "version_major": 2,
       "version_minor": 0
      },
      "text/plain": [
       "0it [00:00, ?it/s]"
      ]
     },
     "metadata": {},
     "output_type": "display_data"
    },
    {
     "name": "stdout",
     "output_type": "stream",
     "text": [
      "Epoch: [119/200], Recon Loss: [0.268], Reg loss: [0.026], disc_loss: [0.156], \n"
     ]
    },
    {
     "data": {
      "application/vnd.jupyter.widget-view+json": {
       "model_id": "78a9aededede4a2fb204afa45d30a271",
       "version_major": 2,
       "version_minor": 0
      },
      "text/plain": [
       "0it [00:00, ?it/s]"
      ]
     },
     "metadata": {},
     "output_type": "display_data"
    },
    {
     "name": "stdout",
     "output_type": "stream",
     "text": [
      "Epoch: [120/200], Recon Loss: [0.272], Reg loss: [0.027], disc_loss: [0.146], \n"
     ]
    },
    {
     "data": {
      "application/vnd.jupyter.widget-view+json": {
       "model_id": "7b943cea1bb74249affad9649737f8de",
       "version_major": 2,
       "version_minor": 0
      },
      "text/plain": [
       "0it [00:00, ?it/s]"
      ]
     },
     "metadata": {},
     "output_type": "display_data"
    },
    {
     "name": "stdout",
     "output_type": "stream",
     "text": [
      "Epoch: [121/200], Recon Loss: [0.291], Reg loss: [0.026], disc_loss: [0.152], \n"
     ]
    },
    {
     "data": {
      "application/vnd.jupyter.widget-view+json": {
       "model_id": "e9f4a0a18d1b40ef91d6b78f9dbed6b1",
       "version_major": 2,
       "version_minor": 0
      },
      "text/plain": [
       "0it [00:00, ?it/s]"
      ]
     },
     "metadata": {},
     "output_type": "display_data"
    },
    {
     "name": "stdout",
     "output_type": "stream",
     "text": [
      "Epoch: [122/200], Recon Loss: [0.304], Reg loss: [0.027], disc_loss: [0.141], \n"
     ]
    },
    {
     "data": {
      "application/vnd.jupyter.widget-view+json": {
       "model_id": "78e92583cdf3424da64472ae27a5d15d",
       "version_major": 2,
       "version_minor": 0
      },
      "text/plain": [
       "0it [00:00, ?it/s]"
      ]
     },
     "metadata": {},
     "output_type": "display_data"
    },
    {
     "name": "stdout",
     "output_type": "stream",
     "text": [
      "Epoch: [123/200], Recon Loss: [0.456], Reg loss: [0.033], disc_loss: [0.109], \n"
     ]
    },
    {
     "data": {
      "application/vnd.jupyter.widget-view+json": {
       "model_id": "1414380b2fed48e3b90ac28ab593056d",
       "version_major": 2,
       "version_minor": 0
      },
      "text/plain": [
       "0it [00:00, ?it/s]"
      ]
     },
     "metadata": {},
     "output_type": "display_data"
    },
    {
     "name": "stdout",
     "output_type": "stream",
     "text": [
      "Epoch: [124/200], Recon Loss: [0.525], Reg loss: [0.048], disc_loss: [0.033], \n"
     ]
    },
    {
     "data": {
      "application/vnd.jupyter.widget-view+json": {
       "model_id": "8afec9da5135454f9e8006d60008c148",
       "version_major": 2,
       "version_minor": 0
      },
      "text/plain": [
       "0it [00:00, ?it/s]"
      ]
     },
     "metadata": {},
     "output_type": "display_data"
    },
    {
     "name": "stdout",
     "output_type": "stream",
     "text": [
      "Epoch: [125/200], Recon Loss: [0.388], Reg loss: [0.042], disc_loss: [0.038], \n",
      "Saving models\n"
     ]
    },
    {
     "data": {
      "application/vnd.jupyter.widget-view+json": {
       "model_id": "69b98731fcd24e9eaca9a88ee4fc5114",
       "version_major": 2,
       "version_minor": 0
      },
      "text/plain": [
       "0it [00:00, ?it/s]"
      ]
     },
     "metadata": {},
     "output_type": "display_data"
    },
    {
     "name": "stdout",
     "output_type": "stream",
     "text": [
      "Epoch: [126/200], Recon Loss: [0.331], Reg loss: [0.039], disc_loss: [0.042], \n"
     ]
    },
    {
     "data": {
      "application/vnd.jupyter.widget-view+json": {
       "model_id": "75956f5d354042d5ad1808007d7b0735",
       "version_major": 2,
       "version_minor": 0
      },
      "text/plain": [
       "0it [00:00, ?it/s]"
      ]
     },
     "metadata": {},
     "output_type": "display_data"
    },
    {
     "name": "stdout",
     "output_type": "stream",
     "text": [
      "Epoch: [127/200], Recon Loss: [0.298], Reg loss: [0.047], disc_loss: [0.052], \n"
     ]
    },
    {
     "data": {
      "application/vnd.jupyter.widget-view+json": {
       "model_id": "90bbdb127d714357aa0cb702bbba0948",
       "version_major": 2,
       "version_minor": 0
      },
      "text/plain": [
       "0it [00:00, ?it/s]"
      ]
     },
     "metadata": {},
     "output_type": "display_data"
    },
    {
     "name": "stdout",
     "output_type": "stream",
     "text": [
      "Epoch: [128/200], Recon Loss: [0.313], Reg loss: [0.040], disc_loss: [0.063], \n"
     ]
    },
    {
     "data": {
      "application/vnd.jupyter.widget-view+json": {
       "model_id": "b5a0178de1a34fc5adab145e45ef629c",
       "version_major": 2,
       "version_minor": 0
      },
      "text/plain": [
       "0it [00:00, ?it/s]"
      ]
     },
     "metadata": {},
     "output_type": "display_data"
    },
    {
     "name": "stdout",
     "output_type": "stream",
     "text": [
      "Epoch: [129/200], Recon Loss: [0.334], Reg loss: [0.037], disc_loss: [0.069], \n"
     ]
    },
    {
     "data": {
      "application/vnd.jupyter.widget-view+json": {
       "model_id": "0045082fbe6f48adad40ed15fd9ea591",
       "version_major": 2,
       "version_minor": 0
      },
      "text/plain": [
       "0it [00:00, ?it/s]"
      ]
     },
     "metadata": {},
     "output_type": "display_data"
    },
    {
     "name": "stdout",
     "output_type": "stream",
     "text": [
      "Epoch: [130/200], Recon Loss: [0.325], Reg loss: [0.038], disc_loss: [0.074], \n"
     ]
    },
    {
     "data": {
      "application/vnd.jupyter.widget-view+json": {
       "model_id": "b8a19c5f2e4e42319369e09b7fa78792",
       "version_major": 2,
       "version_minor": 0
      },
      "text/plain": [
       "0it [00:00, ?it/s]"
      ]
     },
     "metadata": {},
     "output_type": "display_data"
    },
    {
     "name": "stdout",
     "output_type": "stream",
     "text": [
      "Epoch: [131/200], Recon Loss: [0.290], Reg loss: [0.036], disc_loss: [0.067], \n"
     ]
    },
    {
     "data": {
      "application/vnd.jupyter.widget-view+json": {
       "model_id": "3928103ccf6046e399530ccbfde0f09a",
       "version_major": 2,
       "version_minor": 0
      },
      "text/plain": [
       "0it [00:00, ?it/s]"
      ]
     },
     "metadata": {},
     "output_type": "display_data"
    },
    {
     "name": "stdout",
     "output_type": "stream",
     "text": [
      "Epoch: [132/200], Recon Loss: [0.300], Reg loss: [0.036], disc_loss: [0.058], \n"
     ]
    },
    {
     "data": {
      "application/vnd.jupyter.widget-view+json": {
       "model_id": "43c5ad75528e4932bf686bd3144e50f6",
       "version_major": 2,
       "version_minor": 0
      },
      "text/plain": [
       "0it [00:00, ?it/s]"
      ]
     },
     "metadata": {},
     "output_type": "display_data"
    },
    {
     "name": "stdout",
     "output_type": "stream",
     "text": [
      "Epoch: [133/200], Recon Loss: [0.319], Reg loss: [0.034], disc_loss: [0.067], \n"
     ]
    },
    {
     "data": {
      "application/vnd.jupyter.widget-view+json": {
       "model_id": "7a8161c5d8eb4b17ab23288e5ba91229",
       "version_major": 2,
       "version_minor": 0
      },
      "text/plain": [
       "0it [00:00, ?it/s]"
      ]
     },
     "metadata": {},
     "output_type": "display_data"
    },
    {
     "name": "stdout",
     "output_type": "stream",
     "text": [
      "Epoch: [134/200], Recon Loss: [0.300], Reg loss: [0.036], disc_loss: [0.065], \n"
     ]
    },
    {
     "data": {
      "application/vnd.jupyter.widget-view+json": {
       "model_id": "169e7462fedd40508b9f8b75d96b14b6",
       "version_major": 2,
       "version_minor": 0
      },
      "text/plain": [
       "0it [00:00, ?it/s]"
      ]
     },
     "metadata": {},
     "output_type": "display_data"
    },
    {
     "name": "stdout",
     "output_type": "stream",
     "text": [
      "Epoch: [135/200], Recon Loss: [0.276], Reg loss: [0.035], disc_loss: [0.078], \n"
     ]
    },
    {
     "data": {
      "application/vnd.jupyter.widget-view+json": {
       "model_id": "2a1d5bdb36eb4f3dacd647c681221b8b",
       "version_major": 2,
       "version_minor": 0
      },
      "text/plain": [
       "0it [00:00, ?it/s]"
      ]
     },
     "metadata": {},
     "output_type": "display_data"
    },
    {
     "name": "stdout",
     "output_type": "stream",
     "text": [
      "Epoch: [136/200], Recon Loss: [0.291], Reg loss: [0.034], disc_loss: [0.080], \n"
     ]
    },
    {
     "data": {
      "application/vnd.jupyter.widget-view+json": {
       "model_id": "2ff7f10312e8497e844795345b90bafd",
       "version_major": 2,
       "version_minor": 0
      },
      "text/plain": [
       "0it [00:00, ?it/s]"
      ]
     },
     "metadata": {},
     "output_type": "display_data"
    },
    {
     "name": "stdout",
     "output_type": "stream",
     "text": [
      "Epoch: [137/200], Recon Loss: [0.320], Reg loss: [0.032], disc_loss: [0.083], \n"
     ]
    },
    {
     "data": {
      "application/vnd.jupyter.widget-view+json": {
       "model_id": "58a537a66ab046178374730af8887db8",
       "version_major": 2,
       "version_minor": 0
      },
      "text/plain": [
       "0it [00:00, ?it/s]"
      ]
     },
     "metadata": {},
     "output_type": "display_data"
    },
    {
     "name": "stdout",
     "output_type": "stream",
     "text": [
      "Epoch: [138/200], Recon Loss: [0.313], Reg loss: [0.034], disc_loss: [0.083], \n"
     ]
    },
    {
     "data": {
      "application/vnd.jupyter.widget-view+json": {
       "model_id": "a6c1af7ce12947279d4d69a537f1db96",
       "version_major": 2,
       "version_minor": 0
      },
      "text/plain": [
       "0it [00:00, ?it/s]"
      ]
     },
     "metadata": {},
     "output_type": "display_data"
    },
    {
     "name": "stdout",
     "output_type": "stream",
     "text": [
      "Epoch: [139/200], Recon Loss: [0.331], Reg loss: [0.035], disc_loss: [0.090], \n"
     ]
    },
    {
     "data": {
      "application/vnd.jupyter.widget-view+json": {
       "model_id": "e953e42e1e3c4e90a1ce7a85e942e999",
       "version_major": 2,
       "version_minor": 0
      },
      "text/plain": [
       "0it [00:00, ?it/s]"
      ]
     },
     "metadata": {},
     "output_type": "display_data"
    },
    {
     "name": "stdout",
     "output_type": "stream",
     "text": [
      "Epoch: [140/200], Recon Loss: [0.354], Reg loss: [0.040], disc_loss: [0.074], \n"
     ]
    },
    {
     "data": {
      "application/vnd.jupyter.widget-view+json": {
       "model_id": "c799d4191aba44d09455b50a0796b2cf",
       "version_major": 2,
       "version_minor": 0
      },
      "text/plain": [
       "0it [00:00, ?it/s]"
      ]
     },
     "metadata": {},
     "output_type": "display_data"
    },
    {
     "name": "stdout",
     "output_type": "stream",
     "text": [
      "Epoch: [141/200], Recon Loss: [0.329], Reg loss: [0.038], disc_loss: [0.063], \n"
     ]
    },
    {
     "data": {
      "application/vnd.jupyter.widget-view+json": {
       "model_id": "801e9cd4a3cc47c4b107e3c110ec99a9",
       "version_major": 2,
       "version_minor": 0
      },
      "text/plain": [
       "0it [00:00, ?it/s]"
      ]
     },
     "metadata": {},
     "output_type": "display_data"
    },
    {
     "name": "stdout",
     "output_type": "stream",
     "text": [
      "Epoch: [142/200], Recon Loss: [0.305], Reg loss: [0.035], disc_loss: [0.067], \n"
     ]
    },
    {
     "data": {
      "application/vnd.jupyter.widget-view+json": {
       "model_id": "5eb8ccf5cecb477da28fabd29e23d15c",
       "version_major": 2,
       "version_minor": 0
      },
      "text/plain": [
       "0it [00:00, ?it/s]"
      ]
     },
     "metadata": {},
     "output_type": "display_data"
    },
    {
     "name": "stdout",
     "output_type": "stream",
     "text": [
      "Epoch: [143/200], Recon Loss: [0.271], Reg loss: [0.034], disc_loss: [0.070], \n"
     ]
    },
    {
     "data": {
      "application/vnd.jupyter.widget-view+json": {
       "model_id": "64505066a71f45fda19ef3b5b40622f7",
       "version_major": 2,
       "version_minor": 0
      },
      "text/plain": [
       "0it [00:00, ?it/s]"
      ]
     },
     "metadata": {},
     "output_type": "display_data"
    },
    {
     "name": "stdout",
     "output_type": "stream",
     "text": [
      "Epoch: [144/200], Recon Loss: [0.283], Reg loss: [0.034], disc_loss: [0.087], \n"
     ]
    },
    {
     "data": {
      "application/vnd.jupyter.widget-view+json": {
       "model_id": "f02a4676512a436f841505da5b092e76",
       "version_major": 2,
       "version_minor": 0
      },
      "text/plain": [
       "0it [00:00, ?it/s]"
      ]
     },
     "metadata": {},
     "output_type": "display_data"
    },
    {
     "name": "stdout",
     "output_type": "stream",
     "text": [
      "Epoch: [145/200], Recon Loss: [0.317], Reg loss: [0.033], disc_loss: [0.082], \n"
     ]
    },
    {
     "data": {
      "application/vnd.jupyter.widget-view+json": {
       "model_id": "d50efbb7409b4cf2830b632adfa75a9c",
       "version_major": 2,
       "version_minor": 0
      },
      "text/plain": [
       "0it [00:00, ?it/s]"
      ]
     },
     "metadata": {},
     "output_type": "display_data"
    },
    {
     "name": "stdout",
     "output_type": "stream",
     "text": [
      "Epoch: [146/200], Recon Loss: [0.300], Reg loss: [0.033], disc_loss: [0.072], \n"
     ]
    },
    {
     "data": {
      "application/vnd.jupyter.widget-view+json": {
       "model_id": "1feca811c23d445d9e5dbd23a0948f9f",
       "version_major": 2,
       "version_minor": 0
      },
      "text/plain": [
       "0it [00:00, ?it/s]"
      ]
     },
     "metadata": {},
     "output_type": "display_data"
    },
    {
     "name": "stdout",
     "output_type": "stream",
     "text": [
      "Epoch: [147/200], Recon Loss: [0.270], Reg loss: [0.033], disc_loss: [0.085], \n"
     ]
    },
    {
     "data": {
      "application/vnd.jupyter.widget-view+json": {
       "model_id": "a8a282e64beb4fdf933116911648eca8",
       "version_major": 2,
       "version_minor": 0
      },
      "text/plain": [
       "0it [00:00, ?it/s]"
      ]
     },
     "metadata": {},
     "output_type": "display_data"
    },
    {
     "name": "stdout",
     "output_type": "stream",
     "text": [
      "Epoch: [148/200], Recon Loss: [0.277], Reg loss: [0.033], disc_loss: [0.086], \n"
     ]
    },
    {
     "data": {
      "application/vnd.jupyter.widget-view+json": {
       "model_id": "e428b24de537452fac66bad7302c3bee",
       "version_major": 2,
       "version_minor": 0
      },
      "text/plain": [
       "0it [00:00, ?it/s]"
      ]
     },
     "metadata": {},
     "output_type": "display_data"
    },
    {
     "name": "stdout",
     "output_type": "stream",
     "text": [
      "Epoch: [149/200], Recon Loss: [0.302], Reg loss: [0.035], disc_loss: [0.076], \n"
     ]
    },
    {
     "data": {
      "application/vnd.jupyter.widget-view+json": {
       "model_id": "b42d4a9628b846daac7091484f83f71c",
       "version_major": 2,
       "version_minor": 0
      },
      "text/plain": [
       "0it [00:00, ?it/s]"
      ]
     },
     "metadata": {},
     "output_type": "display_data"
    },
    {
     "name": "stdout",
     "output_type": "stream",
     "text": [
      "Epoch: [150/200], Recon Loss: [0.284], Reg loss: [0.032], disc_loss: [0.099], \n",
      "Saving models\n"
     ]
    },
    {
     "data": {
      "application/vnd.jupyter.widget-view+json": {
       "model_id": "ee864c1d8ec2465b90e45966acc920c7",
       "version_major": 2,
       "version_minor": 0
      },
      "text/plain": [
       "0it [00:00, ?it/s]"
      ]
     },
     "metadata": {},
     "output_type": "display_data"
    },
    {
     "name": "stdout",
     "output_type": "stream",
     "text": [
      "Epoch: [151/200], Recon Loss: [0.267], Reg loss: [0.030], disc_loss: [0.083], \n"
     ]
    },
    {
     "data": {
      "application/vnd.jupyter.widget-view+json": {
       "model_id": "e1a80a07d33249c3bcdd9bb5be078508",
       "version_major": 2,
       "version_minor": 0
      },
      "text/plain": [
       "0it [00:00, ?it/s]"
      ]
     },
     "metadata": {},
     "output_type": "display_data"
    },
    {
     "name": "stdout",
     "output_type": "stream",
     "text": [
      "Epoch: [152/200], Recon Loss: [0.279], Reg loss: [0.033], disc_loss: [0.074], \n"
     ]
    },
    {
     "data": {
      "application/vnd.jupyter.widget-view+json": {
       "model_id": "72ce90768dcc42969011058e3257074b",
       "version_major": 2,
       "version_minor": 0
      },
      "text/plain": [
       "0it [00:00, ?it/s]"
      ]
     },
     "metadata": {},
     "output_type": "display_data"
    },
    {
     "name": "stdout",
     "output_type": "stream",
     "text": [
      "Epoch: [153/200], Recon Loss: [0.300], Reg loss: [0.031], disc_loss: [0.102], \n"
     ]
    },
    {
     "data": {
      "application/vnd.jupyter.widget-view+json": {
       "model_id": "c14211a7bf7244d2b23c2f99569f236e",
       "version_major": 2,
       "version_minor": 0
      },
      "text/plain": [
       "0it [00:00, ?it/s]"
      ]
     },
     "metadata": {},
     "output_type": "display_data"
    },
    {
     "name": "stdout",
     "output_type": "stream",
     "text": [
      "Epoch: [154/200], Recon Loss: [0.276], Reg loss: [0.033], disc_loss: [0.095], \n"
     ]
    },
    {
     "data": {
      "application/vnd.jupyter.widget-view+json": {
       "model_id": "04458676bb49464ebd05ab8a024b56be",
       "version_major": 2,
       "version_minor": 0
      },
      "text/plain": [
       "0it [00:00, ?it/s]"
      ]
     },
     "metadata": {},
     "output_type": "display_data"
    },
    {
     "name": "stdout",
     "output_type": "stream",
     "text": [
      "Epoch: [155/200], Recon Loss: [0.270], Reg loss: [0.033], disc_loss: [0.089], \n"
     ]
    },
    {
     "data": {
      "application/vnd.jupyter.widget-view+json": {
       "model_id": "6419e64a8f764709a8c7239670e242a4",
       "version_major": 2,
       "version_minor": 0
      },
      "text/plain": [
       "0it [00:00, ?it/s]"
      ]
     },
     "metadata": {},
     "output_type": "display_data"
    },
    {
     "name": "stdout",
     "output_type": "stream",
     "text": [
      "Epoch: [156/200], Recon Loss: [0.286], Reg loss: [0.033], disc_loss: [0.094], \n"
     ]
    },
    {
     "data": {
      "application/vnd.jupyter.widget-view+json": {
       "model_id": "173758a237034566aabd893d691d78f4",
       "version_major": 2,
       "version_minor": 0
      },
      "text/plain": [
       "0it [00:00, ?it/s]"
      ]
     },
     "metadata": {},
     "output_type": "display_data"
    },
    {
     "name": "stdout",
     "output_type": "stream",
     "text": [
      "Epoch: [157/200], Recon Loss: [0.286], Reg loss: [0.031], disc_loss: [0.088], \n"
     ]
    },
    {
     "data": {
      "application/vnd.jupyter.widget-view+json": {
       "model_id": "d5510c8455d04467b58f2382318c4cc2",
       "version_major": 2,
       "version_minor": 0
      },
      "text/plain": [
       "0it [00:00, ?it/s]"
      ]
     },
     "metadata": {},
     "output_type": "display_data"
    },
    {
     "name": "stdout",
     "output_type": "stream",
     "text": [
      "Epoch: [158/200], Recon Loss: [0.260], Reg loss: [0.031], disc_loss: [0.102], \n"
     ]
    },
    {
     "data": {
      "application/vnd.jupyter.widget-view+json": {
       "model_id": "f28817d2cebe4dd0bb42568c3f35427a",
       "version_major": 2,
       "version_minor": 0
      },
      "text/plain": [
       "0it [00:00, ?it/s]"
      ]
     },
     "metadata": {},
     "output_type": "display_data"
    },
    {
     "name": "stdout",
     "output_type": "stream",
     "text": [
      "Epoch: [159/200], Recon Loss: [0.268], Reg loss: [0.031], disc_loss: [0.100], \n"
     ]
    },
    {
     "data": {
      "application/vnd.jupyter.widget-view+json": {
       "model_id": "d5255531ae84421791bb97bc9723cca4",
       "version_major": 2,
       "version_minor": 0
      },
      "text/plain": [
       "0it [00:00, ?it/s]"
      ]
     },
     "metadata": {},
     "output_type": "display_data"
    },
    {
     "name": "stdout",
     "output_type": "stream",
     "text": [
      "Epoch: [160/200], Recon Loss: [0.291], Reg loss: [0.030], disc_loss: [0.102], \n"
     ]
    },
    {
     "data": {
      "application/vnd.jupyter.widget-view+json": {
       "model_id": "5eabe6f1bd60427d9eaffea28b9364bd",
       "version_major": 2,
       "version_minor": 0
      },
      "text/plain": [
       "0it [00:00, ?it/s]"
      ]
     },
     "metadata": {},
     "output_type": "display_data"
    },
    {
     "name": "stdout",
     "output_type": "stream",
     "text": [
      "Epoch: [161/200], Recon Loss: [0.274], Reg loss: [0.030], disc_loss: [0.090], \n"
     ]
    },
    {
     "data": {
      "application/vnd.jupyter.widget-view+json": {
       "model_id": "dfc396c6684445d8a5b9f86ffe167556",
       "version_major": 2,
       "version_minor": 0
      },
      "text/plain": [
       "0it [00:00, ?it/s]"
      ]
     },
     "metadata": {},
     "output_type": "display_data"
    },
    {
     "name": "stdout",
     "output_type": "stream",
     "text": [
      "Epoch: [162/200], Recon Loss: [0.260], Reg loss: [0.030], disc_loss: [0.085], \n"
     ]
    },
    {
     "data": {
      "application/vnd.jupyter.widget-view+json": {
       "model_id": "f26972277bff41b18aa42f69cce5b0b7",
       "version_major": 2,
       "version_minor": 0
      },
      "text/plain": [
       "0it [00:00, ?it/s]"
      ]
     },
     "metadata": {},
     "output_type": "display_data"
    },
    {
     "name": "stdout",
     "output_type": "stream",
     "text": [
      "Epoch: [163/200], Recon Loss: [0.280], Reg loss: [0.032], disc_loss: [0.107], \n"
     ]
    },
    {
     "data": {
      "application/vnd.jupyter.widget-view+json": {
       "model_id": "7e31a9e8193b480fa10b047ad89a2240",
       "version_major": 2,
       "version_minor": 0
      },
      "text/plain": [
       "0it [00:00, ?it/s]"
      ]
     },
     "metadata": {},
     "output_type": "display_data"
    },
    {
     "name": "stdout",
     "output_type": "stream",
     "text": [
      "Epoch: [164/200], Recon Loss: [0.292], Reg loss: [0.030], disc_loss: [0.109], \n"
     ]
    },
    {
     "data": {
      "application/vnd.jupyter.widget-view+json": {
       "model_id": "cd9f68f0e85447339a2e29b758fd4611",
       "version_major": 2,
       "version_minor": 0
      },
      "text/plain": [
       "0it [00:00, ?it/s]"
      ]
     },
     "metadata": {},
     "output_type": "display_data"
    },
    {
     "name": "stdout",
     "output_type": "stream",
     "text": [
      "Epoch: [165/200], Recon Loss: [0.262], Reg loss: [0.030], disc_loss: [0.101], \n"
     ]
    },
    {
     "data": {
      "application/vnd.jupyter.widget-view+json": {
       "model_id": "d445ff1c46894c6b9d770337aa9d2ef3",
       "version_major": 2,
       "version_minor": 0
      },
      "text/plain": [
       "0it [00:00, ?it/s]"
      ]
     },
     "metadata": {},
     "output_type": "display_data"
    },
    {
     "name": "stdout",
     "output_type": "stream",
     "text": [
      "Epoch: [166/200], Recon Loss: [0.273], Reg loss: [0.031], disc_loss: [0.113], \n"
     ]
    },
    {
     "data": {
      "application/vnd.jupyter.widget-view+json": {
       "model_id": "c023dd380bb340a396a461746fe055cd",
       "version_major": 2,
       "version_minor": 0
      },
      "text/plain": [
       "0it [00:00, ?it/s]"
      ]
     },
     "metadata": {},
     "output_type": "display_data"
    },
    {
     "name": "stdout",
     "output_type": "stream",
     "text": [
      "Epoch: [167/200], Recon Loss: [0.289], Reg loss: [0.029], disc_loss: [0.114], \n"
     ]
    },
    {
     "data": {
      "application/vnd.jupyter.widget-view+json": {
       "model_id": "98d82dad8b8849d5852ee18d43c06842",
       "version_major": 2,
       "version_minor": 0
      },
      "text/plain": [
       "0it [00:00, ?it/s]"
      ]
     },
     "metadata": {},
     "output_type": "display_data"
    },
    {
     "name": "stdout",
     "output_type": "stream",
     "text": [
      "Epoch: [168/200], Recon Loss: [0.280], Reg loss: [0.030], disc_loss: [0.110], \n"
     ]
    },
    {
     "data": {
      "application/vnd.jupyter.widget-view+json": {
       "model_id": "b44643e5baed4e1aaf47f7ad47bd576a",
       "version_major": 2,
       "version_minor": 0
      },
      "text/plain": [
       "0it [00:00, ?it/s]"
      ]
     },
     "metadata": {},
     "output_type": "display_data"
    },
    {
     "name": "stdout",
     "output_type": "stream",
     "text": [
      "Epoch: [169/200], Recon Loss: [0.259], Reg loss: [0.029], disc_loss: [0.107], \n"
     ]
    },
    {
     "data": {
      "application/vnd.jupyter.widget-view+json": {
       "model_id": "500bd6b6245046ab895cb2b7d1deb027",
       "version_major": 2,
       "version_minor": 0
      },
      "text/plain": [
       "0it [00:00, ?it/s]"
      ]
     },
     "metadata": {},
     "output_type": "display_data"
    },
    {
     "name": "stdout",
     "output_type": "stream",
     "text": [
      "Epoch: [170/200], Recon Loss: [0.282], Reg loss: [0.030], disc_loss: [0.115], \n"
     ]
    },
    {
     "data": {
      "application/vnd.jupyter.widget-view+json": {
       "model_id": "a325c1021f5a4fc99dd25eb928edb00f",
       "version_major": 2,
       "version_minor": 0
      },
      "text/plain": [
       "0it [00:00, ?it/s]"
      ]
     },
     "metadata": {},
     "output_type": "display_data"
    },
    {
     "name": "stdout",
     "output_type": "stream",
     "text": [
      "Epoch: [171/200], Recon Loss: [0.286], Reg loss: [0.029], disc_loss: [0.101], \n"
     ]
    },
    {
     "data": {
      "application/vnd.jupyter.widget-view+json": {
       "model_id": "c61d5263ee8648999fa7e18e338d7b95",
       "version_major": 2,
       "version_minor": 0
      },
      "text/plain": [
       "0it [00:00, ?it/s]"
      ]
     },
     "metadata": {},
     "output_type": "display_data"
    },
    {
     "name": "stdout",
     "output_type": "stream",
     "text": [
      "Epoch: [172/200], Recon Loss: [0.261], Reg loss: [0.031], disc_loss: [0.108], \n"
     ]
    },
    {
     "data": {
      "application/vnd.jupyter.widget-view+json": {
       "model_id": "4a29923d9b5f4c0db608ac81751c4be3",
       "version_major": 2,
       "version_minor": 0
      },
      "text/plain": [
       "0it [00:00, ?it/s]"
      ]
     },
     "metadata": {},
     "output_type": "display_data"
    },
    {
     "name": "stdout",
     "output_type": "stream",
     "text": [
      "Epoch: [173/200], Recon Loss: [0.291], Reg loss: [0.028], disc_loss: [0.105], \n"
     ]
    },
    {
     "data": {
      "application/vnd.jupyter.widget-view+json": {
       "model_id": "306bf56f47c74cd29dbde4a31e9ba3c6",
       "version_major": 2,
       "version_minor": 0
      },
      "text/plain": [
       "0it [00:00, ?it/s]"
      ]
     },
     "metadata": {},
     "output_type": "display_data"
    },
    {
     "name": "stdout",
     "output_type": "stream",
     "text": [
      "Epoch: [174/200], Recon Loss: [0.292], Reg loss: [0.030], disc_loss: [0.089], \n"
     ]
    },
    {
     "data": {
      "application/vnd.jupyter.widget-view+json": {
       "model_id": "d4c8d4f9969c4f9f9b94b2064d98efdf",
       "version_major": 2,
       "version_minor": 0
      },
      "text/plain": [
       "0it [00:00, ?it/s]"
      ]
     },
     "metadata": {},
     "output_type": "display_data"
    },
    {
     "name": "stdout",
     "output_type": "stream",
     "text": [
      "Epoch: [175/200], Recon Loss: [0.266], Reg loss: [0.029], disc_loss: [0.094], \n",
      "Saving models\n"
     ]
    },
    {
     "data": {
      "application/vnd.jupyter.widget-view+json": {
       "model_id": "9aeb63b50f5e4c218a26927085ff12a9",
       "version_major": 2,
       "version_minor": 0
      },
      "text/plain": [
       "0it [00:00, ?it/s]"
      ]
     },
     "metadata": {},
     "output_type": "display_data"
    },
    {
     "name": "stdout",
     "output_type": "stream",
     "text": [
      "Epoch: [176/200], Recon Loss: [0.262], Reg loss: [0.030], disc_loss: [0.096], \n"
     ]
    },
    {
     "data": {
      "application/vnd.jupyter.widget-view+json": {
       "model_id": "9ef62ecc1ecf48e7aacd27aa31a71926",
       "version_major": 2,
       "version_minor": 0
      },
      "text/plain": [
       "0it [00:00, ?it/s]"
      ]
     },
     "metadata": {},
     "output_type": "display_data"
    },
    {
     "name": "stdout",
     "output_type": "stream",
     "text": [
      "Epoch: [177/200], Recon Loss: [0.291], Reg loss: [0.031], disc_loss: [0.091], \n"
     ]
    },
    {
     "data": {
      "application/vnd.jupyter.widget-view+json": {
       "model_id": "ab62cd24478f41a1967bc02b3005f2bc",
       "version_major": 2,
       "version_minor": 0
      },
      "text/plain": [
       "0it [00:00, ?it/s]"
      ]
     },
     "metadata": {},
     "output_type": "display_data"
    },
    {
     "name": "stdout",
     "output_type": "stream",
     "text": [
      "Epoch: [178/200], Recon Loss: [0.270], Reg loss: [0.029], disc_loss: [0.114], \n"
     ]
    },
    {
     "data": {
      "application/vnd.jupyter.widget-view+json": {
       "model_id": "0ad073d706fb4d2dae820d70e4bdbf40",
       "version_major": 2,
       "version_minor": 0
      },
      "text/plain": [
       "0it [00:00, ?it/s]"
      ]
     },
     "metadata": {},
     "output_type": "display_data"
    },
    {
     "name": "stdout",
     "output_type": "stream",
     "text": [
      "Epoch: [179/200], Recon Loss: [0.260], Reg loss: [0.030], disc_loss: [0.111], \n"
     ]
    },
    {
     "data": {
      "application/vnd.jupyter.widget-view+json": {
       "model_id": "ed2a1b7e85824d3da6590c34ef4c4181",
       "version_major": 2,
       "version_minor": 0
      },
      "text/plain": [
       "0it [00:00, ?it/s]"
      ]
     },
     "metadata": {},
     "output_type": "display_data"
    },
    {
     "name": "stdout",
     "output_type": "stream",
     "text": [
      "Epoch: [180/200], Recon Loss: [0.287], Reg loss: [0.027], disc_loss: [0.111], \n"
     ]
    },
    {
     "data": {
      "application/vnd.jupyter.widget-view+json": {
       "model_id": "708b76d6731e4abdbec0e06f0ae5f1f1",
       "version_major": 2,
       "version_minor": 0
      },
      "text/plain": [
       "0it [00:00, ?it/s]"
      ]
     },
     "metadata": {},
     "output_type": "display_data"
    },
    {
     "name": "stdout",
     "output_type": "stream",
     "text": [
      "Epoch: [181/200], Recon Loss: [0.277], Reg loss: [0.028], disc_loss: [0.121], \n"
     ]
    },
    {
     "data": {
      "application/vnd.jupyter.widget-view+json": {
       "model_id": "7f320c9b6850486cae2672242b3dc843",
       "version_major": 2,
       "version_minor": 0
      },
      "text/plain": [
       "0it [00:00, ?it/s]"
      ]
     },
     "metadata": {},
     "output_type": "display_data"
    },
    {
     "name": "stdout",
     "output_type": "stream",
     "text": [
      "Epoch: [182/200], Recon Loss: [0.258], Reg loss: [0.028], disc_loss: [0.106], \n"
     ]
    },
    {
     "data": {
      "application/vnd.jupyter.widget-view+json": {
       "model_id": "fb020266b483468a9d5736d702d9d4f9",
       "version_major": 2,
       "version_minor": 0
      },
      "text/plain": [
       "0it [00:00, ?it/s]"
      ]
     },
     "metadata": {},
     "output_type": "display_data"
    },
    {
     "name": "stdout",
     "output_type": "stream",
     "text": [
      "Epoch: [183/200], Recon Loss: [0.284], Reg loss: [0.029], disc_loss: [0.119], \n"
     ]
    },
    {
     "data": {
      "application/vnd.jupyter.widget-view+json": {
       "model_id": "77ebd0dc40ce4769bb24f10c4b874c95",
       "version_major": 2,
       "version_minor": 0
      },
      "text/plain": [
       "0it [00:00, ?it/s]"
      ]
     },
     "metadata": {},
     "output_type": "display_data"
    },
    {
     "name": "stdout",
     "output_type": "stream",
     "text": [
      "Epoch: [184/200], Recon Loss: [0.286], Reg loss: [0.027], disc_loss: [0.115], \n"
     ]
    },
    {
     "data": {
      "application/vnd.jupyter.widget-view+json": {
       "model_id": "b05ed749c4c5464ea3dc7d967c68a73d",
       "version_major": 2,
       "version_minor": 0
      },
      "text/plain": [
       "0it [00:00, ?it/s]"
      ]
     },
     "metadata": {},
     "output_type": "display_data"
    },
    {
     "name": "stdout",
     "output_type": "stream",
     "text": [
      "Epoch: [185/200], Recon Loss: [0.253], Reg loss: [0.029], disc_loss: [0.116], \n"
     ]
    },
    {
     "data": {
      "application/vnd.jupyter.widget-view+json": {
       "model_id": "003ae73b1353464d902994bcdf8e506e",
       "version_major": 2,
       "version_minor": 0
      },
      "text/plain": [
       "0it [00:00, ?it/s]"
      ]
     },
     "metadata": {},
     "output_type": "display_data"
    },
    {
     "name": "stdout",
     "output_type": "stream",
     "text": [
      "Epoch: [186/200], Recon Loss: [0.281], Reg loss: [0.028], disc_loss: [0.122], \n"
     ]
    },
    {
     "data": {
      "application/vnd.jupyter.widget-view+json": {
       "model_id": "8e6c49dc8c674f23aea7de44a82452ad",
       "version_major": 2,
       "version_minor": 0
      },
      "text/plain": [
       "0it [00:00, ?it/s]"
      ]
     },
     "metadata": {},
     "output_type": "display_data"
    },
    {
     "name": "stdout",
     "output_type": "stream",
     "text": [
      "Epoch: [187/200], Recon Loss: [0.288], Reg loss: [0.026], disc_loss: [0.142], \n"
     ]
    },
    {
     "data": {
      "application/vnd.jupyter.widget-view+json": {
       "model_id": "3e6ea98e78ab4346be9c5b33c1373f8c",
       "version_major": 2,
       "version_minor": 0
      },
      "text/plain": [
       "0it [00:00, ?it/s]"
      ]
     },
     "metadata": {},
     "output_type": "display_data"
    },
    {
     "name": "stdout",
     "output_type": "stream",
     "text": [
      "Epoch: [188/200], Recon Loss: [0.264], Reg loss: [0.026], disc_loss: [0.132], \n"
     ]
    },
    {
     "data": {
      "application/vnd.jupyter.widget-view+json": {
       "model_id": "f2b89d849dd84904b9f237c05ce429aa",
       "version_major": 2,
       "version_minor": 0
      },
      "text/plain": [
       "0it [00:00, ?it/s]"
      ]
     },
     "metadata": {},
     "output_type": "display_data"
    },
    {
     "name": "stdout",
     "output_type": "stream",
     "text": [
      "Epoch: [189/200], Recon Loss: [0.275], Reg loss: [0.026], disc_loss: [0.133], \n"
     ]
    },
    {
     "data": {
      "application/vnd.jupyter.widget-view+json": {
       "model_id": "61ba64c2e5fc455596040a8c97305916",
       "version_major": 2,
       "version_minor": 0
      },
      "text/plain": [
       "0it [00:00, ?it/s]"
      ]
     },
     "metadata": {},
     "output_type": "display_data"
    },
    {
     "name": "stdout",
     "output_type": "stream",
     "text": [
      "Epoch: [190/200], Recon Loss: [0.299], Reg loss: [0.027], disc_loss: [0.116], \n"
     ]
    },
    {
     "data": {
      "application/vnd.jupyter.widget-view+json": {
       "model_id": "73782a8aee414a63b2ae4f321a77232e",
       "version_major": 2,
       "version_minor": 0
      },
      "text/plain": [
       "0it [00:00, ?it/s]"
      ]
     },
     "metadata": {},
     "output_type": "display_data"
    },
    {
     "name": "stdout",
     "output_type": "stream",
     "text": [
      "Epoch: [191/200], Recon Loss: [0.265], Reg loss: [0.027], disc_loss: [0.115], \n"
     ]
    },
    {
     "data": {
      "application/vnd.jupyter.widget-view+json": {
       "model_id": "45e6c672d98e407b9032a6583c604b27",
       "version_major": 2,
       "version_minor": 0
      },
      "text/plain": [
       "0it [00:00, ?it/s]"
      ]
     },
     "metadata": {},
     "output_type": "display_data"
    },
    {
     "name": "stdout",
     "output_type": "stream",
     "text": [
      "Epoch: [192/200], Recon Loss: [0.263], Reg loss: [0.028], disc_loss: [0.104], \n"
     ]
    },
    {
     "data": {
      "application/vnd.jupyter.widget-view+json": {
       "model_id": "890758889ecc4f09b86d738349d77af1",
       "version_major": 2,
       "version_minor": 0
      },
      "text/plain": [
       "0it [00:00, ?it/s]"
      ]
     },
     "metadata": {},
     "output_type": "display_data"
    },
    {
     "name": "stdout",
     "output_type": "stream",
     "text": [
      "Epoch: [193/200], Recon Loss: [0.297], Reg loss: [0.027], disc_loss: [0.127], \n"
     ]
    },
    {
     "data": {
      "application/vnd.jupyter.widget-view+json": {
       "model_id": "8f587df07e35483db98a0435bd32a766",
       "version_major": 2,
       "version_minor": 0
      },
      "text/plain": [
       "0it [00:00, ?it/s]"
      ]
     },
     "metadata": {},
     "output_type": "display_data"
    },
    {
     "name": "stdout",
     "output_type": "stream",
     "text": [
      "Epoch: [194/200], Recon Loss: [0.275], Reg loss: [0.027], disc_loss: [0.117], \n"
     ]
    },
    {
     "data": {
      "application/vnd.jupyter.widget-view+json": {
       "model_id": "75c4f3ff250448579f7375c142898a20",
       "version_major": 2,
       "version_minor": 0
      },
      "text/plain": [
       "0it [00:00, ?it/s]"
      ]
     },
     "metadata": {},
     "output_type": "display_data"
    },
    {
     "name": "stdout",
     "output_type": "stream",
     "text": [
      "Epoch: [195/200], Recon Loss: [0.265], Reg loss: [0.028], disc_loss: [0.111], \n"
     ]
    },
    {
     "data": {
      "application/vnd.jupyter.widget-view+json": {
       "model_id": "482fc3e4436f43d68754be912efda9dc",
       "version_major": 2,
       "version_minor": 0
      },
      "text/plain": [
       "0it [00:00, ?it/s]"
      ]
     },
     "metadata": {},
     "output_type": "display_data"
    },
    {
     "name": "stdout",
     "output_type": "stream",
     "text": [
      "Epoch: [196/200], Recon Loss: [0.292], Reg loss: [0.027], disc_loss: [0.120], \n"
     ]
    },
    {
     "data": {
      "application/vnd.jupyter.widget-view+json": {
       "model_id": "8d89412442c447f08516720995d23641",
       "version_major": 2,
       "version_minor": 0
      },
      "text/plain": [
       "0it [00:00, ?it/s]"
      ]
     },
     "metadata": {},
     "output_type": "display_data"
    },
    {
     "name": "stdout",
     "output_type": "stream",
     "text": [
      "Epoch: [197/200], Recon Loss: [0.290], Reg loss: [0.028], disc_loss: [0.124], \n"
     ]
    },
    {
     "data": {
      "application/vnd.jupyter.widget-view+json": {
       "model_id": "4f4c2f64b0124d3b9fb4127d1fdce4d9",
       "version_major": 2,
       "version_minor": 0
      },
      "text/plain": [
       "0it [00:00, ?it/s]"
      ]
     },
     "metadata": {},
     "output_type": "display_data"
    },
    {
     "name": "stdout",
     "output_type": "stream",
     "text": [
      "Epoch: [198/200], Recon Loss: [0.254], Reg loss: [0.027], disc_loss: [0.138], \n"
     ]
    },
    {
     "data": {
      "application/vnd.jupyter.widget-view+json": {
       "model_id": "8aee8fbebeec4c84a551746817a4e22a",
       "version_major": 2,
       "version_minor": 0
      },
      "text/plain": [
       "0it [00:00, ?it/s]"
      ]
     },
     "metadata": {},
     "output_type": "display_data"
    },
    {
     "name": "stdout",
     "output_type": "stream",
     "text": [
      "Epoch: [199/200], Recon Loss: [0.275], Reg loss: [0.026], disc_loss: [0.144], \n"
     ]
    },
    {
     "data": {
      "application/vnd.jupyter.widget-view+json": {
       "model_id": "41e17871980d4d888f44674a0a5eb38a",
       "version_major": 2,
       "version_minor": 0
      },
      "text/plain": [
       "0it [00:00, ?it/s]"
      ]
     },
     "metadata": {},
     "output_type": "display_data"
    },
    {
     "name": "stdout",
     "output_type": "stream",
     "text": [
      "Epoch: [200/200], Recon Loss: [0.302], Reg loss: [0.029], disc_loss: [0.109], \n",
      "Saving models\n"
     ]
    }
   ],
   "source": [
    "for epoch in range(checkpoint, checkpoint+args.n_epochs):\n",
    "    pbar = tq(enumerate(train_loader))\n",
    "    for step, (images, _) in pbar:\n",
    "        \n",
    "        current_batch_size = images.size()[0]        \n",
    "        images = images.cuda()\n",
    "\n",
    "        conv_encoder.zero_grad()\n",
    "        conv_encoder.zero_grad()\n",
    "        z_discriminator.zero_grad()\n",
    "        \n",
    "        # Adversarial ground truths\n",
    "        ones = Variable(torch.cuda.FloatTensor(current_batch_size).fill_(1.0), requires_grad=False) # real\n",
    "        zeros = Variable(torch.cuda.FloatTensor(current_batch_size).fill_(0.0), requires_grad=False) # fake\n",
    "\n",
    "        # ======== Train Discriminator ======== #\n",
    "\n",
    "#         freeze_params(decoder)\n",
    "#         freeze_params(encoder)\n",
    "        unfreeze_params(z_discriminator)\n",
    "\n",
    "        z_prior = torch.randn(current_batch_size, args.n_z).cuda()\n",
    "        d_prior = z_discriminator(z_prior)\n",
    "        z_real = conv_encoder(images)\n",
    "        d_real = z_discriminator(z_real.detach())\n",
    "        \n",
    "        # save norms of encodings\n",
    "        norms.append([torch.norm(z_real, dim=1).mean().item()])\n",
    "\n",
    "        # negate for gradient ascent\n",
    "#         d_loss = -(torch.log(d_fake).mean() + torch.log(1 - d_real).mean())\n",
    "#         d_loss = d_prior.mean() + (1 - d_real).mean()\n",
    "        d_loss = adversarial_loss_fn(d_prior, ones).mean() + adversarial_loss_fn(d_real, zeros).mean()\n",
    "\n",
    "        disc_loss.append(d_loss.item())\n",
    "\n",
    "        d_loss.backward()\n",
    "\n",
    "        opt_zdiscriminator.step()\n",
    "\n",
    "\n",
    "        # ======== Train Generator ======== #\n",
    "\n",
    "#         unfreeze_params(decoder)\n",
    "#         unfreeze_params(encoder)\n",
    "        freeze_params(z_discriminator)\n",
    "\n",
    "#         z_real = encoder(images)\n",
    "        x_recon = conv_decoder(z_real)\n",
    "        d_real = z_discriminator(conv_encoder(Variable(images.data)))\n",
    "\n",
    "        # recon_loss = criterion(x_recon, images) - (args.LAMBDA * (torch.log(d_real)).mean())\n",
    "\n",
    "        recon_loss = 10 * mse_loss_fn(x_recon, images).mean()\n",
    "        reg_loss = 0.005 * adversarial_loss_fn(d_real, ones).mean()\n",
    "#         d_loss = args.LAMBDA * (d_real).mean()\n",
    "\n",
    "        reconstr_loss.append([recon_loss.data.item(), reg_loss.data.item()])\n",
    "\n",
    "        recon_loss.backward()\n",
    "        reg_loss.backward()\n",
    "\n",
    "        opt_encoder.step()\n",
    "        opt_decoder.step()\n",
    "        \n",
    "        pbar.set_description(\"Recon Loss: [%.3f], Reg loss: [%.3f], disc loss: [%.3f]\" % (\n",
    "            recon_loss.item(), reg_loss.item(), d_loss.item()))\n",
    "\n",
    "    if (epoch + 1) % 1 == 0:\n",
    "        reconstr_loss_mean = np.mean(reconstr_loss, axis=0)\n",
    "        print(\"Epoch: [%d/%d], Recon Loss: [%.3f], Reg loss: [%.3f], disc_loss: [%.3f], \" %\n",
    "                (epoch + 1, args.n_epochs, \n",
    "                 reconstr_loss_mean[0], reconstr_loss_mean[1], np.mean(disc_loss)))\n",
    "        disc_loss.clear()\n",
    "        reconstr_loss.clear()\n",
    "\n",
    "    if (epoch + 1) % 1 == 0:\n",
    "\n",
    "        batch_size = 64\n",
    "        test_iter = iter(test_loader)\n",
    "        test_images, _ = next(test_iter)\n",
    "        test_images = Variable(test_images)[:64]\n",
    "        \n",
    "        z_real = conv_encoder(test_images.cuda()).detach()\n",
    "        test_recon = conv_decoder(z_real)\n",
    "        \n",
    "        test_mse_loss = mse_loss_fn(test_images, test_recon.cpu()).data.item()\n",
    "\n",
    "        random_sample = conv_decoder(torch.randn_like(z_real)).cpu().view(batch_size, 3, 32, 32)\n",
    "\n",
    "        test_image_recon = torch.cat((test_images.view(batch_size, 3, 32, 32), \n",
    "                                      test_recon.cpu().view(batch_size, 3, 32, 32).data), axis=3)\n",
    "        \n",
    "        val_dict = {\n",
    "        \"train_recon_loss\": {\"recon\": reconstr_loss_mean[0],\n",
    "                            \"reg\": reconstr_loss_mean[1]\n",
    "                            },\n",
    "        \"mse_ssim\": {\"train_mse\": reconstr_loss_mean[0], \n",
    "                     \"test_mse\": test_mse_loss,\n",
    "                     \"train_ssim\": ssim(images.cpu(), x_recon.cpu()).data.item()\n",
    "                    },\n",
    "        \"norms\": {\"real\": np.mean(norms),\n",
    "                  \"gaussian\": torch.norm(z_prior, dim=1).mean().item()\n",
    "                 }\n",
    "        }\n",
    "        \n",
    "        norms.clear()\n",
    "        \n",
    "        save_values_to_tensorboard(writer, epoch + 1, val_dict)\n",
    "        \n",
    "        save_images_to_tensorboard(writer, epoch+1, make_grid(torch.cat((images, x_recon), dim=3)\n",
    "                                                                           , normalize=False), 'train')\n",
    "        save_images_to_tensorboard(writer, epoch+1, make_grid(test_image_recon, normalize=False), 'test')\n",
    "        save_images_to_tensorboard(writer, epoch+1, make_grid(random_sample, normalize=False), 'sample')\n",
    "        \n",
    "        \n",
    "\n",
    "    if (epoch + 1) % 25 == 0:\n",
    "        models = {nameof(conv_encoder): conv_encoder, \n",
    "                  nameof(conv_decoder): conv_decoder}\n",
    "        save_models(model_path, epoch+1, models)"
   ]
  },
  {
   "cell_type": "code",
   "execution_count": 55,
   "metadata": {
    "colab": {
     "base_uri": "https://localhost:8080/"
    },
    "executionInfo": {
     "elapsed": 480,
     "status": "ok",
     "timestamp": 1602025108860,
     "user": {
      "displayName": "Prashanth Reddy Duggirala",
      "photoUrl": "",
      "userId": "15292119504454868818"
     },
     "user_tz": 420
    },
    "id": "O_LCiBCm62km",
    "outputId": "a0c029c9-be94-4c4e-807a-1795c08e35ad"
   },
   "outputs": [
    {
     "data": {
      "text/plain": [
       "11.355522155761719"
      ]
     },
     "execution_count": 55,
     "metadata": {},
     "output_type": "execute_result"
    }
   ],
   "source": [
    "torch.norm(z_prior, dim=1).mean().item()"
   ]
  },
  {
   "cell_type": "code",
   "execution_count": 27,
   "metadata": {
    "colab": {
     "base_uri": "https://localhost:8080/",
     "height": 203
    },
    "executionInfo": {
     "elapsed": 413,
     "status": "error",
     "timestamp": 1600461305261,
     "user": {
      "displayName": "Prashanth Reddy Duggirala",
      "photoUrl": "",
      "userId": "15292119504454868818"
     },
     "user_tz": 420
    },
    "id": "kQcbfKoJ6Hth",
    "outputId": "ccf6afa0-08b3-411c-bb87-5eb8360453be"
   },
   "outputs": [
    {
     "data": {
      "text/plain": [
       "tensor(32.2346, device='cuda:0', grad_fn=<MulBackward0>)"
      ]
     },
     "execution_count": 27,
     "metadata": {},
     "output_type": "execute_result"
    }
   ],
   "source": [
    "reg_loss"
   ]
  },
  {
   "cell_type": "code",
   "execution_count": null,
   "metadata": {
    "id": "sQkEWvZlVXPp"
   },
   "outputs": [],
   "source": [
    "image = torch.cat((test_data[0].view(batch_size, 1, 28, 28), \n",
    "                                reconst.data), axis=3)"
   ]
  },
  {
   "cell_type": "code",
   "execution_count": null,
   "metadata": {
    "colab": {
     "base_uri": "https://localhost:8080/",
     "height": 35
    },
    "executionInfo": {
     "elapsed": 507,
     "status": "ok",
     "timestamp": 1600461030004,
     "user": {
      "displayName": "Prashanth Reddy Duggirala",
      "photoUrl": "",
      "userId": "15292119504454868818"
     },
     "user_tz": 420
    },
    "id": "HqC8292mahTG",
    "outputId": "2b0ba44f-bf7a-4f85-9420-fac7853a2b5f"
   },
   "outputs": [
    {
     "data": {
      "text/plain": [
       "torch.Size([128, 1, 28, 56])"
      ]
     },
     "execution_count": 41,
     "metadata": {
      "tags": []
     },
     "output_type": "execute_result"
    }
   ],
   "source": [
    "image.shape"
   ]
  },
  {
   "cell_type": "code",
   "execution_count": null,
   "metadata": {
    "id": "-ngmQOf0VXSk"
   },
   "outputs": [],
   "source": [
    "np.mean(disc_loss, axis=0)"
   ]
  },
  {
   "cell_type": "code",
   "execution_count": null,
   "metadata": {
    "colab": {
     "base_uri": "https://localhost:8080/",
     "height": 1000,
     "output_embedded_package_id": "1Ab-JSC68IAWVNhfFYOQ-uMkC_t_yaR4H"
    },
    "executionInfo": {
     "elapsed": 8207,
     "status": "ok",
     "timestamp": 1601492958910,
     "user": {
      "displayName": "Prashanth Reddy Duggirala",
      "photoUrl": "",
      "userId": "15292119504454868818"
     },
     "user_tz": 420
    },
    "id": "PTKhwox_s4IH",
    "outputId": "ac3eb467-afd5-469c-c3fc-5ebbdf8bc86b"
   },
   "outputs": [
    {
     "data": {
      "text/plain": [
       "Output hidden; open in https://colab.research.google.com to view."
      ]
     },
     "metadata": {},
     "output_type": "display_data"
    }
   ],
   "source": [
    "disc_loss[0]"
   ]
  },
  {
   "cell_type": "code",
   "execution_count": 3,
   "metadata": {
    "id": "qWQpH6NsydRl"
   },
   "outputs": [],
   "source": [
    "# encoder block (used in encoder and discriminator)\n",
    "class EncoderBlock(nn.Module):\n",
    "    def __init__(self, channel_in, channel_out):\n",
    "        super(EncoderBlock, self).__init__()\n",
    "        # convolution to halve the dimensions\n",
    "        self.conv = nn.Conv2d(in_channels=channel_in, out_channels=channel_out, kernel_size=5, padding=2, stride=2,\n",
    "                              bias=False)\n",
    "        self.bn = nn.BatchNorm2d(num_features=channel_out, momentum=0.9)\n",
    "\n",
    "    def forward(self, ten, out=False,t = False):\n",
    "        # here we want to be able to take an intermediate output for reconstruction error\n",
    "        if out:\n",
    "            ten = self.conv(ten)\n",
    "            ten_out = ten\n",
    "            ten = self.bn(ten)\n",
    "            ten = F.relu(ten, False)\n",
    "            return ten, ten_out\n",
    "        else:\n",
    "            ten = self.conv(ten)\n",
    "            ten = self.bn(ten)\n",
    "            ten = F.relu(ten, True)\n",
    "            return ten\n",
    "\n",
    "\n",
    "# decoder block (used in the decoder)\n",
    "class DecoderBlock(nn.Module):\n",
    "    def __init__(self, channel_in, channel_out):\n",
    "        super(DecoderBlock, self).__init__()\n",
    "        # transpose convolution to double the dimensions\n",
    "        self.conv = nn.ConvTranspose2d(channel_in, channel_out, kernel_size=5, padding=2, stride=2, output_padding=1,\n",
    "                                       bias=False)\n",
    "        self.bn = nn.BatchNorm2d(channel_out, momentum=0.9)\n",
    "\n",
    "    def forward(self, ten):\n",
    "        ten = self.conv(ten)\n",
    "        ten = self.bn(ten)\n",
    "        ten = F.relu(ten, True)\n",
    "        return ten\n",
    "\n",
    "\n",
    "class Encoder(nn.Module):\n",
    "    def __init__(self, channel_in=3, z_size=128):\n",
    "        super(Encoder, self).__init__()\n",
    "        self.size = channel_in\n",
    "        layers_list = []\n",
    "        # the first time 3->64, for every other double the channel size\n",
    "        for i in range(3):\n",
    "            if i == 0:\n",
    "                layers_list.append(EncoderBlock(channel_in=self.size, channel_out=64))\n",
    "                self.size = 64\n",
    "            else:\n",
    "                layers_list.append(EncoderBlock(channel_in=self.size, channel_out=self.size * 2))\n",
    "                self.size *= 2\n",
    "\n",
    "        # final shape Bx256x8x8\n",
    "        self.conv = nn.Sequential(*layers_list)\n",
    "        self.fc = nn.Sequential(nn.Linear(in_features=8 * 8 * self.size, out_features=1024, bias=False),\n",
    "                                nn.BatchNorm1d(num_features=1024,momentum=0.9),\n",
    "                                nn.ReLU(True))\n",
    "        # two linear to get the mu vector and the diagonal of the log_variance\n",
    "        self.l_mu = nn.Linear(in_features=1024, out_features=z_size)\n",
    "        self.l_var = nn.Linear(in_features=1024, out_features=z_size)\n",
    "\n",
    "    def forward(self, ten):\n",
    "        ten = self.conv(ten)\n",
    "        ten = ten.view(len(ten), -1)\n",
    "        ten = self.fc(ten)\n",
    "        mu = self.l_mu(ten)\n",
    "        logvar = self.l_var(ten)\n",
    "        return mu, logvar\n",
    "\n",
    "    def __call__(self, *args, **kwargs):\n",
    "        return super(Encoder, self).__call__(*args, **kwargs)\n",
    "\n",
    "\n",
    "class Decoder(nn.Module):\n",
    "    def __init__(self, z_size, size):\n",
    "        super(Decoder, self).__init__()\n",
    "        # start from B*z_size\n",
    "        self.fc = nn.Sequential(nn.Linear(in_features=z_size, out_features=8 * 8 * size, bias=False),\n",
    "                                nn.BatchNorm1d(num_features=8 * 8 * size,momentum=0.9),\n",
    "                                nn.ReLU(True))\n",
    "        self.size = size\n",
    "        layers_list = []\n",
    "        layers_list.append(DecoderBlock(channel_in=self.size, channel_out=self.size))\n",
    "        layers_list.append(DecoderBlock(channel_in=self.size, channel_out=self.size//2))\n",
    "        self.size = self.size//2\n",
    "        layers_list.append(DecoderBlock(channel_in=self.size, channel_out=self.size//4))\n",
    "        self.size = self.size//4\n",
    "        # final conv to get 3 channels and tanh layer\n",
    "        layers_list.append(nn.Sequential(\n",
    "            nn.Conv2d(in_channels=self.size, out_channels=3, kernel_size=5, stride=1, padding=2),\n",
    "            nn.Tanh()\n",
    "        ))\n",
    "\n",
    "        self.conv = nn.Sequential(*layers_list)\n",
    "\n",
    "    def forward(self, ten):\n",
    "\n",
    "        ten = self.fc(ten)\n",
    "        ten = ten.view(len(ten), -1, 8, 8)\n",
    "        ten = self.conv(ten)\n",
    "        return ten\n",
    "\n",
    "    def __call__(self, *args, **kwargs):\n",
    "        return super(Decoder, self).__call__(*args, **kwargs)\n",
    "\n",
    "\n",
    "class Discriminator(nn.Module):\n",
    "    def __init__(self, channel_in=3,recon_level=3):\n",
    "        super(Discriminator, self).__init__()\n",
    "        self.size = channel_in\n",
    "        self.recon_levl = recon_level\n",
    "        # module list because we need need to extract an intermediate output\n",
    "        self.conv = nn.ModuleList()\n",
    "        self.conv.append(nn.Sequential(\n",
    "            nn.Conv2d(in_channels=3, out_channels=32, kernel_size=5, stride=1, padding=2),\n",
    "            nn.ReLU(inplace=True)))\n",
    "        self.size = 32\n",
    "        self.conv.append(EncoderBlock(channel_in=self.size, channel_out=128))\n",
    "        self.size = 128\n",
    "        self.conv.append(EncoderBlock(channel_in=self.size, channel_out=256))\n",
    "        self.size = 256\n",
    "        self.conv.append(EncoderBlock(channel_in=self.size, channel_out=256))\n",
    "        # final fc to get the score (real or fake)\n",
    "        self.fc = nn.Sequential(\n",
    "            nn.Linear(in_features=8 * 8 * self.size, out_features=512, bias=False),\n",
    "            nn.BatchNorm1d(num_features=512,momentum=0.9),\n",
    "            nn.ReLU(inplace=True),\n",
    "            nn.Linear(in_features=512, out_features=1),\n",
    "        )\n",
    "\n",
    "    def forward(self, ten_orig, ten_predicted, ten_sampled, mode='REC'):\n",
    "        if mode == \"REC\":\n",
    "            ten = torch.cat((ten_orig, ten_predicted, ten_sampled), 0)\n",
    "            for i, lay in enumerate(self.conv):\n",
    "                # we take the 9th layer as one of the outputs\n",
    "                if i == self.recon_levl:\n",
    "                    ten, layer_ten = lay(ten, True)\n",
    "                    # we need the layer representations just for the original and reconstructed,\n",
    "                    # flatten, because it's a convolutional shape\n",
    "                    layer_ten = layer_ten.view(len(layer_ten), -1)\n",
    "                    return layer_ten\n",
    "                else:\n",
    "                    ten = lay(ten)\n",
    "        else:\n",
    "            ten = torch.cat((ten_orig, ten_predicted, ten_sampled), 0)\n",
    "            for i, lay in enumerate(self.conv):\n",
    "                    ten = lay(ten)\n",
    "\n",
    "            ten = ten.view(len(ten), -1)\n",
    "            ten = self.fc(ten)\n",
    "            return F.sigmoid(ten)\n",
    "\n",
    "\n",
    "    def __call__(self, *args, **kwargs):\n",
    "        return super(Discriminator, self).__call__(*args, **kwargs)"
   ]
  },
  {
   "cell_type": "code",
   "execution_count": 4,
   "metadata": {},
   "outputs": [],
   "source": [
    "disc = Discriminator()"
   ]
  },
  {
   "cell_type": "code",
   "execution_count": null,
   "metadata": {},
   "outputs": [],
   "source": [
    "# print(summary(conv_encoder, torch.zeros((1, 3, 32, 32)).cuda(), show_input=False, show_hierarchical=False))\n",
    "# print(summary(conv_decoder, torch.zeros((1, 1, 100)).cuda(), show_input=False, show_hierarchical=False))\n",
    "print(summary(disc, torch.zeros((1, 1, 32, 32)).cuda(), show_input=False, show_hierarchical=False))"
   ]
  }
 ],
 "metadata": {
  "accelerator": "GPU",
  "colab": {
   "collapsed_sections": [],
   "name": "Copy of WAE-GAN.ipynb",
   "provenance": []
  },
  "kernelspec": {
   "display_name": "Python 3",
   "language": "python",
   "name": "python3"
  },
  "language_info": {
   "codemirror_mode": {
    "name": "ipython",
    "version": 3
   },
   "file_extension": ".py",
   "mimetype": "text/x-python",
   "name": "python",
   "nbconvert_exporter": "python",
   "pygments_lexer": "ipython3",
   "version": "3.7.9"
  },
  "widgets": {
   "application/vnd.jupyter.widget-state+json": {
    "0450d96456f842329c0091e5941b3fa6": {
     "model_module": "@jupyter-widgets/controls",
     "model_name": "HTMLModel",
     "state": {
      "_dom_classes": [],
      "_model_module": "@jupyter-widgets/controls",
      "_model_module_version": "1.5.0",
      "_model_name": "HTMLModel",
      "_view_count": null,
      "_view_module": "@jupyter-widgets/controls",
      "_view_module_version": "1.5.0",
      "_view_name": "HTMLView",
      "description": "",
      "description_tooltip": null,
      "layout": "IPY_MODEL_e8566e1586cb497497ab56154542db0e",
      "placeholder": "​",
      "style": "IPY_MODEL_089112d214f647e481e7bbae0b2e5675",
      "value": " 391/? [00:18&lt;00:00, 20.59it/s]"
     }
    },
    "089112d214f647e481e7bbae0b2e5675": {
     "model_module": "@jupyter-widgets/controls",
     "model_name": "DescriptionStyleModel",
     "state": {
      "_model_module": "@jupyter-widgets/controls",
      "_model_module_version": "1.5.0",
      "_model_name": "DescriptionStyleModel",
      "_view_count": null,
      "_view_module": "@jupyter-widgets/base",
      "_view_module_version": "1.2.0",
      "_view_name": "StyleView",
      "description_width": ""
     }
    },
    "252b759dde604586894e7ba4d61d356f": {
     "model_module": "@jupyter-widgets/base",
     "model_name": "LayoutModel",
     "state": {
      "_model_module": "@jupyter-widgets/base",
      "_model_module_version": "1.2.0",
      "_model_name": "LayoutModel",
      "_view_count": null,
      "_view_module": "@jupyter-widgets/base",
      "_view_module_version": "1.2.0",
      "_view_name": "LayoutView",
      "align_content": null,
      "align_items": null,
      "align_self": null,
      "border": null,
      "bottom": null,
      "display": null,
      "flex": null,
      "flex_flow": null,
      "grid_area": null,
      "grid_auto_columns": null,
      "grid_auto_flow": null,
      "grid_auto_rows": null,
      "grid_column": null,
      "grid_gap": null,
      "grid_row": null,
      "grid_template_areas": null,
      "grid_template_columns": null,
      "grid_template_rows": null,
      "height": null,
      "justify_content": null,
      "justify_items": null,
      "left": null,
      "margin": null,
      "max_height": null,
      "max_width": null,
      "min_height": null,
      "min_width": null,
      "object_fit": null,
      "object_position": null,
      "order": null,
      "overflow": null,
      "overflow_x": null,
      "overflow_y": null,
      "padding": null,
      "right": null,
      "top": null,
      "visibility": null,
      "width": null
     }
    },
    "2847726baebe4b18ab4b8b2909467d66": {
     "model_module": "@jupyter-widgets/controls",
     "model_name": "FloatProgressModel",
     "state": {
      "_dom_classes": [],
      "_model_module": "@jupyter-widgets/controls",
      "_model_module_version": "1.5.0",
      "_model_name": "FloatProgressModel",
      "_view_count": null,
      "_view_module": "@jupyter-widgets/controls",
      "_view_module_version": "1.5.0",
      "_view_name": "ProgressView",
      "bar_style": "success",
      "description": "",
      "description_tooltip": null,
      "layout": "IPY_MODEL_fc8c7fbae412487eb58edc72159a6d74",
      "max": 1,
      "min": 0,
      "orientation": "horizontal",
      "style": "IPY_MODEL_381ea262e5364d88ac66837e026aefc6",
      "value": 1
     }
    },
    "288a1a04590c413388e87c05d5d86dee": {
     "model_module": "@jupyter-widgets/base",
     "model_name": "LayoutModel",
     "state": {
      "_model_module": "@jupyter-widgets/base",
      "_model_module_version": "1.2.0",
      "_model_name": "LayoutModel",
      "_view_count": null,
      "_view_module": "@jupyter-widgets/base",
      "_view_module_version": "1.2.0",
      "_view_name": "LayoutView",
      "align_content": null,
      "align_items": null,
      "align_self": null,
      "border": null,
      "bottom": null,
      "display": null,
      "flex": null,
      "flex_flow": null,
      "grid_area": null,
      "grid_auto_columns": null,
      "grid_auto_flow": null,
      "grid_auto_rows": null,
      "grid_column": null,
      "grid_gap": null,
      "grid_row": null,
      "grid_template_areas": null,
      "grid_template_columns": null,
      "grid_template_rows": null,
      "height": null,
      "justify_content": null,
      "justify_items": null,
      "left": null,
      "margin": null,
      "max_height": null,
      "max_width": null,
      "min_height": null,
      "min_width": null,
      "object_fit": null,
      "object_position": null,
      "order": null,
      "overflow": null,
      "overflow_x": null,
      "overflow_y": null,
      "padding": null,
      "right": null,
      "top": null,
      "visibility": null,
      "width": null
     }
    },
    "29d935d15578476da1762a6e6743a1b3": {
     "model_module": "@jupyter-widgets/base",
     "model_name": "LayoutModel",
     "state": {
      "_model_module": "@jupyter-widgets/base",
      "_model_module_version": "1.2.0",
      "_model_name": "LayoutModel",
      "_view_count": null,
      "_view_module": "@jupyter-widgets/base",
      "_view_module_version": "1.2.0",
      "_view_name": "LayoutView",
      "align_content": null,
      "align_items": null,
      "align_self": null,
      "border": null,
      "bottom": null,
      "display": null,
      "flex": null,
      "flex_flow": null,
      "grid_area": null,
      "grid_auto_columns": null,
      "grid_auto_flow": null,
      "grid_auto_rows": null,
      "grid_column": null,
      "grid_gap": null,
      "grid_row": null,
      "grid_template_areas": null,
      "grid_template_columns": null,
      "grid_template_rows": null,
      "height": null,
      "justify_content": null,
      "justify_items": null,
      "left": null,
      "margin": null,
      "max_height": null,
      "max_width": null,
      "min_height": null,
      "min_width": null,
      "object_fit": null,
      "object_position": null,
      "order": null,
      "overflow": null,
      "overflow_x": null,
      "overflow_y": null,
      "padding": null,
      "right": null,
      "top": null,
      "visibility": null,
      "width": null
     }
    },
    "31dd4a1810214b24bcb04e5a1e6844f4": {
     "model_module": "@jupyter-widgets/base",
     "model_name": "LayoutModel",
     "state": {
      "_model_module": "@jupyter-widgets/base",
      "_model_module_version": "1.2.0",
      "_model_name": "LayoutModel",
      "_view_count": null,
      "_view_module": "@jupyter-widgets/base",
      "_view_module_version": "1.2.0",
      "_view_name": "LayoutView",
      "align_content": null,
      "align_items": null,
      "align_self": null,
      "border": null,
      "bottom": null,
      "display": null,
      "flex": null,
      "flex_flow": null,
      "grid_area": null,
      "grid_auto_columns": null,
      "grid_auto_flow": null,
      "grid_auto_rows": null,
      "grid_column": null,
      "grid_gap": null,
      "grid_row": null,
      "grid_template_areas": null,
      "grid_template_columns": null,
      "grid_template_rows": null,
      "height": null,
      "justify_content": null,
      "justify_items": null,
      "left": null,
      "margin": null,
      "max_height": null,
      "max_width": null,
      "min_height": null,
      "min_width": null,
      "object_fit": null,
      "object_position": null,
      "order": null,
      "overflow": null,
      "overflow_x": null,
      "overflow_y": null,
      "padding": null,
      "right": null,
      "top": null,
      "visibility": null,
      "width": null
     }
    },
    "381ea262e5364d88ac66837e026aefc6": {
     "model_module": "@jupyter-widgets/controls",
     "model_name": "ProgressStyleModel",
     "state": {
      "_model_module": "@jupyter-widgets/controls",
      "_model_module_version": "1.5.0",
      "_model_name": "ProgressStyleModel",
      "_view_count": null,
      "_view_module": "@jupyter-widgets/base",
      "_view_module_version": "1.2.0",
      "_view_name": "StyleView",
      "bar_color": null,
      "description_width": "initial"
     }
    },
    "4ec77aec490e48a48902213af8f6e944": {
     "model_module": "@jupyter-widgets/controls",
     "model_name": "HBoxModel",
     "state": {
      "_dom_classes": [],
      "_model_module": "@jupyter-widgets/controls",
      "_model_module_version": "1.5.0",
      "_model_name": "HBoxModel",
      "_view_count": null,
      "_view_module": "@jupyter-widgets/controls",
      "_view_module_version": "1.5.0",
      "_view_name": "HBoxView",
      "box_style": "",
      "children": [
       "IPY_MODEL_2847726baebe4b18ab4b8b2909467d66",
       "IPY_MODEL_7e94ec81104142e8a5e302eddde54788"
      ],
      "layout": "IPY_MODEL_efea0894a5e2478c8c4f190f23b54c91"
     }
    },
    "4f6867b8f73e4378afe0570329caa640": {
     "model_module": "@jupyter-widgets/base",
     "model_name": "LayoutModel",
     "state": {
      "_model_module": "@jupyter-widgets/base",
      "_model_module_version": "1.2.0",
      "_model_name": "LayoutModel",
      "_view_count": null,
      "_view_module": "@jupyter-widgets/base",
      "_view_module_version": "1.2.0",
      "_view_name": "LayoutView",
      "align_content": null,
      "align_items": null,
      "align_self": null,
      "border": null,
      "bottom": null,
      "display": null,
      "flex": null,
      "flex_flow": null,
      "grid_area": null,
      "grid_auto_columns": null,
      "grid_auto_flow": null,
      "grid_auto_rows": null,
      "grid_column": null,
      "grid_gap": null,
      "grid_row": null,
      "grid_template_areas": null,
      "grid_template_columns": null,
      "grid_template_rows": null,
      "height": null,
      "justify_content": null,
      "justify_items": null,
      "left": null,
      "margin": null,
      "max_height": null,
      "max_width": null,
      "min_height": null,
      "min_width": null,
      "object_fit": null,
      "object_position": null,
      "order": null,
      "overflow": null,
      "overflow_x": null,
      "overflow_y": null,
      "padding": null,
      "right": null,
      "top": null,
      "visibility": null,
      "width": null
     }
    },
    "61b878a5233e4eaaa08a3c64e8ff90e1": {
     "model_module": "@jupyter-widgets/controls",
     "model_name": "HBoxModel",
     "state": {
      "_dom_classes": [],
      "_model_module": "@jupyter-widgets/controls",
      "_model_module_version": "1.5.0",
      "_model_name": "HBoxModel",
      "_view_count": null,
      "_view_module": "@jupyter-widgets/controls",
      "_view_module_version": "1.5.0",
      "_view_name": "HBoxView",
      "box_style": "",
      "children": [
       "IPY_MODEL_718003196463456db24b5f1cbf832df4",
       "IPY_MODEL_0450d96456f842329c0091e5941b3fa6"
      ],
      "layout": "IPY_MODEL_d4c1e5b9086a430094cb7734089737d8"
     }
    },
    "6571a4d361cc4965b6d8e9ced9c5db29": {
     "model_module": "@jupyter-widgets/controls",
     "model_name": "DescriptionStyleModel",
     "state": {
      "_model_module": "@jupyter-widgets/controls",
      "_model_module_version": "1.5.0",
      "_model_name": "DescriptionStyleModel",
      "_view_count": null,
      "_view_module": "@jupyter-widgets/base",
      "_view_module_version": "1.2.0",
      "_view_name": "StyleView",
      "description_width": ""
     }
    },
    "69c48b1112a548768e8dc2573cffb565": {
     "model_module": "@jupyter-widgets/controls",
     "model_name": "HBoxModel",
     "state": {
      "_dom_classes": [],
      "_model_module": "@jupyter-widgets/controls",
      "_model_module_version": "1.5.0",
      "_model_name": "HBoxModel",
      "_view_count": null,
      "_view_module": "@jupyter-widgets/controls",
      "_view_module_version": "1.5.0",
      "_view_name": "HBoxView",
      "box_style": "",
      "children": [
       "IPY_MODEL_ce15eb5d46c143858a309b47bee96105",
       "IPY_MODEL_b05a31a4a17a4a339bd5641d61cacc3c"
      ],
      "layout": "IPY_MODEL_288a1a04590c413388e87c05d5d86dee"
     }
    },
    "6ae7823b32204ba48b0be864669b2602": {
     "model_module": "@jupyter-widgets/controls",
     "model_name": "ProgressStyleModel",
     "state": {
      "_model_module": "@jupyter-widgets/controls",
      "_model_module_version": "1.5.0",
      "_model_name": "ProgressStyleModel",
      "_view_count": null,
      "_view_module": "@jupyter-widgets/base",
      "_view_module_version": "1.2.0",
      "_view_name": "StyleView",
      "bar_color": null,
      "description_width": "initial"
     }
    },
    "707df31d91154630b3316a21b0a21f06": {
     "model_module": "@jupyter-widgets/base",
     "model_name": "LayoutModel",
     "state": {
      "_model_module": "@jupyter-widgets/base",
      "_model_module_version": "1.2.0",
      "_model_name": "LayoutModel",
      "_view_count": null,
      "_view_module": "@jupyter-widgets/base",
      "_view_module_version": "1.2.0",
      "_view_name": "LayoutView",
      "align_content": null,
      "align_items": null,
      "align_self": null,
      "border": null,
      "bottom": null,
      "display": null,
      "flex": null,
      "flex_flow": null,
      "grid_area": null,
      "grid_auto_columns": null,
      "grid_auto_flow": null,
      "grid_auto_rows": null,
      "grid_column": null,
      "grid_gap": null,
      "grid_row": null,
      "grid_template_areas": null,
      "grid_template_columns": null,
      "grid_template_rows": null,
      "height": null,
      "justify_content": null,
      "justify_items": null,
      "left": null,
      "margin": null,
      "max_height": null,
      "max_width": null,
      "min_height": null,
      "min_width": null,
      "object_fit": null,
      "object_position": null,
      "order": null,
      "overflow": null,
      "overflow_x": null,
      "overflow_y": null,
      "padding": null,
      "right": null,
      "top": null,
      "visibility": null,
      "width": null
     }
    },
    "718003196463456db24b5f1cbf832df4": {
     "model_module": "@jupyter-widgets/controls",
     "model_name": "FloatProgressModel",
     "state": {
      "_dom_classes": [],
      "_model_module": "@jupyter-widgets/controls",
      "_model_module_version": "1.5.0",
      "_model_name": "FloatProgressModel",
      "_view_count": null,
      "_view_module": "@jupyter-widgets/controls",
      "_view_module_version": "1.5.0",
      "_view_name": "ProgressView",
      "bar_style": "success",
      "description": "",
      "description_tooltip": null,
      "layout": "IPY_MODEL_252b759dde604586894e7ba4d61d356f",
      "max": 1,
      "min": 0,
      "orientation": "horizontal",
      "style": "IPY_MODEL_6ae7823b32204ba48b0be864669b2602",
      "value": 1
     }
    },
    "7e94ec81104142e8a5e302eddde54788": {
     "model_module": "@jupyter-widgets/controls",
     "model_name": "HTMLModel",
     "state": {
      "_dom_classes": [],
      "_model_module": "@jupyter-widgets/controls",
      "_model_module_version": "1.5.0",
      "_model_name": "HTMLModel",
      "_view_count": null,
      "_view_module": "@jupyter-widgets/controls",
      "_view_module_version": "1.5.0",
      "_view_name": "HTMLView",
      "description": "",
      "description_tooltip": null,
      "layout": "IPY_MODEL_8fcdb7c7924e49df8b02ac4b6d6380dc",
      "placeholder": "​",
      "style": "IPY_MODEL_6571a4d361cc4965b6d8e9ced9c5db29",
      "value": " 391/? [00:19&lt;00:00, 20.51it/s]"
     }
    },
    "8c08a48825b34e2199668c5e6404cea6": {
     "model_module": "@jupyter-widgets/controls",
     "model_name": "FloatProgressModel",
     "state": {
      "_dom_classes": [],
      "_model_module": "@jupyter-widgets/controls",
      "_model_module_version": "1.5.0",
      "_model_name": "FloatProgressModel",
      "_view_count": null,
      "_view_module": "@jupyter-widgets/controls",
      "_view_module_version": "1.5.0",
      "_view_name": "ProgressView",
      "bar_style": "success",
      "description": "",
      "description_tooltip": null,
      "layout": "IPY_MODEL_4f6867b8f73e4378afe0570329caa640",
      "max": 1,
      "min": 0,
      "orientation": "horizontal",
      "style": "IPY_MODEL_c4691b0a0dea4a69bff38f7eaf6e48e3",
      "value": 1
     }
    },
    "8fcdb7c7924e49df8b02ac4b6d6380dc": {
     "model_module": "@jupyter-widgets/base",
     "model_name": "LayoutModel",
     "state": {
      "_model_module": "@jupyter-widgets/base",
      "_model_module_version": "1.2.0",
      "_model_name": "LayoutModel",
      "_view_count": null,
      "_view_module": "@jupyter-widgets/base",
      "_view_module_version": "1.2.0",
      "_view_name": "LayoutView",
      "align_content": null,
      "align_items": null,
      "align_self": null,
      "border": null,
      "bottom": null,
      "display": null,
      "flex": null,
      "flex_flow": null,
      "grid_area": null,
      "grid_auto_columns": null,
      "grid_auto_flow": null,
      "grid_auto_rows": null,
      "grid_column": null,
      "grid_gap": null,
      "grid_row": null,
      "grid_template_areas": null,
      "grid_template_columns": null,
      "grid_template_rows": null,
      "height": null,
      "justify_content": null,
      "justify_items": null,
      "left": null,
      "margin": null,
      "max_height": null,
      "max_width": null,
      "min_height": null,
      "min_width": null,
      "object_fit": null,
      "object_position": null,
      "order": null,
      "overflow": null,
      "overflow_x": null,
      "overflow_y": null,
      "padding": null,
      "right": null,
      "top": null,
      "visibility": null,
      "width": null
     }
    },
    "9d43bc4702774ac9ba757d0cbf12bc81": {
     "model_module": "@jupyter-widgets/base",
     "model_name": "LayoutModel",
     "state": {
      "_model_module": "@jupyter-widgets/base",
      "_model_module_version": "1.2.0",
      "_model_name": "LayoutModel",
      "_view_count": null,
      "_view_module": "@jupyter-widgets/base",
      "_view_module_version": "1.2.0",
      "_view_name": "LayoutView",
      "align_content": null,
      "align_items": null,
      "align_self": null,
      "border": null,
      "bottom": null,
      "display": null,
      "flex": null,
      "flex_flow": null,
      "grid_area": null,
      "grid_auto_columns": null,
      "grid_auto_flow": null,
      "grid_auto_rows": null,
      "grid_column": null,
      "grid_gap": null,
      "grid_row": null,
      "grid_template_areas": null,
      "grid_template_columns": null,
      "grid_template_rows": null,
      "height": null,
      "justify_content": null,
      "justify_items": null,
      "left": null,
      "margin": null,
      "max_height": null,
      "max_width": null,
      "min_height": null,
      "min_width": null,
      "object_fit": null,
      "object_position": null,
      "order": null,
      "overflow": null,
      "overflow_x": null,
      "overflow_y": null,
      "padding": null,
      "right": null,
      "top": null,
      "visibility": null,
      "width": null
     }
    },
    "b05a31a4a17a4a339bd5641d61cacc3c": {
     "model_module": "@jupyter-widgets/controls",
     "model_name": "HTMLModel",
     "state": {
      "_dom_classes": [],
      "_model_module": "@jupyter-widgets/controls",
      "_model_module_version": "1.5.0",
      "_model_name": "HTMLModel",
      "_view_count": null,
      "_view_module": "@jupyter-widgets/controls",
      "_view_module_version": "1.5.0",
      "_view_name": "HTMLView",
      "description": "",
      "description_tooltip": null,
      "layout": "IPY_MODEL_707df31d91154630b3316a21b0a21f06",
      "placeholder": "​",
      "style": "IPY_MODEL_be9ebe4893b84c3392212a9154e1e981",
      "value": " 50/? [00:20&lt;00:00, 20.57it/s]"
     }
    },
    "b3230a75d4ca49c481d26175dcef1478": {
     "model_module": "@jupyter-widgets/controls",
     "model_name": "HTMLModel",
     "state": {
      "_dom_classes": [],
      "_model_module": "@jupyter-widgets/controls",
      "_model_module_version": "1.5.0",
      "_model_name": "HTMLModel",
      "_view_count": null,
      "_view_module": "@jupyter-widgets/controls",
      "_view_module_version": "1.5.0",
      "_view_name": "HTMLView",
      "description": "",
      "description_tooltip": null,
      "layout": "IPY_MODEL_29d935d15578476da1762a6e6743a1b3",
      "placeholder": "​",
      "style": "IPY_MODEL_dfea5246e2fb4563b4029423a070222e",
      "value": " 391/? [00:18&lt;00:00, 20.61it/s]"
     }
    },
    "be9ebe4893b84c3392212a9154e1e981": {
     "model_module": "@jupyter-widgets/controls",
     "model_name": "DescriptionStyleModel",
     "state": {
      "_model_module": "@jupyter-widgets/controls",
      "_model_module_version": "1.5.0",
      "_model_name": "DescriptionStyleModel",
      "_view_count": null,
      "_view_module": "@jupyter-widgets/base",
      "_view_module_version": "1.2.0",
      "_view_name": "StyleView",
      "description_width": ""
     }
    },
    "c4691b0a0dea4a69bff38f7eaf6e48e3": {
     "model_module": "@jupyter-widgets/controls",
     "model_name": "ProgressStyleModel",
     "state": {
      "_model_module": "@jupyter-widgets/controls",
      "_model_module_version": "1.5.0",
      "_model_name": "ProgressStyleModel",
      "_view_count": null,
      "_view_module": "@jupyter-widgets/base",
      "_view_module_version": "1.2.0",
      "_view_name": "StyleView",
      "bar_color": null,
      "description_width": "initial"
     }
    },
    "ce15eb5d46c143858a309b47bee96105": {
     "model_module": "@jupyter-widgets/controls",
     "model_name": "FloatProgressModel",
     "state": {
      "_dom_classes": [],
      "_model_module": "@jupyter-widgets/controls",
      "_model_module_version": "1.5.0",
      "_model_name": "FloatProgressModel",
      "_view_count": null,
      "_view_module": "@jupyter-widgets/controls",
      "_view_module_version": "1.5.0",
      "_view_name": "ProgressView",
      "bar_style": "danger",
      "description": "",
      "description_tooltip": null,
      "layout": "IPY_MODEL_9d43bc4702774ac9ba757d0cbf12bc81",
      "max": 1,
      "min": 0,
      "orientation": "horizontal",
      "style": "IPY_MODEL_d331b4cfba19467f85ed3f46281f8ef4",
      "value": 1
     }
    },
    "d331b4cfba19467f85ed3f46281f8ef4": {
     "model_module": "@jupyter-widgets/controls",
     "model_name": "ProgressStyleModel",
     "state": {
      "_model_module": "@jupyter-widgets/controls",
      "_model_module_version": "1.5.0",
      "_model_name": "ProgressStyleModel",
      "_view_count": null,
      "_view_module": "@jupyter-widgets/base",
      "_view_module_version": "1.2.0",
      "_view_name": "StyleView",
      "bar_color": null,
      "description_width": "initial"
     }
    },
    "d4c1e5b9086a430094cb7734089737d8": {
     "model_module": "@jupyter-widgets/base",
     "model_name": "LayoutModel",
     "state": {
      "_model_module": "@jupyter-widgets/base",
      "_model_module_version": "1.2.0",
      "_model_name": "LayoutModel",
      "_view_count": null,
      "_view_module": "@jupyter-widgets/base",
      "_view_module_version": "1.2.0",
      "_view_name": "LayoutView",
      "align_content": null,
      "align_items": null,
      "align_self": null,
      "border": null,
      "bottom": null,
      "display": null,
      "flex": null,
      "flex_flow": null,
      "grid_area": null,
      "grid_auto_columns": null,
      "grid_auto_flow": null,
      "grid_auto_rows": null,
      "grid_column": null,
      "grid_gap": null,
      "grid_row": null,
      "grid_template_areas": null,
      "grid_template_columns": null,
      "grid_template_rows": null,
      "height": null,
      "justify_content": null,
      "justify_items": null,
      "left": null,
      "margin": null,
      "max_height": null,
      "max_width": null,
      "min_height": null,
      "min_width": null,
      "object_fit": null,
      "object_position": null,
      "order": null,
      "overflow": null,
      "overflow_x": null,
      "overflow_y": null,
      "padding": null,
      "right": null,
      "top": null,
      "visibility": null,
      "width": null
     }
    },
    "dca652bc00ae4b019d67d43118b6f794": {
     "model_module": "@jupyter-widgets/controls",
     "model_name": "HBoxModel",
     "state": {
      "_dom_classes": [],
      "_model_module": "@jupyter-widgets/controls",
      "_model_module_version": "1.5.0",
      "_model_name": "HBoxModel",
      "_view_count": null,
      "_view_module": "@jupyter-widgets/controls",
      "_view_module_version": "1.5.0",
      "_view_name": "HBoxView",
      "box_style": "",
      "children": [
       "IPY_MODEL_8c08a48825b34e2199668c5e6404cea6",
       "IPY_MODEL_b3230a75d4ca49c481d26175dcef1478"
      ],
      "layout": "IPY_MODEL_31dd4a1810214b24bcb04e5a1e6844f4"
     }
    },
    "dfea5246e2fb4563b4029423a070222e": {
     "model_module": "@jupyter-widgets/controls",
     "model_name": "DescriptionStyleModel",
     "state": {
      "_model_module": "@jupyter-widgets/controls",
      "_model_module_version": "1.5.0",
      "_model_name": "DescriptionStyleModel",
      "_view_count": null,
      "_view_module": "@jupyter-widgets/base",
      "_view_module_version": "1.2.0",
      "_view_name": "StyleView",
      "description_width": ""
     }
    },
    "e8566e1586cb497497ab56154542db0e": {
     "model_module": "@jupyter-widgets/base",
     "model_name": "LayoutModel",
     "state": {
      "_model_module": "@jupyter-widgets/base",
      "_model_module_version": "1.2.0",
      "_model_name": "LayoutModel",
      "_view_count": null,
      "_view_module": "@jupyter-widgets/base",
      "_view_module_version": "1.2.0",
      "_view_name": "LayoutView",
      "align_content": null,
      "align_items": null,
      "align_self": null,
      "border": null,
      "bottom": null,
      "display": null,
      "flex": null,
      "flex_flow": null,
      "grid_area": null,
      "grid_auto_columns": null,
      "grid_auto_flow": null,
      "grid_auto_rows": null,
      "grid_column": null,
      "grid_gap": null,
      "grid_row": null,
      "grid_template_areas": null,
      "grid_template_columns": null,
      "grid_template_rows": null,
      "height": null,
      "justify_content": null,
      "justify_items": null,
      "left": null,
      "margin": null,
      "max_height": null,
      "max_width": null,
      "min_height": null,
      "min_width": null,
      "object_fit": null,
      "object_position": null,
      "order": null,
      "overflow": null,
      "overflow_x": null,
      "overflow_y": null,
      "padding": null,
      "right": null,
      "top": null,
      "visibility": null,
      "width": null
     }
    },
    "efea0894a5e2478c8c4f190f23b54c91": {
     "model_module": "@jupyter-widgets/base",
     "model_name": "LayoutModel",
     "state": {
      "_model_module": "@jupyter-widgets/base",
      "_model_module_version": "1.2.0",
      "_model_name": "LayoutModel",
      "_view_count": null,
      "_view_module": "@jupyter-widgets/base",
      "_view_module_version": "1.2.0",
      "_view_name": "LayoutView",
      "align_content": null,
      "align_items": null,
      "align_self": null,
      "border": null,
      "bottom": null,
      "display": null,
      "flex": null,
      "flex_flow": null,
      "grid_area": null,
      "grid_auto_columns": null,
      "grid_auto_flow": null,
      "grid_auto_rows": null,
      "grid_column": null,
      "grid_gap": null,
      "grid_row": null,
      "grid_template_areas": null,
      "grid_template_columns": null,
      "grid_template_rows": null,
      "height": null,
      "justify_content": null,
      "justify_items": null,
      "left": null,
      "margin": null,
      "max_height": null,
      "max_width": null,
      "min_height": null,
      "min_width": null,
      "object_fit": null,
      "object_position": null,
      "order": null,
      "overflow": null,
      "overflow_x": null,
      "overflow_y": null,
      "padding": null,
      "right": null,
      "top": null,
      "visibility": null,
      "width": null
     }
    },
    "fc8c7fbae412487eb58edc72159a6d74": {
     "model_module": "@jupyter-widgets/base",
     "model_name": "LayoutModel",
     "state": {
      "_model_module": "@jupyter-widgets/base",
      "_model_module_version": "1.2.0",
      "_model_name": "LayoutModel",
      "_view_count": null,
      "_view_module": "@jupyter-widgets/base",
      "_view_module_version": "1.2.0",
      "_view_name": "LayoutView",
      "align_content": null,
      "align_items": null,
      "align_self": null,
      "border": null,
      "bottom": null,
      "display": null,
      "flex": null,
      "flex_flow": null,
      "grid_area": null,
      "grid_auto_columns": null,
      "grid_auto_flow": null,
      "grid_auto_rows": null,
      "grid_column": null,
      "grid_gap": null,
      "grid_row": null,
      "grid_template_areas": null,
      "grid_template_columns": null,
      "grid_template_rows": null,
      "height": null,
      "justify_content": null,
      "justify_items": null,
      "left": null,
      "margin": null,
      "max_height": null,
      "max_width": null,
      "min_height": null,
      "min_width": null,
      "object_fit": null,
      "object_position": null,
      "order": null,
      "overflow": null,
      "overflow_x": null,
      "overflow_y": null,
      "padding": null,
      "right": null,
      "top": null,
      "visibility": null,
      "width": null
     }
    }
   }
  }
 },
 "nbformat": 4,
 "nbformat_minor": 1
}
